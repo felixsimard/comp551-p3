{
  "nbformat": 4,
  "nbformat_minor": 0,
  "metadata": {
    "colab": {
      "name": "Felix-Exploration-2.ipynb",
      "provenance": [],
      "include_colab_link": true
    },
    "kernelspec": {
      "name": "python3",
      "display_name": "Python 3"
    },
    "language_info": {
      "name": "python"
    },
    "accelerator": "GPU"
  },
  "cells": [
    {
      "cell_type": "markdown",
      "metadata": {
        "id": "view-in-github",
        "colab_type": "text"
      },
      "source": [
        "<a href=\"https://colab.research.google.com/github/felixsimard/comp551-p3/blob/main/Felix_Exploration_2.ipynb\" target=\"_parent\"><img src=\"https://colab.research.google.com/assets/colab-badge.svg\" alt=\"Open In Colab\"/></a>"
      ]
    },
    {
      "cell_type": "code",
      "metadata": {
        "id": "j9d--OU0IF0S"
      },
      "source": [
        "# Felix's Notebook #2 for exploring the assignment"
      ],
      "execution_count": 30,
      "outputs": []
    },
    {
      "cell_type": "code",
      "metadata": {
        "id": "3yNW2EISINDi"
      },
      "source": [
        "import torch\n",
        "import torch.nn as nn\n",
        "import torch.nn.functional as F\n",
        "import torchvision\n",
        "import torchvision.transforms as transforms\n",
        "from torch.utils.data import TensorDataset, DataLoader, Dataset\n",
        "import matplotlib.pyplot as plt\n",
        "import numpy as np\n",
        "import pandas as pd\n",
        "import pickle\n",
        "from PIL import Image\n",
        "from sklearn import preprocessing\n",
        "from tqdm import tqdm\n",
        "import math\n",
        "import string\n",
        "import cv2"
      ],
      "execution_count": 31,
      "outputs": []
    },
    {
      "cell_type": "code",
      "metadata": {
        "id": "Xgfx5EC0kW8V",
        "colab": {
          "base_uri": "https://localhost:8080/"
        },
        "outputId": "e3399752-ef4d-4025-d3bb-5a6b74859740"
      },
      "source": [
        "# Device configuration\n",
        "device = torch.device('cuda:0' if torch.cuda.is_available() else 'cpu')\n",
        "print(device)"
      ],
      "execution_count": 32,
      "outputs": [
        {
          "output_type": "stream",
          "name": "stdout",
          "text": [
            "cuda:0\n"
          ]
        }
      ]
    },
    {
      "cell_type": "code",
      "metadata": {
        "id": "v3doYI1lAbe9"
      },
      "source": [
        "def imshow(img):\n",
        "    img = img / 2 + 0.5     # unnormalize\n",
        "    npimg = img.numpy()\n",
        "    plt.imshow(np.transpose(npimg, (1, 2, 0)))\n",
        "    plt.show()"
      ],
      "execution_count": 33,
      "outputs": []
    },
    {
      "cell_type": "code",
      "metadata": {
        "id": "1jRaz4Q8BEO5"
      },
      "source": [
        "def get_label_value(labels):\n",
        "  \"\"\"\n",
        "  This function will return a string representing the label of a picture given\n",
        "  the array label as input:\n",
        "  Ex ouput: '1a', '4z' ...\n",
        "  \"\"\"\n",
        "  label_temp = labels.tolist()\n",
        "  label_temp = [int(x) for x in label_temp]\n",
        "  number = label_temp[:10].index(1)\n",
        "  letter = alpha_dict[label_temp[10:].index(1)]\n",
        "\n",
        "  return str(number) + str(letter)"
      ],
      "execution_count": 34,
      "outputs": []
    },
    {
      "cell_type": "code",
      "metadata": {
        "id": "IyZ_vYDKKFnf"
      },
      "source": [
        "def transform_output(scores):\n",
        "    \"\"\"\n",
        "    Input a Tensor and output will be another Tensor with same dimension but with all elements 0 except two.\n",
        "    Those 2 elements will have value of 1 and will correspond to the models prediction about which letter and number\n",
        "    is in the image.\n",
        "    :param scores:\n",
        "    :return:\n",
        "    \"\"\"\n",
        "    return_array = []\n",
        "    score_list = scores.tolist()\n",
        "\n",
        "    for score in score_list:\n",
        "        numbers = score[:10]\n",
        "        letters = score[10:]\n",
        "        test = lambda x, max_value : 1 if x >= max_value else 0\n",
        "\n",
        "        new_numbers = [test(x, max(numbers)) for x in numbers]\n",
        "        new_letters = [test(x, max(letters)) for x in letters]\n",
        "\n",
        "        return_array.append(new_numbers + new_letters)\n",
        "\n",
        "    return return_array"
      ],
      "execution_count": 35,
      "outputs": []
    },
    {
      "cell_type": "code",
      "metadata": {
        "id": "batbKOaCj6fa",
        "colab": {
          "base_uri": "https://localhost:8080/"
        },
        "outputId": "255da58b-c9d4-4abe-aa80-00569de8872f"
      },
      "source": [
        "from google.colab import drive\n",
        "drive.mount(\"/content/drive\")\n",
        "def load_data(filename, data_path='/content/drive/MyDrive/P3-COMP551-FALL2021/'):\n",
        "    loaded_pkl = None\n",
        "    try:\n",
        "        pkl_buffered = open(data_path+''+filename,'rb')\n",
        "        loaded_pkl = pickle.load(pkl_buffered)\n",
        "    except Exception as e:\n",
        "        print(\"Error loading data: {}\".format(e))\n",
        "    return loaded_pkl\n",
        "    "
      ],
      "execution_count": 36,
      "outputs": [
        {
          "output_type": "stream",
          "name": "stdout",
          "text": [
            "Drive already mounted at /content/drive; to attempt to forcibly remount, call drive.mount(\"/content/drive\", force_remount=True).\n"
          ]
        }
      ]
    },
    {
      "cell_type": "code",
      "metadata": {
        "id": "iuvaFp3CvYH-",
        "colab": {
          "base_uri": "https://localhost:8080/"
        },
        "outputId": "898f4c13-c65d-4188-86d4-808659df2e0e"
      },
      "source": [
        "# Load data\n",
        "# make sure to add a dimension to loaded pickles to respect dimensions required by Conv2D layers\n",
        "train_l = load_data(\"images_l.pkl\")[:, None]\n",
        "train_ul = load_data(\"images_ul.pkl\")[:, None]\n",
        "train_labels_l = load_data(\"labels_l.pkl\")\n",
        "train_labels_ul = load_data(\"labels_ul.pkl\") # NEWLY CREATED PKL\n",
        "test_ul = load_data(\"images_test.pkl\")[:, None]\n",
        "\n",
        "print(\"Train:\", train_l.shape)\n",
        "print(\"Train UL:\", train_ul.shape)\n",
        "print(\"Train labels:\", type(train_labels_l), train_labels_l.shape)\n",
        "print(\"Train unlabled labels:\", type(train_labels_ul), train_labels_ul.shape)\n",
        "print(\"Test:\", test_ul.shape)"
      ],
      "execution_count": 37,
      "outputs": [
        {
          "output_type": "stream",
          "name": "stdout",
          "text": [
            "Train: (30000, 1, 56, 56)\n",
            "Train UL: (30000, 1, 56, 56)\n",
            "Train labels: <class 'numpy.ndarray'> (30000, 36) [[0. 0. 0. ... 0. 0. 0.]\n",
            " [0. 0. 0. ... 0. 0. 0.]\n",
            " [0. 0. 0. ... 0. 0. 0.]\n",
            " ...\n",
            " [0. 0. 1. ... 0. 0. 0.]\n",
            " [0. 0. 0. ... 0. 0. 0.]\n",
            " [0. 0. 0. ... 0. 0. 0.]]\n",
            "Train unlabled labels: <class 'numpy.ndarray'> (30000, 36) [[0. 0. 0. ... 0. 0. 0.]\n",
            " [0. 1. 0. ... 0. 0. 0.]\n",
            " [0. 0. 0. ... 0. 0. 0.]\n",
            " ...\n",
            " [0. 0. 0. ... 0. 0. 0.]\n",
            " [0. 0. 0. ... 0. 0. 0.]\n",
            " [0. 0. 0. ... 0. 0. 0.]]\n",
            "Test: (15000, 1, 56, 56)\n"
          ]
        }
      ]
    },
    {
      "cell_type": "code",
      "metadata": {
        "id": "hwO8NOgHkd23"
      },
      "source": [
        "# Reference: https://stackoverflow.com/questions/44429199/how-to-load-a-list-of-numpy-arrays-to-pytorch-dataset-loader\n",
        "class CustomDataset(Dataset):\n",
        "    def __init__(self, data, targets=None, transform=None, transform_target=None):\n",
        "        self.data = torch.from_numpy(data).float()\n",
        "        self.targets = torch.from_numpy(targets).float() if targets is not None else None\n",
        "        self.transform = transform\n",
        "        self.transform_target = transform_target\n",
        "        \n",
        "    def __getitem__(self, index):\n",
        "        x = self.data[index]\n",
        "\n",
        "        # Apply median-filtering to remove salt-pepper noise\n",
        "        # tmp = x.cpu().detach().numpy()\n",
        "        # tmp = np.squeeze(tmp, axis=0)\n",
        "        # img = Image.fromarray((tmp*255).astype(np.uint8))\n",
        "        # result = cv2.medianBlur(np.array(img), 1)\n",
        "        # x = torch.from_numpy(result).float().to(device)\n",
        "        # x = x.unsqueeze(0)\n",
        "\n",
        "        y = np.zeros(36, dtype=float)\n",
        "\n",
        "        if self.targets is not None:\n",
        "            y = self.targets[index]\n",
        "        else:\n",
        "            None\n",
        "        if self.transform:\n",
        "            x = self.transform(x)\n",
        "        if self.transform_target:\n",
        "            y = self.transform_target(y)\n",
        "        \n",
        "        return x, y\n",
        "    \n",
        "    \n",
        "    def __len__(self):\n",
        "        return len(self.data)"
      ],
      "execution_count": 38,
      "outputs": []
    },
    {
      "cell_type": "code",
      "metadata": {
        "id": "mDFiIo7cRWsN"
      },
      "source": [
        "# Hyper-parameters\n",
        "NUM_EPOCHS = 20\n",
        "BATCH_SIZE = 64\n",
        "NUM_CHANNELS = 1\n",
        "NUM_CLASSES = 36\n",
        "LEARNING_RATE = 0.001\n",
        "MOMENTUM = 0.9\n",
        "WEIGHT_DECAY = 0.0001\n",
        "TRAIN_TEST_SPLIT = 0.30\n",
        "FLATTEN_IMG_SIZE = 3136\n",
        "PRODUCTION = True\n",
        "LABELLING = False"
      ],
      "execution_count": 39,
      "outputs": []
    },
    {
      "cell_type": "code",
      "metadata": {
        "id": "F_X-KfukA00R",
        "colab": {
          "base_uri": "https://localhost:8080/"
        },
        "outputId": "1d5a319a-a357-42c6-8cd0-9c4cd28c50a3"
      },
      "source": [
        "# Tensor, Transform, Datasets, Dataloaders\n",
        "\n",
        "# Split into training and validation\n",
        "split_index_l = math.floor(len(train_labels_l)*TRAIN_TEST_SPLIT)\n",
        "split_index_l_ul = math.floor((len(train_labels_l)+len(train_ul))*TRAIN_TEST_SPLIT)\n",
        "\n",
        "\n",
        "full_train_l = train_l\n",
        "train_l_ul = np.concatenate((full_train_l, train_ul))\n",
        "full_train_l_ul = train_l_ul\n",
        "\n",
        "val_l_ul = train_l_ul[:split_index_l_ul]\n",
        "val_l = train_l[:split_index_l]\n",
        "train_l = train_l[split_index_l:]\n",
        "train_l_ul = train_l_ul[split_index_l_ul:]\n",
        "\n",
        "full_train_labels_l = train_labels_l\n",
        "train_labels_l_ul = np.concatenate((full_train_labels_l, train_labels_ul))\n",
        "full_train_labels_l_ul = train_labels_l_ul\n",
        "\n",
        "val_labels_l_ul = train_labels_l_ul[:split_index_l_ul]\n",
        "val_labels_l = train_labels_l[:split_index_l]\n",
        "train_labels_l = train_labels_l[split_index_l:]\n",
        "train_labels_l_ul = train_labels_l_ul[split_index_l_ul:]\n",
        "\n",
        "print(\"Full training:\", full_train_l.shape, full_train_labels_l.shape)\n",
        "print(\"Full training labeled and unlabeled:\", full_train_l_ul.shape, full_train_labels_l_ul.shape)\n",
        "print(\"Split Training:\", train_l.shape, train_labels_l.shape)\n",
        "print(\"Validation:\", val_l.shape, val_labels_l.shape)"
      ],
      "execution_count": 40,
      "outputs": [
        {
          "output_type": "stream",
          "name": "stdout",
          "text": [
            "Full training: (30000, 1, 56, 56) (30000, 36)\n",
            "Full training labeled and unlabeled: (60000, 1, 56, 56) (60000, 36)\n",
            "Split Training: (21000, 1, 56, 56) (21000, 36)\n",
            "Validation: (9000, 1, 56, 56) (9000, 36)\n"
          ]
        }
      ]
    },
    {
      "cell_type": "code",
      "metadata": {
        "id": "AAIFBUw8wVHM",
        "colab": {
          "base_uri": "https://localhost:8080/",
          "height": 482
        },
        "outputId": "53ced341-b2f8-4321-fb51-4da902576597"
      },
      "source": [
        "# Visualize some data\n",
        "alpha_dict = dict(enumerate(string.ascii_lowercase))\n",
        "figure = plt.figure(figsize=(20, 8))\n",
        "cols, rows = 4, 2\n",
        "for i in range(1, cols * rows + 1):\n",
        "    sample_idx = torch.randint(len(train_l), size=(1,)).item()\n",
        "    img = train_l[sample_idx]\n",
        "    label = get_label_value(train_labels_l[sample_idx])\n",
        "    figure.add_subplot(rows, cols, i)\n",
        "    plt.title(label)\n",
        "    plt.axis(\"off\")\n",
        "    plt.imshow(img.squeeze())\n",
        "plt.show()"
      ],
      "execution_count": 41,
      "outputs": [
        {
          "output_type": "display_data",
          "data": {
            "image/png": "[encoded data removed]",
            "text/plain": [
              "<Figure size 1440x576 with 8 Axes>"
            ]
          },
          "metadata": {
            "needs_background": "light"
          }
        }
      ]
    },
    {
      "cell_type": "code",
      "metadata": {
        "id": "AH4dl7Uhv9cy"
      },
      "source": [
        "# Turn data and labels into Datasets then DataLoaders\n",
        "\n",
        "# Transform function\n",
        "mean = (0.5,)\n",
        "std = (0.5,)\n",
        "transform = transforms.Compose(\n",
        "    [transforms.Resize(56),\n",
        "     transforms.Normalize(mean=mean, std=std)\n",
        "     ])\n",
        "\n",
        "# DataLoaders\n",
        "full_train_l_dataloader = DataLoader(CustomDataset(full_train_l, full_train_labels_l, transform=None), shuffle=True, batch_size=BATCH_SIZE)\n",
        "full_train_l_ul_dataloader = DataLoader(CustomDataset(full_train_l_ul, full_train_labels_l_ul, transform=None), shuffle=True, batch_size=BATCH_SIZE)\n",
        "train_l_dataloader = DataLoader(CustomDataset(train_l, train_labels_l, transform=None), shuffle=True, batch_size=BATCH_SIZE)\n",
        "train_l_ul_dataloader = DataLoader(CustomDataset(train_l_ul, train_labels_l_ul, transform=None), shuffle=True, batch_size=BATCH_SIZE)\n",
        "val_l_dataloader = DataLoader(CustomDataset(val_l, val_labels_l, transform=None), shuffle=False)\n",
        "val_l_ul_dataloader = DataLoader(CustomDataset(val_l_ul, val_labels_l_ul, transform=None), shuffle=False)\n",
        "\n",
        "# Raw unlabeled dataset\n",
        "train_ul_labels = np.zeros(shape=(len(train_ul), 36))\n",
        "train_ul_dataloader = DataLoader(CustomDataset(train_ul, train_ul_labels, transform=None), batch_size=BATCH_SIZE, shuffle=False)\n",
        "\n",
        "# Test set for Kaggle\n",
        "test_labels_ul = np.zeros(shape=(len(test_ul), 36))\n",
        "test_ul_dataloader = DataLoader(CustomDataset(test_ul, test_labels_ul, transform=None), batch_size=BATCH_SIZE, shuffle=False)"
      ],
      "execution_count": 42,
      "outputs": []
    },
    {
      "cell_type": "code",
      "metadata": {
        "colab": {
          "base_uri": "https://localhost:8080/",
          "height": 286
        },
        "id": "XwMpNWGhcCpd",
        "outputId": "b683cb49-d477-471b-c223-4a4249eaf6af"
      },
      "source": [
        "imgs, labels = next(iter(full_train_l_dataloader))\n",
        "\n",
        "imshow(torchvision.utils.make_grid(imgs.cpu()))\n"
      ],
      "execution_count": 43,
      "outputs": [
        {
          "output_type": "stream",
          "name": "stderr",
          "text": [
            "Clipping input data to the valid range for imshow with RGB data ([0..1] for floats or [0..255] for integers).\n"
          ]
        },
        {
          "output_type": "display_data",
          "data": {
            "image/png": "[encoded data removed]",
            "text/plain": [
              "<Figure size 432x288 with 1 Axes>"
            ]
          },
          "metadata": {
            "needs_background": "light"
          }
        }
      ]
    },
    {
      "cell_type": "code",
      "metadata": {
        "id": "ooBvvB2DE4Vc"
      },
      "source": [
        "# # Implement CONV Net\n",
        "\n",
        "\n",
        "# # # VGG11 Conv Net\n",
        "# # class ConvNet_VGG11(nn.Module):\n",
        "# #     def __init__(self, in_channels=NUM_CHANNELS, num_classes=NUM_CLASSES):\n",
        "# #         super(ConvNet_VGG11, self).__init__()\n",
        "# #         self.in_channels = in_channels\n",
        "# #         self.num_classes = num_classes\n",
        "# #         # convolution layers\n",
        "\n",
        "# #         self.block1_conv1 = nn.Sequential(\n",
        "# #             nn.Conv2d(self.in_channels, 64, kernel_size=3, padding=1),\n",
        "# #             nn.ReLU(),\n",
        "# #             nn.MaxPool2d(kernel_size=2, stride=2)\n",
        "# #         )\n",
        "\n",
        "# #         self.block2_conv1 = nn.Sequential(\n",
        "# #             nn.Conv2d(64, 128, kernel_size=3, padding=1),\n",
        "# #             nn.ReLU(),\n",
        "# #             nn.MaxPool2d(kernel_size=2, stride=2)\n",
        "# #         )\n",
        "\n",
        "# #         self.block3_conv1 = nn.Sequential(\n",
        "# #             nn.Conv2d(128, 256, kernel_size=3, padding=1),\n",
        "# #             nn.ReLU(),\n",
        "# #             nn.Conv2d(256, 256, kernel_size=3, padding=1),\n",
        "# #             nn.ReLU(),\n",
        "# #             nn.MaxPool2d(kernel_size=2, stride=2)\n",
        "# #         )\n",
        "\n",
        "# #         self.block4_conv1 = nn.Sequential(\n",
        "# #             nn.Conv2d(256, 512, kernel_size=3, padding=1),\n",
        "# #             nn.ReLU(),\n",
        "# #             nn.Conv2d(512, 512, kernel_size=3, padding=1),\n",
        "# #             nn.ReLU(),\n",
        "# #             nn.MaxPool2d(kernel_size=2, stride=2)\n",
        "# #         )\n",
        "\n",
        "# #         self.block5_conv1 = nn.Sequential(\n",
        "# #             nn.Conv2d(512, 512, kernel_size=3, padding=1),\n",
        "# #             nn.ReLU(),\n",
        "# #             nn.Conv2d(512, 512, kernel_size=3, padding=1),\n",
        "# #             nn.ReLU(),\n",
        "# #             nn.MaxPool2d(kernel_size=2, stride=2)\n",
        "# #         )\n",
        "\n",
        "# #         self.linear_layers = nn.Sequential(\n",
        "# #             nn.Linear(in_features=512, out_features=4096),\n",
        "# #             nn.ReLU(),\n",
        "# #             nn.Dropout2d(0.5),\n",
        "# #             nn.Linear(in_features=4096, out_features=4096),\n",
        "# #             nn.ReLU(),\n",
        "# #             nn.Dropout2d(0.5),\n",
        "# #             nn.Linear(in_features=4096, out_features=self.num_classes)\n",
        "# #         )\n",
        "\n",
        "# #     def forward(self, x):\n",
        "# #         x = self.block1_conv1(x)\n",
        "# #         x = self.block2_conv1(x)\n",
        "# #         x = self.block3_conv1(x)\n",
        "# #         x = self.block4_conv1(x)\n",
        "# #         x = self.block5_conv1(x)\n",
        "# #         # flatten to prepare for the fully connected layers\n",
        "# #         x = x.view(x.size(0), -1)\n",
        "# #         x = self.linear_layers(x)\n",
        "# #         return x\n",
        "\n",
        "# # ConvNet\n",
        "# class ConvNet(nn.Module):\n",
        "#     def __init__(self, in_channels=NUM_CHANNELS, num_classes=NUM_CLASSES):\n",
        "#         super().__init__() \n",
        "#         self.in_channels = in_channels\n",
        "#         self.num_classes = num_classes\n",
        "#         self.conv_block1 = nn.Sequential(\n",
        "#             nn.Conv2d(self.in_channels, 16, 3), # (b_sz, 1, 56, 56) --> (b_sz, 16, 54, 54)\n",
        "#             nn.MaxPool2d(3), # (b_sz, 16, 54, 54) --> (b_sz, 16, 18, 18)\n",
        "#             nn.ReLU()\n",
        "#         )\n",
        "#         self.conv_block2 = nn.Sequential(\n",
        "#             nn.Conv2d(16, 32, 3), # (b_sz, 16, 18, 18) --> (b_sz, 32, 16, 16)\n",
        "#             nn.MaxPool2d(2), # (b_sz, 32, 16, 16) --> (b_sz, 32, 8, 8)\n",
        "#             nn.ReLU()\n",
        "#         )\n",
        "#         self.conv_block3 = nn.Sequential(\n",
        "#             nn.Conv2d(32, 64, 3), # (b_sz, 32, 8, 8) --> (b_sz, 64, 6, 6)\n",
        "#             nn.MaxPool2d(2), # (b_sz, 64, 6, 6) --> (b_sz, 64, 3, 3)\n",
        "#             nn.ReLU()\n",
        "#         )\n",
        "#         self.linear_layers = nn.Sequential(\n",
        "#             nn.Linear(64*3*3, 1024),\n",
        "#             nn.ReLU(),\n",
        "#             nn.Linear(1024, self.num_classes), \n",
        "#         )\n",
        "    \n",
        "#     def forward(self, x):\n",
        "#         x = self.conv_block1(x)\n",
        "#         x = self.conv_block2(x)\n",
        "#         x = self.conv_block3(x)\n",
        "#         x = x.view(x.size()[0], -1)\n",
        "#         x = self.linear_layers(x)\n",
        "#         return x\n",
        "\n",
        "# model = ConvNet().to(device)"
      ],
      "execution_count": 44,
      "outputs": []
    },
    {
      "cell_type": "code",
      "metadata": {
        "id": "Yc2s6YwqN28x"
      },
      "source": [
        "# Test model flow, check output size, shoudl be [batchs_size, num_classes]\n",
        "# dummy_model = ConvNet()\n",
        "# random_input = torch.rand(BATCH_SIZE, 1, 56, 56)\n",
        "# print(random_input.shape)\n",
        "# output = dummy_model(random_input)\n",
        "# print(output.shape)"
      ],
      "execution_count": 45,
      "outputs": []
    },
    {
      "cell_type": "code",
      "metadata": {
        "id": "n6Lrt1pstW72"
      },
      "source": [
        "# Methods to calculate some accuracy metrics\n",
        "def convert_outputs_to_preds(outputs):\n",
        "    preds = np.empty(shape=(len(outputs), 36))\n",
        "    for i, output in enumerate(outputs):\n",
        "        pred = np.zeros(36)\n",
        "        digit_index = np.argmax(output[:11])\n",
        "        letter_index = np.argmax(output[11:]) + 11\n",
        "        pred[digit_index], pred[letter_index] = 1, 1\n",
        "        preds[i] = pred\n",
        "    return preds\n",
        "    \n",
        "def correct_digits(preds, labels):\n",
        "    return np.map((preds, labek))\n",
        "\n",
        "def correct_letters(preds, labels):\n",
        "    return np.array_equal(pred[11:],label[11:])\n",
        "\n",
        "def get_accuracy(preds, labels):\n",
        "    preds_str = convert_labels_to_strings(preds)\n",
        "    labels_str = convert_labels_to_strings(labels)\n",
        "    correct_preds = np.equal(preds_str, labels_str)\n",
        "    return correct_preds.sum() / len(labels)\n",
        "\n",
        "def check_prediction(preds, labels):\n",
        "    return np.equal(preds, labels)\n",
        "\n",
        "def print_model_weights(model):\n",
        "    for name, param in model.named_parameters():\n",
        "      print(name, param.size())    \n",
        "\n",
        "def convert_labels_to_strings(labels):\n",
        "  result = np.empty(len(labels)).astype('object')\n",
        "  for i, pred in enumerate(labels):\n",
        "    prediction = ''\n",
        "    for elem in pred:\n",
        "      prediction = prediction + str(int(elem))\n",
        "    result[i] = prediction\n",
        "  return result"
      ],
      "execution_count": 46,
      "outputs": []
    },
    {
      "cell_type": "markdown",
      "metadata": {
        "id": "1WEuXtvvcw5E"
      },
      "source": [
        "Using AlexNet model adaptation as out network architecture.\n",
        "\n",
        "[reference](https://pytorch.org/hub/pytorch_vision_alexnet/)\n",
        "\n"
      ]
    },
    {
      "cell_type": "code",
      "metadata": {
        "id": "v7JSTrH9dAQM",
        "colab": {
          "base_uri": "https://localhost:8080/"
        },
        "outputId": "2afaac83-d8e6-4227-d587-a8787010d907"
      },
      "source": [
        "# visualize how the AlexNet model is built\n",
        "alex_net_model = torch.hub.load('pytorch/vision:v0.10.0', 'alexnet', pretrained=False)\n",
        "alex_net_model"
      ],
      "execution_count": 47,
      "outputs": [
        {
          "output_type": "stream",
          "name": "stderr",
          "text": [
            "Using cache found in /root/.cache/torch/hub/pytorch_vision_v0.10.0\n"
          ]
        },
        {
          "output_type": "execute_result",
          "data": {
            "text/plain": [
              "AlexNet(\n",
              "  (features): Sequential(\n",
              "    (0): Conv2d(3, 64, kernel_size=(11, 11), stride=(4, 4), padding=(2, 2))\n",
              "    (1): ReLU(inplace=True)\n",
              "    (2): MaxPool2d(kernel_size=3, stride=2, padding=0, dilation=1, ceil_mode=False)\n",
              "    (3): Conv2d(64, 192, kernel_size=(5, 5), stride=(1, 1), padding=(2, 2))\n",
              "    (4): ReLU(inplace=True)\n",
              "    (5): MaxPool2d(kernel_size=3, stride=2, padding=0, dilation=1, ceil_mode=False)\n",
              "    (6): Conv2d(192, 384, kernel_size=(3, 3), stride=(1, 1), padding=(1, 1))\n",
              "    (7): ReLU(inplace=True)\n",
              "    (8): Conv2d(384, 256, kernel_size=(3, 3), stride=(1, 1), padding=(1, 1))\n",
              "    (9): ReLU(inplace=True)\n",
              "    (10): Conv2d(256, 256, kernel_size=(3, 3), stride=(1, 1), padding=(1, 1))\n",
              "    (11): ReLU(inplace=True)\n",
              "    (12): MaxPool2d(kernel_size=3, stride=2, padding=0, dilation=1, ceil_mode=False)\n",
              "  )\n",
              "  (avgpool): AdaptiveAvgPool2d(output_size=(6, 6))\n",
              "  (classifier): Sequential(\n",
              "    (0): Dropout(p=0.5, inplace=False)\n",
              "    (1): Linear(in_features=9216, out_features=4096, bias=True)\n",
              "    (2): ReLU(inplace=True)\n",
              "    (3): Dropout(p=0.5, inplace=False)\n",
              "    (4): Linear(in_features=4096, out_features=4096, bias=True)\n",
              "    (5): ReLU(inplace=True)\n",
              "    (6): Linear(in_features=4096, out_features=1000, bias=True)\n",
              "  )\n",
              ")"
            ]
          },
          "metadata": {},
          "execution_count": 47
        }
      ]
    },
    {
      "cell_type": "code",
      "metadata": {
        "id": "ARseyVaqdEik"
      },
      "source": [
        "class AlexNet_CNN(nn.Module):\n",
        "    def __init__(self, in_channels=NUM_CHANNELS, num_classes=NUM_CLASSES):\n",
        "        super().__init__() # invoke the parent constructor\n",
        "        self.in_channels = in_channels\n",
        "        self.num_classes = num_classes\n",
        "        self.conv_block1 = nn.Sequential(\n",
        "            nn.Conv2d(self.in_channels, 32, kernel_size=5, padding=2), # (b_sz, 1, 56, 56) --> (b_sz, 16, 56, 56)\n",
        "            nn.MaxPool2d(2), # (b_sz, 32, 56, 56) --> (b_sz, 32, 28, 28)\n",
        "            nn.BatchNorm2d(32),\n",
        "            nn.ReLU()\n",
        "        )\n",
        "        self.conv_block2 = nn.Sequential(\n",
        "            nn.Conv2d(32, 64, kernel_size=3, padding=1), # (b_sz, 32, 28, 28) --> (b_sz, 64, 28, 28)\n",
        "            nn.MaxPool2d(2), # (b_sz, 64, 28, 28) --> (b_sz, 64, 14, 14)\n",
        "            nn.BatchNorm2d(64),\n",
        "            nn.ReLU()\n",
        "        )\n",
        "        self.conv_block3 = nn.Sequential(\n",
        "            nn.Conv2d(64, 128, kernel_size=3, padding=1), # (b_sz, 64, 14, 14) --> (b_sz, 128, 14, 14)\n",
        "            #nn.MaxPool2d(2), # (b_sz, 128, 14, 14) --> (b_sz, 128, 7, 7)\n",
        "            nn.BatchNorm2d(128),\n",
        "            nn.ReLU()\n",
        "        )\n",
        "        self.conv_block4 = nn.Sequential(\n",
        "            nn.Conv2d(128, 84, kernel_size=3, padding=1), # (b_sz, 128, 14, 14) --> (b_sz, 84, 14, 14)\n",
        "            nn.BatchNorm2d(84),\n",
        "            nn.ReLU(),\n",
        "            nn.Conv2d(84, 84, kernel_size=3, padding=1), # (b_sz, 84, 14, 14) --> (b_sz, 84, 14, 14),\n",
        "            nn.BatchNorm2d(84),\n",
        "            nn.ReLU()\n",
        "        )\n",
        "        self.maxpool = nn.AdaptiveMaxPool2d(output_size=(6, 6))\n",
        "        self.dense_block = nn.Sequential(\n",
        "            nn.Dropout(p=0.5),\n",
        "            nn.Linear(84*6*6, 1512),\n",
        "            nn.BatchNorm1d(1512),\n",
        "            nn.ReLU(),\n",
        "            nn.Dropout(p=0.5),\n",
        "            nn.Linear(1512, 1512),\n",
        "            nn.BatchNorm1d(1512),\n",
        "            nn.ReLU(),\n",
        "            nn.Linear(1512, self.num_classes)\n",
        "        )\n",
        "    \n",
        "    def forward(self, x):\n",
        "        x = self.conv_block1(x)\n",
        "        x = self.conv_block2(x)\n",
        "        x = self.conv_block3(x)\n",
        "        x = self.conv_block4(x)\n",
        "        x = self.maxpool(x)\n",
        "        x = x.view(x.size()[0], -1)\n",
        "        x = self.dense_block(x)\n",
        "        return x"
      ],
      "execution_count": 48,
      "outputs": []
    },
    {
      "cell_type": "code",
      "metadata": {
        "id": "Ma7Tlc5BerLe"
      },
      "source": [
        "# Evaluation function\n",
        "def eval_model(model, dl):\n",
        "    accs, accs_d, accs_l = [], [], []\n",
        "    with torch.no_grad():\n",
        "        model.eval()\n",
        "        for i, data in enumerate(dl):\n",
        "            inputs, labels = data\n",
        "            inputs = inputs.to(device)\n",
        "            labels = labels.to(device)\n",
        "            outputs = model(inputs)\n",
        "            preds = convert_outputs_to_preds(outputs.cpu().detach().numpy())\n",
        "            preds_d = preds[:, :11]\n",
        "            preds_l = preds[:, 11:]\n",
        "            labels_d = labels[:, :11]\n",
        "            labels_l = labels[:, 11:]\n",
        "            accs.append(get_accuracy(preds, labels.cpu()))\n",
        "            accs_d.append(get_accuracy(preds_d, labels_d.cpu()))\n",
        "            accs_l.append(get_accuracy(preds_l, labels_l.cpu()))\n",
        "            break\n",
        "    return sum(accs)/len(accs), sum(accs_d)/len(accs_d), sum(accs_l)/len(accs_l)"
      ],
      "execution_count": 49,
      "outputs": []
    },
    {
      "cell_type": "code",
      "metadata": {
        "id": "1I-kZSmTdPpo"
      },
      "source": [
        "# Train function\n",
        "def train(model, dataloader=train_l_dataloader, init_rounds=2):\n",
        "    criterion = nn.BCEWithLogitsLoss()\n",
        "    optimizer = torch.optim.Adam(model.parameters(), lr=LEARNING_RATE)\n",
        "    running_loss = 0.0\n",
        "\n",
        "    for epoch in range(NUM_EPOCHS):\n",
        "        running_loss = 0.0\n",
        "        model.train()\n",
        "\n",
        "        # # Using unlabeled data\n",
        "        # if epoch > init_rounds:     \n",
        "        #     for i, data in enumerate(train_ul_dataloader):\n",
        "        #         # get data/targets\n",
        "        #         inputs, true_targets = data\n",
        "        #         inputs = inputs.to(device)\n",
        "        #         true_targets = true_targets.to(device)\n",
        "\n",
        "        #         outputs = model(inputs)\n",
        "        #         fake_targets = torch.Tensor(transform_output(outputs)).to(device) # using pseudo label methods and get pseudo labels\n",
        "        #         optimizer.zero_grad()\n",
        "        #         outputs = model(inputs)\n",
        "        #         loss = criterion(outputs, fake_targets)\n",
        "        #         loss.backward()\n",
        "        #         optimizer.step()\n",
        "\n",
        "        #         # track learning\n",
        "        #         running_loss += loss.item()\n",
        "        #         acc, acc_d, acc_l = eval_model(model, train_ul_dataloader)\n",
        "        #         if i % 100 == 99:    # print every 2000 mini-batches\n",
        "        #             # print('[%d, %5d] loss: %.3f' % (epoch + 1, i + 1, running_loss / 100))\n",
        "        #             print('[epoch %d] loss: %.3f, acc: %.3f, digit_acc: %.3f, letter_acc: %.3f'\n",
        "        #         %(epoch+1, running_loss/i, acc, acc_d, acc_l))\n",
        "        #             running_loss = 0.0\n",
        "\n",
        "        for i, data in enumerate(dataloader):\n",
        "            # get data/targets\n",
        "            inputs, true_targets = data\n",
        "            inputs = inputs.to(device)\n",
        "            true_targets = true_targets.to(device)\n",
        "\n",
        "            # zero the parameter gradients\n",
        "            optimizer.zero_grad()\n",
        "\n",
        "            # forward, backward,\n",
        "            outputs = model(inputs)\n",
        "            loss = criterion(outputs, true_targets)\n",
        "\n",
        "            # backward\n",
        "            loss.backward()\n",
        "\n",
        "            # gradient descent step\n",
        "            optimizer.step()\n",
        "\n",
        "            # print statistics\n",
        "            running_loss += loss.item()\n",
        "\n",
        "            # track learning\n",
        "            running_loss += loss.item()\n",
        "            acc, acc_d, acc_l = eval_model(model, dataloader)\n",
        "            if i % 100 == 99:    # print every 2000 mini-batches\n",
        "                # print('[%d, %5d] loss: %.3f' % (epoch + 1, i + 1, running_loss / 100))\n",
        "                print('[epoch %d] loss: %.3f, acc: %.3f, digit_acc: %.3f, letter_acc: %.3f'\n",
        "            %(epoch+1, running_loss/i, acc, acc_d, acc_l))\n",
        "                running_loss = 0.0\n",
        "    \n",
        "    # DONE TRAINING\n",
        "    print('Finished Training')\n",
        "    PATH = './cnn.pth'\n",
        "    torch.save(model.state_dict(), PATH)"
      ],
      "execution_count": 50,
      "outputs": []
    },
    {
      "cell_type": "code",
      "metadata": {
        "id": "Go-n5-iKHQxc"
      },
      "source": [
        "# criterion = nn.BCEWithLogitsLoss()\n",
        "# # optimizer = torch.optim.SGD(model.parameters(), lr=LEARNING_RATE, momentum=MOMENTUM, weight_decay=WEIGHT_DECAY)\n",
        "# optimizer = torch.optim.Adam(model.parameters(), lr=LEARNING_RATE)\n",
        "\n",
        "# val_accuracies = []\n",
        "# trainloader = full_train_l_dataloader if PRODUCTION else train_l_dataloader\n",
        "# init_round = int(round(NUM_EPOCHS/2))\n",
        "# print(trainloader)\n",
        "# for epoch in range(NUM_EPOCHS):\n",
        "#     running_loss = 0.0\n",
        "#     model.train()\n",
        "    \n",
        "#     # Using unlabeled data\n",
        "#     if epoch >= init_round:\n",
        "#         for i, (data, targets) in enumerate(train_ul_dataloader):\n",
        "#             # get data/targets\n",
        "#             inputs = data\n",
        "#             true_targets = targets\n",
        "#             outputs = model(inputs)\n",
        "#             print(\"Outputs unlabeled:\", outputs.shape)\n",
        "#             fake_targets = transform_output(outputs) # using pseudi label methos and get pseudo labels\n",
        "#             fake_predictions = torch.Tensor().to(device)\n",
        "#             optimizer.zero_grad()\n",
        "#             outputs = model(inputs)\n",
        "#             print(\"Unlabeled:\", outputs.shape)\n",
        "#             loss = criterion(outputs, fake_predictions)\n",
        "#             loss.backward()\n",
        "#             optimizer.step()\n",
        "\n",
        "#             # track learning\n",
        "#             running_loss += loss.item()\n",
        "#             if i % 100 == 99:    # print every 2000 mini-batches\n",
        "#                 print('[%d, %5d] loss: %.3f' %\n",
        "#                     (epoch + 1, i + 1, running_loss / 100))\n",
        "#                 running_loss = 0.0\n",
        "\n",
        "#     for i, (data, targets) in enumerate(trainloader):\n",
        "        \n",
        "#         # get data/targets\n",
        "#         inputs = data\n",
        "#         true_targets = targets\n",
        "#         # zero the parameter gradients\n",
        "#         optimizer.zero_grad()\n",
        "#         # forward, backward,\n",
        "#         outputs = model(inputs)\n",
        "#         print(\"Outputs labeled:\", outputs.shape)\n",
        "#         print(\"Labeled:\", outputs.shape)\n",
        "#         loss = criterion(outputs, true_targets)\n",
        "#         # backward\n",
        "#         loss.backward()\n",
        "#         # gradient descent step\n",
        "#         optimizer.step()\n",
        "\n",
        "#         # track learning\n",
        "#         running_loss += loss.item()\n",
        "#         if i % 100 == 99:    # print every 2000 mini-batches\n",
        "#             print('[%d, %5d] loss: %.3f' %\n",
        "#                   (epoch + 1, i + 1, running_loss / 100))\n",
        "#             running_loss = 0.0\n",
        "\n",
        "#     if not PRODUCTION:\n",
        "#         model.eval()\n",
        "#         digit_results = []\n",
        "#         letter_results = []\n",
        "#         for i, data in enumerate(val_l_dataloader):\n",
        "#             val_inputs, val_labels = data\n",
        "#             outputs = model(val_inputs)\n",
        "#             val_labels = val_labels.cpu().detach().numpy()\n",
        "#             preds = convert_outputs_to_preds(outputs.cpu().detach().numpy())\n",
        "#             digit_results.append(correct_digit(preds[0], val_labels[0]))\n",
        "#             letter_results.append(correct_letter(preds[0], val_labels[0]))\n",
        "#         digit_accuracy = get_accuracy(digit_results)\n",
        "#         letter_accuracy = get_accuracy(letter_results)\n",
        "#         total_accuracy = get_accuracy(digit_results and letter_results)\n",
        "#         val_accuracies.append((digit_accuracy, letter_accuracy, total_accuracy))\n",
        "        \n",
        "\n",
        "# print('Finished Training')\n",
        "# PATH = './cnn.pth'\n",
        "# torch.save(model.state_dict(), PATH)"
      ],
      "execution_count": 51,
      "outputs": []
    },
    {
      "cell_type": "code",
      "metadata": {
        "id": "hgHZt7j8q559"
      },
      "source": [
        "# # Check validation accuracy\n",
        "# if not PRODUCTION:\n",
        "#     for i, val_accuracy in enumerate(val_accuracies):\n",
        "#         print('Epoch = {}, Total Acc = {}, Digit Acc = {}, Letter Acc = {}'.format(i+1, val_accuracy[2], val_accuracy[0], val_accuracy[1]))"
      ],
      "execution_count": 52,
      "outputs": []
    },
    {
      "cell_type": "markdown",
      "metadata": {
        "id": "642125Fle-mw"
      },
      "source": [
        "Evaluate model on our validation set"
      ]
    },
    {
      "cell_type": "code",
      "metadata": {
        "id": "3qK8LFl9e-Fj"
      },
      "source": [
        "# Run model and evaluate\n",
        "cnn_model = AlexNet_CNN().to(device)\n",
        "trainloader = full_train_l_dataloader if PRODUCTION else train_l_dataloader\n",
        "train(cnn_model, trainloader)\n",
        "if not PRODUCTION:\n",
        "    eval_model(cnn_model, val_l_dataloader)"
      ],
      "execution_count": 53,
      "outputs": []
    },
    {
      "cell_type": "code",
      "metadata": {
        "id": "OtjDbikxPVUR",
        "outputId": "73e390b9-9538-44e4-d787-16276fcd793c",
        "colab": {
          "base_uri": "https://localhost:8080/"
        }
      },
      "source": [
        "# Run model using the labelled unlabelled data\n",
        "# cnn_model = AlexNet_CNN().to(device)\n",
        "# trainloader = full_train_l_ul_dataloader if PRODUCTION else train_l_ul_dataloader\n",
        "# train(cnn_model, trainloader)\n",
        "# if not PRODUCTION:\n",
        "#     eval_model(cnn_model, val_l_ul_dataloader)"
      ],
      "execution_count": 54,
      "outputs": [
        {
          "output_type": "stream",
          "name": "stdout",
          "text": [
            "[epoch 1] loss: 0.476, acc: 0.000, digit_acc: 0.062, letter_acc: 0.016\n",
            "[epoch 1] loss: 0.210, acc: 0.000, digit_acc: 0.188, letter_acc: 0.016\n",
            "[epoch 1] loss: 0.139, acc: 0.000, digit_acc: 0.125, letter_acc: 0.078\n",
            "[epoch 1] loss: 0.103, acc: 0.000, digit_acc: 0.125, letter_acc: 0.031\n",
            "[epoch 1] loss: 0.080, acc: 0.031, digit_acc: 0.266, letter_acc: 0.156\n",
            "[epoch 1] loss: 0.062, acc: 0.031, digit_acc: 0.234, letter_acc: 0.250\n",
            "[epoch 1] loss: 0.048, acc: 0.109, digit_acc: 0.484, letter_acc: 0.250\n",
            "[epoch 1] loss: 0.037, acc: 0.203, digit_acc: 0.484, letter_acc: 0.281\n",
            "[epoch 1] loss: 0.028, acc: 0.391, digit_acc: 0.859, letter_acc: 0.406\n",
            "[epoch 2] loss: 0.198, acc: 0.516, digit_acc: 0.812, letter_acc: 0.562\n",
            "[epoch 2] loss: 0.077, acc: 0.656, digit_acc: 0.906, letter_acc: 0.672\n",
            "[epoch 2] loss: 0.044, acc: 0.734, digit_acc: 0.922, letter_acc: 0.797\n",
            "[epoch 2] loss: 0.030, acc: 0.609, digit_acc: 0.875, letter_acc: 0.672\n",
            "[epoch 2] loss: 0.021, acc: 0.781, digit_acc: 0.891, letter_acc: 0.859\n",
            "[epoch 2] loss: 0.017, acc: 0.719, digit_acc: 0.938, letter_acc: 0.766\n",
            "[epoch 2] loss: 0.013, acc: 0.781, digit_acc: 0.922, letter_acc: 0.812\n",
            "[epoch 2] loss: 0.011, acc: 0.797, digit_acc: 0.891, letter_acc: 0.859\n",
            "[epoch 2] loss: 0.010, acc: 0.859, digit_acc: 0.953, letter_acc: 0.891\n",
            "[epoch 3] loss: 0.087, acc: 0.766, digit_acc: 0.906, letter_acc: 0.828\n",
            "[epoch 3] loss: 0.034, acc: 0.781, digit_acc: 0.891, letter_acc: 0.875\n",
            "[epoch 3] loss: 0.023, acc: 0.828, digit_acc: 0.938, letter_acc: 0.859\n",
            "[epoch 3] loss: 0.017, acc: 0.922, digit_acc: 0.953, letter_acc: 0.953\n",
            "[epoch 3] loss: 0.013, acc: 0.766, digit_acc: 0.875, letter_acc: 0.828\n",
            "[epoch 3] loss: 0.012, acc: 0.875, digit_acc: 0.953, letter_acc: 0.875\n",
            "[epoch 3] loss: 0.009, acc: 0.922, digit_acc: 0.984, letter_acc: 0.922\n",
            "[epoch 3] loss: 0.008, acc: 0.859, digit_acc: 0.953, letter_acc: 0.859\n",
            "[epoch 3] loss: 0.008, acc: 0.906, digit_acc: 0.969, letter_acc: 0.922\n",
            "[epoch 4] loss: 0.061, acc: 0.844, digit_acc: 0.922, letter_acc: 0.859\n",
            "[epoch 4] loss: 0.027, acc: 0.844, digit_acc: 0.891, letter_acc: 0.859\n",
            "[epoch 4] loss: 0.017, acc: 0.891, digit_acc: 0.953, letter_acc: 0.906\n",
            "[epoch 4] loss: 0.014, acc: 0.922, digit_acc: 0.984, letter_acc: 0.938\n",
            "[epoch 4] loss: 0.011, acc: 0.859, digit_acc: 0.969, letter_acc: 0.875\n",
            "[epoch 4] loss: 0.009, acc: 0.859, digit_acc: 0.938, letter_acc: 0.891\n",
            "[epoch 4] loss: 0.008, acc: 0.906, digit_acc: 0.969, letter_acc: 0.906\n",
            "[epoch 4] loss: 0.007, acc: 0.906, digit_acc: 0.984, letter_acc: 0.906\n",
            "[epoch 4] loss: 0.006, acc: 0.906, digit_acc: 0.969, letter_acc: 0.922\n",
            "[epoch 5] loss: 0.054, acc: 0.953, digit_acc: 1.000, letter_acc: 0.953\n",
            "[epoch 5] loss: 0.020, acc: 0.875, digit_acc: 0.922, letter_acc: 0.953\n",
            "[epoch 5] loss: 0.014, acc: 0.875, digit_acc: 0.922, letter_acc: 0.891\n",
            "[epoch 5] loss: 0.010, acc: 0.844, digit_acc: 0.922, letter_acc: 0.891\n",
            "[epoch 5] loss: 0.008, acc: 0.906, digit_acc: 0.922, letter_acc: 0.938\n",
            "[epoch 5] loss: 0.007, acc: 0.875, digit_acc: 0.891, letter_acc: 0.922\n",
            "[epoch 5] loss: 0.006, acc: 0.938, digit_acc: 0.938, letter_acc: 0.953\n",
            "[epoch 5] loss: 0.005, acc: 0.891, digit_acc: 0.938, letter_acc: 0.891\n",
            "[epoch 5] loss: 0.005, acc: 0.891, digit_acc: 0.953, letter_acc: 0.906\n",
            "[epoch 6] loss: 0.045, acc: 0.984, digit_acc: 0.984, letter_acc: 1.000\n",
            "[epoch 6] loss: 0.015, acc: 0.953, digit_acc: 0.969, letter_acc: 0.984\n",
            "[epoch 6] loss: 0.011, acc: 0.859, digit_acc: 0.938, letter_acc: 0.891\n",
            "[epoch 6] loss: 0.008, acc: 0.938, digit_acc: 0.953, letter_acc: 0.938\n",
            "[epoch 6] loss: 0.007, acc: 0.969, digit_acc: 0.984, letter_acc: 0.969\n",
            "[epoch 6] loss: 0.006, acc: 0.984, digit_acc: 1.000, letter_acc: 0.984\n",
            "[epoch 6] loss: 0.005, acc: 0.922, digit_acc: 0.938, letter_acc: 0.953\n",
            "[epoch 6] loss: 0.005, acc: 0.922, digit_acc: 0.984, letter_acc: 0.922\n",
            "[epoch 6] loss: 0.004, acc: 0.938, digit_acc: 0.984, letter_acc: 0.953\n",
            "[epoch 7] loss: 0.037, acc: 0.922, digit_acc: 0.984, letter_acc: 0.938\n",
            "[epoch 7] loss: 0.012, acc: 0.891, digit_acc: 0.922, letter_acc: 0.922\n",
            "[epoch 7] loss: 0.008, acc: 0.953, digit_acc: 0.953, letter_acc: 0.969\n",
            "[epoch 7] loss: 0.006, acc: 0.906, digit_acc: 0.938, letter_acc: 0.906\n",
            "[epoch 7] loss: 0.005, acc: 0.922, digit_acc: 0.969, letter_acc: 0.922\n",
            "[epoch 7] loss: 0.004, acc: 0.906, digit_acc: 0.969, letter_acc: 0.906\n",
            "[epoch 7] loss: 0.004, acc: 0.922, digit_acc: 0.953, letter_acc: 0.922\n",
            "[epoch 7] loss: 0.003, acc: 0.891, digit_acc: 0.953, letter_acc: 0.922\n",
            "[epoch 7] loss: 0.003, acc: 0.906, digit_acc: 0.953, letter_acc: 0.922\n",
            "[epoch 8] loss: 0.027, acc: 0.953, digit_acc: 0.969, letter_acc: 0.969\n",
            "[epoch 8] loss: 0.008, acc: 0.906, digit_acc: 0.938, letter_acc: 0.938\n",
            "[epoch 8] loss: 0.006, acc: 0.938, digit_acc: 0.969, letter_acc: 0.938\n",
            "[epoch 8] loss: 0.004, acc: 0.969, digit_acc: 0.984, letter_acc: 0.984\n",
            "[epoch 8] loss: 0.004, acc: 0.969, digit_acc: 1.000, letter_acc: 0.969\n",
            "[epoch 8] loss: 0.003, acc: 0.984, digit_acc: 0.984, letter_acc: 1.000\n",
            "[epoch 8] loss: 0.003, acc: 0.969, digit_acc: 0.969, letter_acc: 0.969\n",
            "[epoch 8] loss: 0.002, acc: 0.938, digit_acc: 0.969, letter_acc: 0.938\n",
            "[epoch 8] loss: 0.002, acc: 0.938, digit_acc: 0.984, letter_acc: 0.938\n",
            "[epoch 9] loss: 0.026, acc: 0.938, digit_acc: 0.984, letter_acc: 0.938\n",
            "[epoch 9] loss: 0.006, acc: 0.953, digit_acc: 0.953, letter_acc: 0.953\n",
            "[epoch 9] loss: 0.004, acc: 0.984, digit_acc: 0.984, letter_acc: 0.984\n",
            "[epoch 9] loss: 0.003, acc: 1.000, digit_acc: 1.000, letter_acc: 1.000\n",
            "[epoch 9] loss: 0.003, acc: 0.984, digit_acc: 0.984, letter_acc: 0.984\n",
            "[epoch 9] loss: 0.003, acc: 0.969, digit_acc: 0.984, letter_acc: 0.969\n",
            "[epoch 9] loss: 0.002, acc: 0.969, digit_acc: 0.969, letter_acc: 0.969\n",
            "[epoch 9] loss: 0.002, acc: 0.906, digit_acc: 0.969, letter_acc: 0.906\n",
            "[epoch 9] loss: 0.002, acc: 0.953, digit_acc: 0.969, letter_acc: 0.969\n",
            "[epoch 10] loss: 0.021, acc: 0.984, digit_acc: 0.984, letter_acc: 1.000\n",
            "[epoch 10] loss: 0.004, acc: 0.969, digit_acc: 0.969, letter_acc: 0.969\n",
            "[epoch 10] loss: 0.003, acc: 1.000, digit_acc: 1.000, letter_acc: 1.000\n",
            "[epoch 10] loss: 0.002, acc: 0.984, digit_acc: 1.000, letter_acc: 0.984\n",
            "[epoch 10] loss: 0.002, acc: 0.984, digit_acc: 0.984, letter_acc: 0.984\n",
            "[epoch 10] loss: 0.002, acc: 0.984, digit_acc: 1.000, letter_acc: 0.984\n",
            "[epoch 10] loss: 0.002, acc: 0.922, digit_acc: 0.938, letter_acc: 0.969\n",
            "[epoch 10] loss: 0.002, acc: 0.984, digit_acc: 0.984, letter_acc: 0.984\n",
            "[epoch 10] loss: 0.002, acc: 0.953, digit_acc: 0.969, letter_acc: 0.953\n",
            "[epoch 11] loss: 0.017, acc: 0.984, digit_acc: 0.984, letter_acc: 0.984\n",
            "[epoch 11] loss: 0.004, acc: 0.953, digit_acc: 0.953, letter_acc: 0.969\n",
            "[epoch 11] loss: 0.002, acc: 0.984, digit_acc: 0.984, letter_acc: 0.984\n",
            "[epoch 11] loss: 0.002, acc: 0.984, digit_acc: 0.984, letter_acc: 0.984\n",
            "[epoch 11] loss: 0.002, acc: 0.984, digit_acc: 0.984, letter_acc: 1.000\n",
            "[epoch 11] loss: 0.002, acc: 0.953, digit_acc: 0.953, letter_acc: 0.953\n",
            "[epoch 11] loss: 0.001, acc: 0.969, digit_acc: 0.984, letter_acc: 0.969\n",
            "[epoch 11] loss: 0.001, acc: 1.000, digit_acc: 1.000, letter_acc: 1.000\n",
            "[epoch 11] loss: 0.001, acc: 1.000, digit_acc: 1.000, letter_acc: 1.000\n",
            "[epoch 12] loss: 0.019, acc: 0.969, digit_acc: 0.969, letter_acc: 0.984\n",
            "[epoch 12] loss: 0.003, acc: 0.969, digit_acc: 0.984, letter_acc: 0.969\n",
            "[epoch 12] loss: 0.002, acc: 0.969, digit_acc: 0.984, letter_acc: 0.969\n",
            "[epoch 12] loss: 0.001, acc: 1.000, digit_acc: 1.000, letter_acc: 1.000\n",
            "[epoch 12] loss: 0.001, acc: 0.953, digit_acc: 0.953, letter_acc: 0.969\n",
            "[epoch 12] loss: 0.001, acc: 1.000, digit_acc: 1.000, letter_acc: 1.000\n",
            "[epoch 12] loss: 0.001, acc: 0.953, digit_acc: 0.984, letter_acc: 0.953\n",
            "[epoch 12] loss: 0.001, acc: 0.953, digit_acc: 0.953, letter_acc: 0.969\n",
            "[epoch 12] loss: 0.001, acc: 0.969, digit_acc: 1.000, letter_acc: 0.969\n",
            "[epoch 13] loss: 0.024, acc: 0.969, digit_acc: 0.969, letter_acc: 0.969\n",
            "[epoch 13] loss: 0.003, acc: 0.969, digit_acc: 0.984, letter_acc: 0.969\n",
            "[epoch 13] loss: 0.002, acc: 0.969, digit_acc: 0.969, letter_acc: 0.969\n",
            "[epoch 13] loss: 0.001, acc: 0.984, digit_acc: 0.984, letter_acc: 0.984\n",
            "[epoch 13] loss: 0.001, acc: 0.938, digit_acc: 0.938, letter_acc: 0.938\n",
            "[epoch 13] loss: 0.001, acc: 0.969, digit_acc: 0.969, letter_acc: 0.969\n",
            "[epoch 13] loss: 0.001, acc: 0.984, digit_acc: 0.984, letter_acc: 0.984\n",
            "[epoch 13] loss: 0.001, acc: 0.984, digit_acc: 0.984, letter_acc: 0.984\n",
            "[epoch 13] loss: 0.001, acc: 0.984, digit_acc: 0.984, letter_acc: 0.984\n",
            "[epoch 14] loss: 0.020, acc: 0.984, digit_acc: 0.984, letter_acc: 0.984\n",
            "[epoch 14] loss: 0.002, acc: 0.984, digit_acc: 0.984, letter_acc: 0.984\n",
            "[epoch 14] loss: 0.002, acc: 1.000, digit_acc: 1.000, letter_acc: 1.000\n",
            "[epoch 14] loss: 0.001, acc: 0.984, digit_acc: 1.000, letter_acc: 0.984\n",
            "[epoch 14] loss: 0.001, acc: 0.984, digit_acc: 0.984, letter_acc: 1.000\n",
            "[epoch 14] loss: 0.001, acc: 0.969, digit_acc: 0.969, letter_acc: 0.984\n",
            "[epoch 14] loss: 0.001, acc: 0.938, digit_acc: 0.938, letter_acc: 0.938\n",
            "[epoch 14] loss: 0.001, acc: 0.984, digit_acc: 1.000, letter_acc: 0.984\n",
            "[epoch 14] loss: 0.001, acc: 0.938, digit_acc: 0.984, letter_acc: 0.938\n",
            "[epoch 15] loss: 0.016, acc: 0.984, digit_acc: 0.984, letter_acc: 0.984\n",
            "[epoch 15] loss: 0.002, acc: 0.984, digit_acc: 1.000, letter_acc: 0.984\n",
            "[epoch 15] loss: 0.001, acc: 0.938, digit_acc: 0.938, letter_acc: 0.938\n",
            "[epoch 15] loss: 0.001, acc: 0.984, digit_acc: 0.984, letter_acc: 0.984\n",
            "[epoch 15] loss: 0.001, acc: 1.000, digit_acc: 1.000, letter_acc: 1.000\n",
            "[epoch 15] loss: 0.001, acc: 1.000, digit_acc: 1.000, letter_acc: 1.000\n",
            "[epoch 15] loss: 0.001, acc: 0.984, digit_acc: 0.984, letter_acc: 0.984\n",
            "[epoch 15] loss: 0.001, acc: 1.000, digit_acc: 1.000, letter_acc: 1.000\n",
            "[epoch 15] loss: 0.001, acc: 0.969, digit_acc: 1.000, letter_acc: 0.969\n",
            "[epoch 16] loss: 0.015, acc: 0.953, digit_acc: 0.953, letter_acc: 0.953\n",
            "[epoch 16] loss: 0.002, acc: 1.000, digit_acc: 1.000, letter_acc: 1.000\n",
            "[epoch 16] loss: 0.001, acc: 0.984, digit_acc: 0.984, letter_acc: 0.984\n",
            "[epoch 16] loss: 0.001, acc: 1.000, digit_acc: 1.000, letter_acc: 1.000\n",
            "[epoch 16] loss: 0.001, acc: 0.969, digit_acc: 0.969, letter_acc: 0.969\n",
            "[epoch 16] loss: 0.001, acc: 1.000, digit_acc: 1.000, letter_acc: 1.000\n",
            "[epoch 16] loss: 0.001, acc: 0.984, digit_acc: 0.984, letter_acc: 0.984\n",
            "[epoch 16] loss: 0.001, acc: 1.000, digit_acc: 1.000, letter_acc: 1.000\n",
            "[epoch 16] loss: 0.001, acc: 0.953, digit_acc: 0.969, letter_acc: 0.953\n",
            "[epoch 17] loss: 0.014, acc: 0.969, digit_acc: 0.984, letter_acc: 0.969\n",
            "[epoch 17] loss: 0.002, acc: 0.969, digit_acc: 0.984, letter_acc: 0.969\n",
            "[epoch 17] loss: 0.001, acc: 0.984, digit_acc: 0.984, letter_acc: 0.984\n",
            "[epoch 17] loss: 0.001, acc: 1.000, digit_acc: 1.000, letter_acc: 1.000\n",
            "[epoch 17] loss: 0.001, acc: 0.984, digit_acc: 0.984, letter_acc: 0.984\n",
            "[epoch 17] loss: 0.001, acc: 0.969, digit_acc: 0.969, letter_acc: 0.969\n",
            "[epoch 17] loss: 0.001, acc: 0.984, digit_acc: 1.000, letter_acc: 0.984\n",
            "[epoch 17] loss: 0.000, acc: 0.984, digit_acc: 0.984, letter_acc: 1.000\n",
            "[epoch 17] loss: 0.001, acc: 0.984, digit_acc: 0.984, letter_acc: 0.984\n",
            "[epoch 18] loss: 0.013, acc: 0.984, digit_acc: 0.984, letter_acc: 0.984\n",
            "[epoch 18] loss: 0.001, acc: 0.969, digit_acc: 0.969, letter_acc: 0.969\n",
            "[epoch 18] loss: 0.001, acc: 1.000, digit_acc: 1.000, letter_acc: 1.000\n",
            "[epoch 18] loss: 0.001, acc: 0.984, digit_acc: 0.984, letter_acc: 1.000\n",
            "[epoch 18] loss: 0.001, acc: 1.000, digit_acc: 1.000, letter_acc: 1.000\n",
            "[epoch 18] loss: 0.001, acc: 1.000, digit_acc: 1.000, letter_acc: 1.000\n",
            "[epoch 18] loss: 0.001, acc: 1.000, digit_acc: 1.000, letter_acc: 1.000\n",
            "[epoch 18] loss: 0.001, acc: 0.922, digit_acc: 0.938, letter_acc: 0.922\n",
            "[epoch 18] loss: 0.001, acc: 0.984, digit_acc: 0.984, letter_acc: 0.984\n",
            "[epoch 19] loss: 0.012, acc: 0.984, digit_acc: 0.984, letter_acc: 0.984\n",
            "[epoch 19] loss: 0.001, acc: 1.000, digit_acc: 1.000, letter_acc: 1.000\n",
            "[epoch 19] loss: 0.001, acc: 0.953, digit_acc: 0.953, letter_acc: 0.953\n",
            "[epoch 19] loss: 0.001, acc: 0.969, digit_acc: 0.969, letter_acc: 0.969\n",
            "[epoch 19] loss: 0.001, acc: 0.984, digit_acc: 0.984, letter_acc: 0.984\n",
            "[epoch 19] loss: 0.000, acc: 0.984, digit_acc: 0.984, letter_acc: 0.984\n",
            "[epoch 19] loss: 0.000, acc: 0.969, digit_acc: 0.969, letter_acc: 0.969\n",
            "[epoch 19] loss: 0.000, acc: 1.000, digit_acc: 1.000, letter_acc: 1.000\n",
            "[epoch 19] loss: 0.001, acc: 0.953, digit_acc: 0.969, letter_acc: 0.953\n",
            "[epoch 20] loss: 0.011, acc: 0.969, digit_acc: 0.969, letter_acc: 0.984\n",
            "[epoch 20] loss: 0.001, acc: 0.953, digit_acc: 0.953, letter_acc: 0.953\n",
            "[epoch 20] loss: 0.001, acc: 0.953, digit_acc: 0.969, letter_acc: 0.953\n",
            "[epoch 20] loss: 0.001, acc: 1.000, digit_acc: 1.000, letter_acc: 1.000\n",
            "[epoch 20] loss: 0.001, acc: 0.984, digit_acc: 0.984, letter_acc: 0.984\n",
            "[epoch 20] loss: 0.001, acc: 0.984, digit_acc: 0.984, letter_acc: 0.984\n",
            "[epoch 20] loss: 0.001, acc: 0.953, digit_acc: 0.969, letter_acc: 0.969\n",
            "[epoch 20] loss: 0.001, acc: 0.953, digit_acc: 0.953, letter_acc: 0.969\n",
            "[epoch 20] loss: 0.001, acc: 1.000, digit_acc: 1.000, letter_acc: 1.000\n",
            "Finished Training\n"
          ]
        }
      ]
    },
    {
      "cell_type": "code",
      "metadata": {
        "id": "H2qhsgIV9KZ9"
      },
      "source": [
        "if LABELLING:\n",
        "    # Label the unlabelled dataset\n",
        "    with torch.no_grad():\n",
        "        predictions_ul = []\n",
        "        for data in train_ul_dataloader:\n",
        "            inputs = data[0].to(device)\n",
        "            targets = data[1].to(device)\n",
        "            outputs = cnn_model(inputs)\n",
        "            converted_output = convert_outputs_to_preds(outputs.cpu().detach().numpy())\n",
        "            for c in converted_output:\n",
        "                predictions_ul.append(c)\n",
        "\n",
        "    print(len(predictions_ul))\n",
        "    predictions_ul = np.array(predictions_ul)\n",
        "    print(type(predictions_ul))\n",
        "\n",
        "    with open('labels_ul.pkl', 'wb') as train_labels_ul_pkl:\n",
        "        pickle.dump(predictions_ul, train_labels_ul_pkl)"
      ],
      "execution_count": 59,
      "outputs": []
    },
    {
      "cell_type": "code",
      "metadata": {
        "id": "R_3icX5sZ2CF"
      },
      "source": [
        "# Setup CSV for predictions export\n",
        "if PRODUCTION:\n",
        "    df = pd.DataFrame(columns=['# Id', 'Category'])\n",
        "    with torch.no_grad():\n",
        "        i = 0\n",
        "        for data in test_ul_dataloader:\n",
        "            inputs = data[0].to(device)\n",
        "            targets = data[1].to(device)\n",
        "            outputs = cnn_model(inputs) # apply CNN model\n",
        "            predictions = transform_output(outputs)\n",
        "            for pred in predictions:\n",
        "                label = ''.join(str(x) for x in pred)\n",
        "                df.loc[i] = [i, label]\n",
        "                i += 1"
      ],
      "execution_count": 56,
      "outputs": []
    },
    {
      "cell_type": "code",
      "metadata": {
        "id": "wio8hvE8Vmkk",
        "colab": {
          "base_uri": "https://localhost:8080/",
          "height": 419
        },
        "outputId": "80eb2c0e-f02b-4412-df4b-89c868206e9a"
      },
      "source": [
        "df"
      ],
      "execution_count": 57,
      "outputs": [
        {
          "output_type": "execute_result",
          "data": {
            "text/html": [
              "<div>\n",
              "<style scoped>\n",
              "    .dataframe tbody tr th:only-of-type {\n",
              "        vertical-align: middle;\n",
              "    }\n",
              "\n",
              "    .dataframe tbody tr th {\n",
              "        vertical-align: top;\n",
              "    }\n",
              "\n",
              "    .dataframe thead th {\n",
              "        text-align: right;\n",
              "    }\n",
              "</style>\n",
              "<table border=\"1\" class=\"dataframe\">\n",
              "  <thead>\n",
              "    <tr style=\"text-align: right;\">\n",
              "      <th></th>\n",
              "      <th># Id</th>\n",
              "      <th>Category</th>\n",
              "    </tr>\n",
              "  </thead>\n",
              "  <tbody>\n",
              "    <tr>\n",
              "      <th>0</th>\n",
              "      <td>0</td>\n",
              "      <td>100000000000000000000000000001000000</td>\n",
              "    </tr>\n",
              "    <tr>\n",
              "      <th>1</th>\n",
              "      <td>1</td>\n",
              "      <td>010000000000000000000100000000000000</td>\n",
              "    </tr>\n",
              "    <tr>\n",
              "      <th>2</th>\n",
              "      <td>2</td>\n",
              "      <td>000000000100000000010000000000000000</td>\n",
              "    </tr>\n",
              "    <tr>\n",
              "      <th>3</th>\n",
              "      <td>3</td>\n",
              "      <td>100000000000000000000100000000000000</td>\n",
              "    </tr>\n",
              "    <tr>\n",
              "      <th>4</th>\n",
              "      <td>4</td>\n",
              "      <td>000000100000000000010000000000000000</td>\n",
              "    </tr>\n",
              "    <tr>\n",
              "      <th>...</th>\n",
              "      <td>...</td>\n",
              "      <td>...</td>\n",
              "    </tr>\n",
              "    <tr>\n",
              "      <th>14995</th>\n",
              "      <td>14995</td>\n",
              "      <td>000100000000001000000000000000000000</td>\n",
              "    </tr>\n",
              "    <tr>\n",
              "      <th>14996</th>\n",
              "      <td>14996</td>\n",
              "      <td>000100000010000000000000000000000000</td>\n",
              "    </tr>\n",
              "    <tr>\n",
              "      <th>14997</th>\n",
              "      <td>14997</td>\n",
              "      <td>000000100000000000000000001000000000</td>\n",
              "    </tr>\n",
              "    <tr>\n",
              "      <th>14998</th>\n",
              "      <td>14998</td>\n",
              "      <td>010000000000000000100000000000000000</td>\n",
              "    </tr>\n",
              "    <tr>\n",
              "      <th>14999</th>\n",
              "      <td>14999</td>\n",
              "      <td>001000000000000000001000000000000000</td>\n",
              "    </tr>\n",
              "  </tbody>\n",
              "</table>\n",
              "<p>15000 rows × 2 columns</p>\n",
              "</div>"
            ],
            "text/plain": [
              "        # Id                              Category\n",
              "0          0  100000000000000000000000000001000000\n",
              "1          1  010000000000000000000100000000000000\n",
              "2          2  000000000100000000010000000000000000\n",
              "3          3  100000000000000000000100000000000000\n",
              "4          4  000000100000000000010000000000000000\n",
              "...      ...                                   ...\n",
              "14995  14995  000100000000001000000000000000000000\n",
              "14996  14996  000100000010000000000000000000000000\n",
              "14997  14997  000000100000000000000000001000000000\n",
              "14998  14998  010000000000000000100000000000000000\n",
              "14999  14999  001000000000000000001000000000000000\n",
              "\n",
              "[15000 rows x 2 columns]"
            ]
          },
          "metadata": {},
          "execution_count": 57
        }
      ]
    },
    {
      "cell_type": "code",
      "metadata": {
        "id": "yrgwPKD_p1Vt"
      },
      "source": [
        "# Export CSV for Kaggle\n",
        "from datetime import datetime\n",
        "if PRODUCTION:\n",
        "    filename = 'kaggle_g19_{}.csv'.format(datetime.now())\n",
        "    df.to_csv(filename, sep=',', float_format='{:36}', index=False)"
      ],
      "execution_count": 58,
      "outputs": []
    },
    {
      "cell_type": "code",
      "metadata": {
        "id": "BBwQPCZ2wjJ5"
      },
      "source": [
        ""
      ],
      "execution_count": 58,
      "outputs": []
    }
  ]
}