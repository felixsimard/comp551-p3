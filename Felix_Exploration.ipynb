{
  "nbformat": 4,
  "nbformat_minor": 0,
  "metadata": {
    "colab": {
      "name": "Felix-Exploration.ipynb",
      "provenance": [],
      "mount_file_id": "https://github.com/felixsimard/comp551-p3/blob/main/Felix_Exploration.ipynb",
      "authorship_tag": "ABX9TyOt0IIDSsVZ7FWsWiqgJD1I",
      "include_colab_link": true
    },
    "kernelspec": {
      "name": "python3",
      "display_name": "Python 3"
    },
    "language_info": {
      "name": "python"
    },
    "accelerator": "GPU"
  },
  "cells": [
    {
      "cell_type": "markdown",
      "metadata": {
        "id": "view-in-github",
        "colab_type": "text"
      },
      "source": [
        "<a href=\"https://colab.research.google.com/github/felixsimard/comp551-p3/blob/main/Felix_Exploration.ipynb\" target=\"_parent\"><img src=\"https://colab.research.google.com/assets/colab-badge.svg\" alt=\"Open In Colab\"/></a>"
      ]
    },
    {
      "cell_type": "code",
      "metadata": {
        "id": "j9d--OU0IF0S"
      },
      "source": [
        "# Felix's Notebook for exploring the assignment"
      ],
      "execution_count": 130,
      "outputs": []
    },
    {
      "cell_type": "code",
      "metadata": {
        "id": "3yNW2EISINDi"
      },
      "source": [
        "import torch\n",
        "import torch.nn as nn\n",
        "import torch.nn.functional as F\n",
        "import torchvision\n",
        "import torchvision.transforms as transforms\n",
        "from torch.utils.data import TensorDataset, DataLoader, Dataset\n",
        "import matplotlib.pyplot as plt\n",
        "import numpy as np\n",
        "import pandas as pd\n",
        "import pickle\n",
        "from PIL import Image\n",
        "from sklearn import preprocessing\n",
        "from tqdm import tqdm\n",
        "import math\n",
        "import string"
      ],
      "execution_count": 131,
      "outputs": []
    },
    {
      "cell_type": "code",
      "metadata": {
        "id": "Xgfx5EC0kW8V",
        "colab": {
          "base_uri": "https://localhost:8080/"
        },
        "outputId": "8ee97496-5505-471c-d9bd-5535779b8aae"
      },
      "source": [
        "# Device configuration\n",
        "device = torch.device('cuda:0' if torch.cuda.is_available() else 'cpu')\n",
        "print(device)"
      ],
      "execution_count": 132,
      "outputs": [
        {
          "output_type": "stream",
          "name": "stdout",
          "text": [
            "cuda:0\n"
          ]
        }
      ]
    },
    {
      "cell_type": "code",
      "metadata": {
        "id": "v3doYI1lAbe9"
      },
      "source": [
        "def imshow(img):\n",
        "    img = img / 2 + 0.5     # unnormalize\n",
        "    npimg = img.numpy()\n",
        "    plt.imshow(img)\n",
        "    # plt.imshow(np.transpose(npimg, (1, 2, 0))) \n",
        "    plt.show()"
      ],
      "execution_count": 133,
      "outputs": []
    },
    {
      "cell_type": "code",
      "metadata": {
        "id": "1jRaz4Q8BEO5"
      },
      "source": [
        "def get_label_value(labels):\n",
        "  \"\"\"\n",
        "  This function will return a string representing the label of a picture given\n",
        "  the array label as input:\n",
        "  Ex ouput: '1a', '4z' ...\n",
        "  \"\"\"\n",
        "  label_temp = labels.tolist()\n",
        "  label_temp = [int(x) for x in label_temp]\n",
        "  number = label_temp[:10].index(1)\n",
        "  letter = alpha_dict[label_temp[10:].index(1)]\n",
        "\n",
        "  return str(number) + str(letter)"
      ],
      "execution_count": 134,
      "outputs": []
    },
    {
      "cell_type": "code",
      "metadata": {
        "id": "IyZ_vYDKKFnf"
      },
      "source": [
        "def transform_output(scores):\n",
        "    \"\"\"\n",
        "    Input a Tensor and output will be another Tensor with same dimension but with all elements 0 except two.\n",
        "    Those 2 elements will have value of 1 and will correspond to the models prediction about which letter and number\n",
        "    is in the image.\n",
        "    :param scores:\n",
        "    :return:\n",
        "    \"\"\"\n",
        "    return_array = []\n",
        "    score_list = scores.tolist()\n",
        "\n",
        "    for score in score_list:\n",
        "        numbers = score[:10]\n",
        "        letters = score[10:]\n",
        "        test = lambda x, max_value : 1 if x >= max_value else 0\n",
        "\n",
        "        new_numbers = [test(x, max(numbers)) for x in numbers]\n",
        "        new_letters = [test(x, max(letters)) for x in letters]\n",
        "\n",
        "        return_array.append(new_numbers + new_letters)\n",
        "\n",
        "    return return_array"
      ],
      "execution_count": 135,
      "outputs": []
    },
    {
      "cell_type": "code",
      "metadata": {
        "id": "batbKOaCj6fa",
        "colab": {
          "base_uri": "https://localhost:8080/"
        },
        "outputId": "f657d8ea-24f8-45fb-9c57-fd99c06e54d7"
      },
      "source": [
        "from google.colab import drive\n",
        "drive.mount(\"/content/drive\")\n",
        "def load_data(filename, data_path='/content/drive/MyDrive/P3-COMP551-FALL2021/'):\n",
        "    loaded_pkl = None\n",
        "    try:\n",
        "        pkl_buffered = open(data_path+''+filename,'rb')\n",
        "        loaded_pkl = pickle.load(pkl_buffered)\n",
        "    except Exception as e:\n",
        "        print(\"Error loading data: {}\".format(e))\n",
        "    return loaded_pkl\n",
        "    "
      ],
      "execution_count": 136,
      "outputs": [
        {
          "output_type": "stream",
          "name": "stdout",
          "text": [
            "Drive already mounted at /content/drive; to attempt to forcibly remount, call drive.mount(\"/content/drive\", force_remount=True).\n"
          ]
        }
      ]
    },
    {
      "cell_type": "code",
      "metadata": {
        "id": "iuvaFp3CvYH-",
        "colab": {
          "base_uri": "https://localhost:8080/"
        },
        "outputId": "2b47d6cf-648d-4e36-8827-543c0f0f5bf7"
      },
      "source": [
        "# Load data\n",
        "# make sure to add a dimension to loaded pickles to respect dimensions required by Conv2D layers\n",
        "train_l = load_data(\"images_l.pkl\")[:, None]\n",
        "train_ul = load_data(\"images_ul.pkl\")[:, None]\n",
        "train_labels_l = load_data(\"labels_l.pkl\")\n",
        "test_ul = load_data(\"images_test.pkl\")[:, None]\n",
        "\n",
        "print(\"Train:\", train_l.shape)\n",
        "print(\"Test:\", test_ul.shape)"
      ],
      "execution_count": 137,
      "outputs": [
        {
          "output_type": "stream",
          "name": "stdout",
          "text": [
            "Train: (30000, 1, 56, 56)\n",
            "Test: (15000, 1, 56, 56)\n"
          ]
        }
      ]
    },
    {
      "cell_type": "code",
      "metadata": {
        "id": "hwO8NOgHkd23"
      },
      "source": [
        "# Reference: https://stackoverflow.com/questions/44429199/how-to-load-a-list-of-numpy-arrays-to-pytorch-dataset-loader\n",
        "class CustomDataset(Dataset):\n",
        "    def __init__(self, data, targets=None, transform=None, transform_target=None):\n",
        "        self.data = torch.from_numpy(data).float().to(device)\n",
        "        self.targets = torch.from_numpy(targets).float().to(device) if targets is not None else None\n",
        "        self.transform = transform\n",
        "        self.transform_target = transform_target\n",
        "        \n",
        "    def __getitem__(self, index):\n",
        "        x = self.data[index]\n",
        "        y = np.zeros(36, dtype=float)# self.targets[index]\n",
        "\n",
        "        if self.targets is not None:\n",
        "            y = self.targets[index]\n",
        "        else:\n",
        "            None\n",
        "        if self.transform:\n",
        "            x = self.transform(x)\n",
        "        if self.transform_target:\n",
        "            y = self.transform_target(y)\n",
        "        \n",
        "        return x, y\n",
        "    \n",
        "    \n",
        "    def __len__(self):\n",
        "        return len(self.data)"
      ],
      "execution_count": 138,
      "outputs": []
    },
    {
      "cell_type": "code",
      "metadata": {
        "id": "mDFiIo7cRWsN"
      },
      "source": [
        "# Hyper-parameters\n",
        "NUM_EPOCHS = 10\n",
        "BATCH_SIZE = 16\n",
        "NUM_CHANNELS = 1\n",
        "NUM_CLASSES = 36\n",
        "LEARNING_RATE = 0.001\n",
        "MOMENTUM = 0.9\n",
        "WEIGHT_DECAY = 0.0001\n",
        "TRAIN_TEST_SPLIT = 0.3\n",
        "FLATTEN_IMG_SIZE = 3136 # 56 * 56 \n",
        "PRODUCTION = False"
      ],
      "execution_count": 139,
      "outputs": []
    },
    {
      "cell_type": "code",
      "metadata": {
        "id": "F_X-KfukA00R",
        "colab": {
          "base_uri": "https://localhost:8080/"
        },
        "outputId": "4ba65791-2ff3-4497-ebd0-ad111460d99a"
      },
      "source": [
        "# Tensor, Transform, Datasets, Dataloaders\n",
        "\n",
        "# Split into training and validation\n",
        "split_index = math.floor(len(train_labels_l)*TRAIN_TEST_SPLIT)\n",
        "\n",
        "full_train_l = train_l\n",
        "val_l = train_l[:split_index]\n",
        "train_l = train_l[split_index:]\n",
        "\n",
        "full_train_labels_l = train_labels_l\n",
        "val_labels_l = train_labels_l[:split_index]\n",
        "train_labels_l = train_labels_l[split_index:]\n",
        "\n",
        "print(\"Full training:\", full_train_l.shape, full_train_labels_l.shape)\n",
        "print(\"Split Training:\", train_l.shape, train_labels_l.shape)\n",
        "print(\"Validation:\", val_l.shape, val_labels_l.shape)"
      ],
      "execution_count": 140,
      "outputs": [
        {
          "output_type": "stream",
          "name": "stdout",
          "text": [
            "Full training: (30000, 1, 56, 56) (30000, 36)\n",
            "Split Training: (21000, 1, 56, 56) (21000, 36)\n",
            "Validation: (9000, 1, 56, 56) (9000, 36)\n"
          ]
        }
      ]
    },
    {
      "cell_type": "code",
      "metadata": {
        "id": "AAIFBUw8wVHM",
        "colab": {
          "base_uri": "https://localhost:8080/",
          "height": 482
        },
        "outputId": "c2febff5-45b5-447e-df05-4227df03765b"
      },
      "source": [
        "# Visualize some data\n",
        "alpha_dict = dict(enumerate(string.ascii_lowercase))\n",
        "figure = plt.figure(figsize=(20, 8))\n",
        "cols, rows = 4, 2\n",
        "for i in range(1, cols * rows + 1):\n",
        "    sample_idx = torch.randint(len(train_l), size=(1,)).item()\n",
        "    img = train_l[sample_idx]\n",
        "    label = get_label_value(train_labels_l[sample_idx])\n",
        "    figure.add_subplot(rows, cols, i)\n",
        "    plt.title(label)\n",
        "    plt.axis(\"off\")\n",
        "    plt.imshow(img.squeeze())\n",
        "plt.show()"
      ],
      "execution_count": 141,
      "outputs": [
        {
          "output_type": "display_data",
          "data": {
            "image/png": "[encoded data removed]",
            "text/plain": [
              "<Figure size 1440x576 with 8 Axes>"
            ]
          },
          "metadata": {
            "needs_background": "light"
          }
        }
      ]
    },
    {
      "cell_type": "code",
      "metadata": {
        "id": "AH4dl7Uhv9cy"
      },
      "source": [
        "# Turn data and labels into Datasets then DataLoaders\n",
        "\n",
        "# Transform function\n",
        "mean = (0.5,)\n",
        "std = (0.5,)\n",
        "transform = transforms.Compose(\n",
        "    [transforms.Normalize(mean=mean, std=std)])\n",
        "\n",
        "# DataLoaders\n",
        "full_train_l_dataloader = DataLoader(CustomDataset(full_train_l, full_train_labels_l, transform=transform), shuffle=True, batch_size=BATCH_SIZE)\n",
        "train_l_dataloader = DataLoader(CustomDataset(train_l, train_labels_l, transform=transform), shuffle=True, batch_size=BATCH_SIZE)\n",
        "val_l_dataloader = DataLoader(CustomDataset(val_l, val_labels_l, transform=transform), shuffle=True)\n",
        "\n",
        "# Test set for Kaggle\n",
        "test_labels_ul = np.zeros(len(test_ul))\n",
        "test_ul_dataloader = DataLoader(CustomDataset(test_ul, test_labels_ul, transform=transform), batch_size=BATCH_SIZE, shuffle=False)"
      ],
      "execution_count": 142,
      "outputs": []
    },
    {
      "cell_type": "code",
      "metadata": {
        "id": "ooBvvB2DE4Vc"
      },
      "source": [
        "# Implement CONV Net\n",
        "\n",
        "# class ConvNet(nn.Module):\n",
        "#     def __init__(self, input_size=FLATTEN_IMG_SIZE, in_channels=NUM_CHANNELS, num_classes=NUM_CLASSES):\n",
        "#         super(ConvNet, self).__init__()\n",
        "#         self.input_size = input_size\n",
        "#         self.in_channels = in_channels\n",
        "#         self.num_classes = num_classes\n",
        "#         self.conv1 = nn.Conv2d(self.in_channels, 6, 5) # input channel (rgb), output channel, kernel size \n",
        "#         self.pool = nn.MaxPool2d(2, 2) # define 2x2 stride for max-pooling\n",
        "#         self.conv2 = nn.Conv2d(6, 16, 5) # input channel size = output channel size of previous conv layer\n",
        "#         self.fc1 = nn.Linear(16*11*11, 120) # fully connected layer\n",
        "#         self.fc2 = nn.Linear(120, 84)\n",
        "#         self.fc3 = nn.Linear(84, num_classes)   \n",
        "#     def forward(self, x):\n",
        "#         x = self.pool(F.relu(self.conv1(x))) # activation function does not change size\n",
        "#         x = self.pool(F.relu(self.conv2(x)))\n",
        "#         x = x.view(-1, 16*11*11) # -1 tells PyTorch to infer num batches # flatten tensor\n",
        "#         x = F.relu(self.fc1(x))\n",
        "#         x = F.relu(self.fc2(x))\n",
        "#         x = self.fc3(x) # no activation at end, softmax included in CrossEntropyLoss\n",
        "#         return x\n",
        "\n",
        "# VGG11 Conv Net\n",
        "class ConvNet_VGG11(nn.Module):\n",
        "    def __init__(self, in_channels=NUM_CHANNELS, num_classes=NUM_CLASSES):\n",
        "        super(ConvNet_VGG11, self).__init__()\n",
        "        self.in_channels = in_channels\n",
        "        self.num_classes = num_classes\n",
        "        # convolution layers\n",
        "        self.con_layers = nn.Sequential(\n",
        "            nn.Conv2d(self.in_channels, 64, kernel_size=3, padding=1),\n",
        "            nn.ReLU(),\n",
        "            nn.MaxPool2d(kernel_size=2, stride=2),\n",
        "            nn.Conv2d(64, 128, kernel_size=3, padding=1),\n",
        "            nn.ReLU(),\n",
        "            nn.MaxPool2d(kernel_size=2, stride=2),\n",
        "            nn.Conv2d(128, 256, kernel_size=3, padding=1),\n",
        "            nn.ReLU(),\n",
        "            nn.Conv2d(256, 256, kernel_size=3, padding=1),\n",
        "            nn.ReLU(),\n",
        "            nn.MaxPool2d(kernel_size=2, stride=2),\n",
        "            nn.Conv2d(256, 512, kernel_size=3, padding=1),\n",
        "            nn.ReLU(),\n",
        "            nn.Conv2d(512, 512, kernel_size=3, padding=1),\n",
        "            nn.ReLU(),\n",
        "            nn.MaxPool2d(kernel_size=2, stride=2),\n",
        "            nn.Conv2d(512, 512, kernel_size=3, padding=1),\n",
        "            nn.ReLU(),\n",
        "            nn.Conv2d(512, 512, kernel_size=3, padding=1),\n",
        "            nn.ReLU(),\n",
        "            nn.MaxPool2d(kernel_size=2, stride=2)\n",
        "        )\n",
        "        self.linear_layers = nn.Sequential(\n",
        "            nn.Linear(in_features=512, out_features=4096),\n",
        "            nn.ReLU(),\n",
        "            nn.Dropout2d(0.5),\n",
        "            nn.Linear(in_features=4096, out_features=4096),\n",
        "            nn.ReLU(),\n",
        "            nn.Dropout2d(0.5),\n",
        "            nn.Linear(in_features=4096, out_features=self.num_classes)\n",
        "        )\n",
        "\n",
        "    def forward(self, x):\n",
        "        x = self.con_layers(x)\n",
        "        # flatten to prepare for the fully connected layers\n",
        "        x = x.view(x.size(0), -1)\n",
        "        x = self.linear_layers(x)\n",
        "        return x\n",
        "\n",
        "# ConvNet\n",
        "class ConvNet(nn.Module):\n",
        "    def __init__(self, in_channels=NUM_CHANNELS, num_classes=NUM_CLASSES):\n",
        "        super().__init__() \n",
        "        self.in_channels = in_channels\n",
        "        self.num_classes = num_classes\n",
        "        self.conv_block1 = nn.Sequential(\n",
        "            nn.Conv2d(self.in_channels, 16, 3), # (b_sz, 1, 56, 56) --> (b_sz, 16, 54, 54)\n",
        "            nn.MaxPool2d(3), # (b_sz, 16, 54, 54) --> (b_sz, 16, 18, 18)\n",
        "            nn.ReLU()\n",
        "        )\n",
        "        self.conv_block2 = nn.Sequential(\n",
        "            nn.Conv2d(16, 32, 3), # (b_sz, 16, 18, 18) --> (b_sz, 32, 16, 16)\n",
        "            nn.MaxPool2d(2), # (b_sz, 32, 16, 16) --> (b_sz, 32, 8, 8)\n",
        "            nn.ReLU()\n",
        "        )\n",
        "        self.conv_block3 = nn.Sequential(\n",
        "            nn.Conv2d(32, 64, 3), # (b_sz, 32, 8, 8) --> (b_sz, 64, 6, 6)\n",
        "            nn.MaxPool2d(2), # (b_sz, 64, 6, 6) --> (b_sz, 64, 3, 3)\n",
        "            nn.ReLU()\n",
        "        )\n",
        "        self.linear_layers = nn.Sequential(\n",
        "            nn.Linear(64*3*3, 1024),\n",
        "            nn.ReLU(),\n",
        "            nn.Linear(1024, self.num_classes), \n",
        "        )\n",
        "    \n",
        "    def forward(self, x):\n",
        "        x = self.conv_block1(x)\n",
        "        x = self.conv_block2(x)\n",
        "        x = self.conv_block3(x)\n",
        "        x = x.view(x.size()[0], -1)\n",
        "        x = self.linear_layers(x)\n",
        "        return x\n",
        "\n",
        "model = ConvNet().to(device)"
      ],
      "execution_count": 143,
      "outputs": []
    },
    {
      "cell_type": "code",
      "metadata": {
        "colab": {
          "base_uri": "https://localhost:8080/"
        },
        "id": "Yc2s6YwqN28x",
        "outputId": "3a840095-21fc-47ef-f33f-cf653ee85d04"
      },
      "source": [
        "# Test model flow, check output size, shoudl be [batchs_size, num_classes]\n",
        "dummy_model = ConvNet()\n",
        "random_input = torch.rand(BATCH_SIZE, 1, 56, 56)\n",
        "print(random_input.shape)\n",
        "output = dummy_model(random_input)\n",
        "print(output.shape)"
      ],
      "execution_count": 144,
      "outputs": [
        {
          "output_type": "stream",
          "name": "stdout",
          "text": [
            "torch.Size([16, 1, 56, 56])\n",
            "torch.Size([16, 36])\n"
          ]
        }
      ]
    },
    {
      "cell_type": "code",
      "metadata": {
        "id": "n6Lrt1pstW72"
      },
      "source": [
        "# Methods to calculate some accuracy metrics\n",
        "def convert_outputs_to_preds(outputs):\n",
        "    preds = np.empty(shape=(len(outputs), 36))\n",
        "    for i, output in enumerate(outputs):\n",
        "        pred = np.zeros(36)\n",
        "        digit_index = np.argmax(output[:11])\n",
        "        letter_index = np.argmax(output[11:]) + 11\n",
        "        pred[digit_index], pred[letter_index] = 1, 1\n",
        "        preds[i] = pred\n",
        "    return preds\n",
        "    \n",
        "def correct_digit(pred, label):\n",
        "    return np.array_equal(pred[:11],label[:11])\n",
        "\n",
        "def correct_letter(pred, label):\n",
        "    return np.array_equal(pred[11:],label[11:])\n",
        "\n",
        "def get_accuracy(results):\n",
        "    return round(sum(results) / len(results), 2)"
      ],
      "execution_count": 145,
      "outputs": []
    },
    {
      "cell_type": "code",
      "metadata": {
        "colab": {
          "base_uri": "https://localhost:8080/"
        },
        "id": "Go-n5-iKHQxc",
        "outputId": "7a9280c2-ab3b-47cf-caab-bab0176a2026"
      },
      "source": [
        "criterion = nn.BCEWithLogitsLoss()\n",
        "# optimizer = torch.optim.SGD(model.parameters(), lr=LEARNING_RATE, momentum=MOMENTUM, weight_decay=WEIGHT_DECAY)\n",
        "optimizer = torch.optim.Adam(model.parameters(), lr=LEARNING_RATE)\n",
        "\n",
        "val_accuracies = []\n",
        "trainloader = full_train_l_dataloader if PRODUCTION else train_l_dataloader\n",
        "for epoch in range(NUM_EPOCHS):\n",
        "    running_loss = 0.0\n",
        "    model.train()\n",
        "    for i, (data, targets) in enumerate(trainloader):\n",
        "        \n",
        "        # get data/targets\n",
        "        inputs = data\n",
        "        true_targets = targets\n",
        "\n",
        "        # zero the parameter gradients\n",
        "        optimizer.zero_grad()\n",
        "\n",
        "        # forward, backward,\n",
        "        outputs = model(inputs)\n",
        "        loss = criterion(outputs, true_targets)\n",
        "\n",
        "        # backward\n",
        "        loss.backward()\n",
        "\n",
        "        # gradient descent step\n",
        "        optimizer.step()\n",
        "\n",
        "        # track learning\n",
        "        running_loss += loss.item()\n",
        "        if i % 100 == 99:    # print every 2000 mini-batches\n",
        "            print('[%d, %5d] loss: %.3f' %\n",
        "                  (epoch + 1, i + 1, running_loss / 100))\n",
        "            running_loss = 0.0\n",
        "\n",
        "    if not PRODUCTION:\n",
        "        model.eval()\n",
        "        digit_results = []\n",
        "        letter_results = []\n",
        "        for i, data in enumerate(val_l_dataloader):\n",
        "            val_inputs, val_labels = data\n",
        "            outputs = model(val_inputs)\n",
        "            val_labels = val_labels.cpu().detach().numpy()\n",
        "            preds = convert_outputs_to_preds(outputs.cpu().detach().numpy())\n",
        "            digit_results.append(correct_digit(preds[0], val_labels[0]))\n",
        "            letter_results.append(correct_letter(preds[0], val_labels[0]))\n",
        "        digit_accuracy = get_accuracy(digit_results)\n",
        "        letter_accuracy = get_accuracy(letter_results)\n",
        "        total_accuracy = get_accuracy(digit_results and letter_results)\n",
        "        val_accuracies.append((digit_accuracy, letter_accuracy, total_accuracy))\n",
        "        \n",
        "\n",
        "print('Finished Training')\n",
        "PATH = './cnn.pth'\n",
        "torch.save(model.state_dict(), PATH)"
      ],
      "execution_count": 146,
      "outputs": [
        {
          "output_type": "stream",
          "name": "stdout",
          "text": [
            "[1,   100] loss: 0.297\n",
            "[1,   200] loss: 0.215\n",
            "[1,   300] loss: 0.214\n",
            "[1,   400] loss: 0.213\n",
            "[1,   500] loss: 0.213\n",
            "[1,   600] loss: 0.211\n",
            "[1,   700] loss: 0.211\n",
            "[1,   800] loss: 0.209\n",
            "[1,   900] loss: 0.208\n",
            "[1,  1000] loss: 0.206\n",
            "[1,  1100] loss: 0.204\n",
            "[1,  1200] loss: 0.200\n",
            "[1,  1300] loss: 0.201\n",
            "[2,   100] loss: 0.196\n",
            "[2,   200] loss: 0.194\n",
            "[2,   300] loss: 0.192\n",
            "[2,   400] loss: 0.190\n",
            "[2,   500] loss: 0.187\n",
            "[2,   600] loss: 0.188\n",
            "[2,   700] loss: 0.183\n",
            "[2,   800] loss: 0.184\n",
            "[2,   900] loss: 0.181\n",
            "[2,  1000] loss: 0.176\n",
            "[2,  1100] loss: 0.176\n",
            "[2,  1200] loss: 0.171\n",
            "[2,  1300] loss: 0.170\n",
            "[3,   100] loss: 0.161\n",
            "[3,   200] loss: 0.159\n",
            "[3,   300] loss: 0.160\n",
            "[3,   400] loss: 0.155\n",
            "[3,   500] loss: 0.154\n",
            "[3,   600] loss: 0.153\n",
            "[3,   700] loss: 0.153\n",
            "[3,   800] loss: 0.148\n",
            "[3,   900] loss: 0.143\n",
            "[3,  1000] loss: 0.147\n",
            "[3,  1100] loss: 0.143\n",
            "[3,  1200] loss: 0.140\n",
            "[3,  1300] loss: 0.141\n",
            "[4,   100] loss: 0.124\n",
            "[4,   200] loss: 0.124\n",
            "[4,   300] loss: 0.126\n",
            "[4,   400] loss: 0.124\n",
            "[4,   500] loss: 0.125\n",
            "[4,   600] loss: 0.126\n",
            "[4,   700] loss: 0.126\n",
            "[4,   800] loss: 0.121\n",
            "[4,   900] loss: 0.119\n",
            "[4,  1000] loss: 0.119\n",
            "[4,  1100] loss: 0.118\n",
            "[4,  1200] loss: 0.118\n",
            "[4,  1300] loss: 0.119\n",
            "[5,   100] loss: 0.096\n",
            "[5,   200] loss: 0.100\n",
            "[5,   300] loss: 0.097\n",
            "[5,   400] loss: 0.104\n",
            "[5,   500] loss: 0.098\n",
            "[5,   600] loss: 0.100\n",
            "[5,   700] loss: 0.101\n",
            "[5,   800] loss: 0.100\n",
            "[5,   900] loss: 0.103\n",
            "[5,  1000] loss: 0.099\n",
            "[5,  1100] loss: 0.103\n",
            "[5,  1200] loss: 0.102\n",
            "[5,  1300] loss: 0.102\n",
            "[6,   100] loss: 0.080\n",
            "[6,   200] loss: 0.076\n",
            "[6,   300] loss: 0.081\n",
            "[6,   400] loss: 0.084\n",
            "[6,   500] loss: 0.078\n",
            "[6,   600] loss: 0.083\n",
            "[6,   700] loss: 0.086\n",
            "[6,   800] loss: 0.084\n",
            "[6,   900] loss: 0.087\n",
            "[6,  1000] loss: 0.087\n",
            "[6,  1100] loss: 0.087\n",
            "[6,  1200] loss: 0.089\n",
            "[6,  1300] loss: 0.086\n",
            "[7,   100] loss: 0.062\n",
            "[7,   200] loss: 0.061\n",
            "[7,   300] loss: 0.064\n",
            "[7,   400] loss: 0.064\n",
            "[7,   500] loss: 0.069\n",
            "[7,   600] loss: 0.068\n",
            "[7,   700] loss: 0.071\n",
            "[7,   800] loss: 0.070\n",
            "[7,   900] loss: 0.069\n",
            "[7,  1000] loss: 0.079\n",
            "[7,  1100] loss: 0.076\n",
            "[7,  1200] loss: 0.070\n",
            "[7,  1300] loss: 0.076\n",
            "[8,   100] loss: 0.051\n",
            "[8,   200] loss: 0.051\n",
            "[8,   300] loss: 0.055\n",
            "[8,   400] loss: 0.052\n",
            "[8,   500] loss: 0.056\n",
            "[8,   600] loss: 0.061\n",
            "[8,   700] loss: 0.056\n",
            "[8,   800] loss: 0.060\n",
            "[8,   900] loss: 0.057\n",
            "[8,  1000] loss: 0.063\n",
            "[8,  1100] loss: 0.064\n",
            "[8,  1200] loss: 0.063\n",
            "[8,  1300] loss: 0.064\n",
            "[9,   100] loss: 0.043\n",
            "[9,   200] loss: 0.042\n",
            "[9,   300] loss: 0.043\n",
            "[9,   400] loss: 0.046\n",
            "[9,   500] loss: 0.046\n",
            "[9,   600] loss: 0.050\n",
            "[9,   700] loss: 0.049\n",
            "[9,   800] loss: 0.051\n",
            "[9,   900] loss: 0.050\n",
            "[9,  1000] loss: 0.055\n",
            "[9,  1100] loss: 0.051\n",
            "[9,  1200] loss: 0.052\n",
            "[9,  1300] loss: 0.057\n",
            "[10,   100] loss: 0.035\n",
            "[10,   200] loss: 0.032\n",
            "[10,   300] loss: 0.034\n",
            "[10,   400] loss: 0.038\n",
            "[10,   500] loss: 0.041\n",
            "[10,   600] loss: 0.045\n",
            "[10,   700] loss: 0.041\n",
            "[10,   800] loss: 0.043\n",
            "[10,   900] loss: 0.044\n",
            "[10,  1000] loss: 0.048\n",
            "[10,  1100] loss: 0.047\n",
            "[10,  1200] loss: 0.050\n",
            "[10,  1300] loss: 0.056\n",
            "Finished Training\n"
          ]
        }
      ]
    },
    {
      "cell_type": "code",
      "metadata": {
        "id": "hgHZt7j8q559",
        "colab": {
          "base_uri": "https://localhost:8080/"
        },
        "outputId": "319ee97a-7ba1-40c1-d1ef-260c9676944b"
      },
      "source": [
        "# Check validation accuracy\n",
        "if not PRODUCTION:\n",
        "    for i, val_accuracy in enumerate(val_accuracies):\n",
        "        print('Epoch = {}, Total Acc = {}, Digit Acc = {}, Letter Acc = {}'.format(i+1, val_accuracy[2], val_accuracy[0], val_accuracy[1]))"
      ],
      "execution_count": 147,
      "outputs": [
        {
          "output_type": "stream",
          "name": "stdout",
          "text": [
            "Epoch = 1, Total Acc = 0.1, Digit Acc = 0.23, Letter Acc = 0.1\n",
            "Epoch = 2, Total Acc = 0.19, Digit Acc = 0.41, Letter Acc = 0.19\n",
            "Epoch = 3, Total Acc = 0.3, Digit Acc = 0.59, Letter Acc = 0.3\n",
            "Epoch = 4, Total Acc = 0.4, Digit Acc = 0.67, Letter Acc = 0.4\n",
            "Epoch = 5, Total Acc = 0.46, Digit Acc = 0.72, Letter Acc = 0.46\n",
            "Epoch = 6, Total Acc = 0.48, Digit Acc = 0.74, Letter Acc = 0.48\n",
            "Epoch = 7, Total Acc = 0.48, Digit Acc = 0.73, Letter Acc = 0.48\n",
            "Epoch = 8, Total Acc = 0.5, Digit Acc = 0.73, Letter Acc = 0.5\n",
            "Epoch = 9, Total Acc = 0.5, Digit Acc = 0.75, Letter Acc = 0.5\n",
            "Epoch = 10, Total Acc = 0.47, Digit Acc = 0.73, Letter Acc = 0.47\n"
          ]
        }
      ]
    },
    {
      "cell_type": "code",
      "metadata": {
        "id": "R_3icX5sZ2CF"
      },
      "source": [
        "# Setup CSV for predictions export\n",
        "if PRODUCTION:\n",
        "    df = pd.DataFrame(columns=['# Id', 'Category'])\n",
        "    with torch.no_grad():\n",
        "        i = 0\n",
        "        for data in test_ul_dataloader:\n",
        "            inputs = data[0].to(device) \n",
        "            targets = data[1].to(device)\n",
        "            outputs = model(inputs)\n",
        "            predictions = transform_output(outputs)\n",
        "            for pred in predictions:\n",
        "                label = ''.join(str(x) for x in pred)\n",
        "                df.loc[i] = [i, label]\n",
        "                i += 1"
      ],
      "execution_count": 148,
      "outputs": []
    },
    {
      "cell_type": "code",
      "metadata": {
        "id": "wio8hvE8Vmkk",
        "colab": {
          "base_uri": "https://localhost:8080/",
          "height": 49
        },
        "outputId": "b21b97ca-58cd-44bd-824f-1534465b4846"
      },
      "source": [
        "df"
      ],
      "execution_count": 149,
      "outputs": [
        {
          "output_type": "execute_result",
          "data": {
            "text/html": [
              "<div>\n",
              "<style scoped>\n",
              "    .dataframe tbody tr th:only-of-type {\n",
              "        vertical-align: middle;\n",
              "    }\n",
              "\n",
              "    .dataframe tbody tr th {\n",
              "        vertical-align: top;\n",
              "    }\n",
              "\n",
              "    .dataframe thead th {\n",
              "        text-align: right;\n",
              "    }\n",
              "</style>\n",
              "<table border=\"1\" class=\"dataframe\">\n",
              "  <thead>\n",
              "    <tr style=\"text-align: right;\">\n",
              "      <th></th>\n",
              "      <th># Id</th>\n",
              "      <th>Category</th>\n",
              "    </tr>\n",
              "  </thead>\n",
              "  <tbody>\n",
              "  </tbody>\n",
              "</table>\n",
              "</div>"
            ],
            "text/plain": [
              "Empty DataFrame\n",
              "Columns: [# Id, Category]\n",
              "Index: []"
            ]
          },
          "metadata": {},
          "execution_count": 149
        }
      ]
    },
    {
      "cell_type": "code",
      "metadata": {
        "id": "yrgwPKD_p1Vt"
      },
      "source": [
        "# Export CSV for Kaggle\n",
        "from datetime import datetime\n",
        "if PRODUCTION:\n",
        "    filename = 'kaggle_g19_{}.csv'.format(datetime.now())\n",
        "    df.to_csv(filename, sep=',', float_format='{:36}', index=False)"
      ],
      "execution_count": 150,
      "outputs": []
    },
    {
      "cell_type": "code",
      "metadata": {
        "id": "BBwQPCZ2wjJ5"
      },
      "source": [
        ""
      ],
      "execution_count": 150,
      "outputs": []
    }
  ]
}