{
  "nbformat": 4,
  "nbformat_minor": 0,
  "metadata": {
    "colab": {
      "name": "Felix-Exploration.ipynb",
      "provenance": [],
      "mount_file_id": "https://github.com/felixsimard/comp551-p3/blob/main/Felix_Exploration.ipynb",
      "authorship_tag": "ABX9TyOSzdpcQgHnVXH9Wzg+TCpt",
      "include_colab_link": true
    },
    "kernelspec": {
      "name": "python3",
      "display_name": "Python 3"
    },
    "language_info": {
      "name": "python"
    }
  },
  "cells": [
    {
      "cell_type": "markdown",
      "metadata": {
        "id": "view-in-github",
        "colab_type": "text"
      },
      "source": [
        "<a href=\"https://colab.research.google.com/github/felixsimard/comp551-p3/blob/main/Felix_Exploration.ipynb\" target=\"_parent\"><img src=\"https://colab.research.google.com/assets/colab-badge.svg\" alt=\"Open In Colab\"/></a>"
      ]
    },
    {
      "cell_type": "code",
      "metadata": {
        "id": "j9d--OU0IF0S"
      },
      "source": [
        "# Felix's Notebook for exploring the assignment"
      ],
      "execution_count": 2,
      "outputs": []
    },
    {
      "cell_type": "code",
      "metadata": {
        "id": "3yNW2EISINDi"
      },
      "source": [
        "import torch\n",
        "import torch.nn as nn\n",
        "import torch.nn.functional as F\n",
        "import torchvision\n",
        "import torchvision.transforms as transforms\n",
        "from torch.utils.data import TensorDataset, DataLoader, Dataset\n",
        "import matplotlib.pyplot as plt\n",
        "import numpy as np\n",
        "import pandas as pd\n",
        "import pickle\n",
        "from PIL import Image\n",
        "from sklearn import preprocessing\n",
        "from tqdm import tqdm\n",
        "import math\n",
        "import string"
      ],
      "execution_count": 3,
      "outputs": []
    },
    {
      "cell_type": "code",
      "metadata": {
        "id": "Xgfx5EC0kW8V",
        "colab": {
          "base_uri": "https://localhost:8080/"
        },
        "outputId": "f5f86fdd-51cb-40da-9288-8ea541801e3c"
      },
      "source": [
        "# Device configuration\n",
        "device = torch.device('cuda:0' if torch.cuda.is_available() else 'cpu')\n",
        "print(device)"
      ],
      "execution_count": 4,
      "outputs": [
        {
          "output_type": "stream",
          "name": "stdout",
          "text": [
            "cpu\n"
          ]
        }
      ]
    },
    {
      "cell_type": "code",
      "metadata": {
        "id": "v3doYI1lAbe9"
      },
      "source": [
        "def imshow(img):\n",
        "    img = img / 2 + 0.5     # unnormalize\n",
        "    npimg = img.numpy()\n",
        "    plt.imshow(img)\n",
        "    # plt.imshow(np.transpose(npimg, (1, 2, 0))) \n",
        "    plt.show()"
      ],
      "execution_count": 5,
      "outputs": []
    },
    {
      "cell_type": "code",
      "metadata": {
        "id": "1jRaz4Q8BEO5"
      },
      "source": [
        "def get_label_value(labels):\n",
        "  \"\"\"\n",
        "  This function will return a string representing the label of a picture given\n",
        "  the array label as input:\n",
        "  Ex ouput: '1a', '4z' ...\n",
        "  \"\"\"\n",
        "  label_temp = labels.tolist()\n",
        "  label_temp = [int(x) for x in label_temp]\n",
        "  number = label_temp[:10].index(1)\n",
        "  letter = alpha_dict[label_temp[10:].index(1)]\n",
        "\n",
        "  return str(number) + str(letter)"
      ],
      "execution_count": 6,
      "outputs": []
    },
    {
      "cell_type": "code",
      "metadata": {
        "id": "IyZ_vYDKKFnf"
      },
      "source": [
        "def transform_output(scores):\n",
        "    \"\"\"\n",
        "    Input a Tensor and output will be another Tensor with same dimension but with all elements 0 except two.\n",
        "    Those 2 elements will have value of 1 and will correspond to the models prediction about which letter and number\n",
        "    is in the image.\n",
        "    :param scores:\n",
        "    :return:\n",
        "    \"\"\"\n",
        "    return_array = []\n",
        "    score_list = scores.tolist()\n",
        "\n",
        "    for score in score_list:\n",
        "        numbers = score[:10]\n",
        "        letters = score[10:]\n",
        "        test = lambda x, max_value : 1 if x >= max_value else 0\n",
        "\n",
        "        new_numbers = [test(x, max(numbers)) for x in numbers]\n",
        "        new_letters = [test(x, max(letters)) for x in letters]\n",
        "\n",
        "        return_array.append(new_numbers + new_letters)\n",
        "\n",
        "    return return_array"
      ],
      "execution_count": 7,
      "outputs": []
    },
    {
      "cell_type": "code",
      "metadata": {
        "id": "vtwE88yZRgFr"
      },
      "source": [
        ""
      ],
      "execution_count": 7,
      "outputs": []
    },
    {
      "cell_type": "code",
      "metadata": {
        "id": "batbKOaCj6fa",
        "colab": {
          "base_uri": "https://localhost:8080/"
        },
        "outputId": "beb54766-ca2b-4377-9e79-04d3d2810512"
      },
      "source": [
        "from google.colab import drive\n",
        "drive.mount(\"/content/drive\")\n",
        "def load_data(filename, data_path='/content/drive/MyDrive/P3-COMP551-FALL2021/'):\n",
        "    loaded_pkl = None\n",
        "    try:\n",
        "        pkl_buffered = open(data_path+''+filename,'rb')\n",
        "        loaded_pkl = pickle.load(pkl_buffered)\n",
        "    except Exception as e:\n",
        "        print(\"Error loading data: {}\".format(e))\n",
        "    return loaded_pkl\n",
        "    "
      ],
      "execution_count": 8,
      "outputs": [
        {
          "output_type": "stream",
          "name": "stdout",
          "text": [
            "Drive already mounted at /content/drive; to attempt to forcibly remount, call drive.mount(\"/content/drive\", force_remount=True).\n"
          ]
        }
      ]
    },
    {
      "cell_type": "code",
      "metadata": {
        "id": "iuvaFp3CvYH-",
        "outputId": "1c31ea29-eace-4d98-9066-95b50ddbbb9a",
        "colab": {
          "base_uri": "https://localhost:8080/"
        }
      },
      "source": [
        "# Load data\n",
        "# make sure to add a dimension to loaded pickles to respect dimensions required by Conv2D layers\n",
        "train_l = load_data(\"images_l.pkl\")[:, None]\n",
        "train_ul = load_data(\"images_ul.pkl\")[:, None]\n",
        "train_labels_l = load_data(\"labels_l.pkl\")\n",
        "test_ul = load_data(\"images_test.pkl\")[:, None]\n",
        "\n",
        "print(\"Train:\", train_l.shape)\n",
        "print(\"Test:\", test_ul.shape)"
      ],
      "execution_count": 47,
      "outputs": [
        {
          "output_type": "stream",
          "name": "stdout",
          "text": [
            "Train: (30000, 1, 56, 56)\n",
            "Test: (15000, 1, 56, 56)\n"
          ]
        }
      ]
    },
    {
      "cell_type": "code",
      "metadata": {
        "id": "hwO8NOgHkd23"
      },
      "source": [
        "# Reference: https://stackoverflow.com/questions/44429199/how-to-load-a-list-of-numpy-arrays-to-pytorch-dataset-loader\n",
        "class CustomDataset(Dataset):\n",
        "    def __init__(self, data, targets=None, transform=None, transform_target=None):\n",
        "        self.data = torch.from_numpy(data).float()\n",
        "        self.targets = torch.from_numpy(targets).float() if targets is not None else None\n",
        "        self.transform = transform\n",
        "        self.transform_target = transform_target\n",
        "        \n",
        "    def __getitem__(self, index):\n",
        "        x = self.data[index]\n",
        "        y = np.zeros(36, dtype=float)# self.targets[index]\n",
        "\n",
        "        if self.targets is not None:\n",
        "            y = self.targets[index]\n",
        "        else:\n",
        "            None\n",
        "        if self.transform:\n",
        "            x = self.transform(x)\n",
        "        if self.transform_target:\n",
        "            y = self.transform_target(y)\n",
        "        \n",
        "        return x, y\n",
        "    \n",
        "    \n",
        "    def __len__(self):\n",
        "        return len(self.data)"
      ],
      "execution_count": 48,
      "outputs": []
    },
    {
      "cell_type": "code",
      "metadata": {
        "id": "mDFiIo7cRWsN"
      },
      "source": [
        "# Hyper-parameters\n",
        "NUM_EPOCHS = 1\n",
        "BATCH_SIZE = 16\n",
        "NUM_CHANNELS = 1\n",
        "NUM_CLASSES = 36\n",
        "LEARNING_RATE = 0.001\n",
        "MOMENTUM = 0.9\n",
        "WEIGHT_DECAY = 0.0001\n",
        "TRAIN_TEST_SPLIT = 0.3\n",
        "FLATTEN_IMG_SIZE = 3136 # 56 * 56 "
      ],
      "execution_count": 49,
      "outputs": []
    },
    {
      "cell_type": "code",
      "metadata": {
        "id": "F_X-KfukA00R",
        "colab": {
          "base_uri": "https://localhost:8080/"
        },
        "outputId": "e0378228-4ed0-4aed-a3e5-434252b677ad"
      },
      "source": [
        "# Tensor, Transform, Datasets, Dataloaders\n",
        "\n",
        "# Split into training and validation\n",
        "split_index = math.floor(len(train_labels_l)*TRAIN_TEST_SPLIT)\n",
        "\n",
        "full_train_l = train_l\n",
        "val_l = train_l[:split_index]\n",
        "train_l = train_l[split_index:]\n",
        "\n",
        "full_train_labels_l = train_labels_l\n",
        "val_labels_l = train_labels_l[:split_index]\n",
        "train_labels_l = train_labels_l[split_index:]\n",
        "\n",
        "print(\"Full training:\", full_train_l.shape, full_train_labels_l.shape)\n",
        "print(\"Split Training:\", train_l.shape, train_labels_l.shape)\n",
        "print(\"Validation:\", val_l.shape, val_labels_l.shape)"
      ],
      "execution_count": 50,
      "outputs": [
        {
          "output_type": "stream",
          "name": "stdout",
          "text": [
            "Full training: (30000, 1, 56, 56) (30000, 36)\n",
            "Split Training: (21000, 1, 56, 56) (21000, 36)\n",
            "Validation: (9000, 1, 56, 56) (9000, 36)\n"
          ]
        }
      ]
    },
    {
      "cell_type": "code",
      "metadata": {
        "id": "AAIFBUw8wVHM",
        "colab": {
          "base_uri": "https://localhost:8080/",
          "height": 482
        },
        "outputId": "a35616cd-b0cf-4ec3-f14f-7d7a47b454bd"
      },
      "source": [
        "# Visualize some data\n",
        "alpha_dict = dict(enumerate(string.ascii_lowercase))\n",
        "figure = plt.figure(figsize=(20, 8))\n",
        "cols, rows = 4, 2\n",
        "for i in range(1, cols * rows + 1):\n",
        "    sample_idx = torch.randint(len(train_l), size=(1,)).item()\n",
        "    img = train_l[sample_idx]\n",
        "    label = get_label_value(train_labels_l[sample_idx])\n",
        "    figure.add_subplot(rows, cols, i)\n",
        "    plt.title(label)\n",
        "    plt.axis(\"off\")\n",
        "    plt.imshow(img.squeeze())\n",
        "plt.show()"
      ],
      "execution_count": 51,
      "outputs": [
        {
          "output_type": "display_data",
          "data": {
            "image/png": "[encoded data removed]",
            "text/plain": [
              "<Figure size 1440x576 with 8 Axes>"
            ]
          },
          "metadata": {
            "needs_background": "light"
          }
        }
      ]
    },
    {
      "cell_type": "code",
      "metadata": {
        "id": "AH4dl7Uhv9cy"
      },
      "source": [
        "# Turn data and labels into Datasets then DataLoaders\n",
        "\n",
        "# Transform function\n",
        "mean = (0.5,)\n",
        "std = (0.5,)\n",
        "transform = transforms.Compose(\n",
        "    [transforms.Normalize(mean=mean, std=std)])\n",
        "\n",
        "# DataLoaders\n",
        "full_train_l_dataloader = DataLoader(CustomDataset(full_train_l, full_train_labels_l, transform=transform), shuffle=True, batch_size=BATCH_SIZE)\n",
        "train_l_dataloader = DataLoader(CustomDataset(train_l, train_labels_l, transform=transform), shuffle=True, batch_size=BATCH_SIZE)\n",
        "val_l_dataloader = DataLoader(CustomDataset(val_l, val_labels_l, transform=transform), shuffle=True)\n",
        "\n",
        "# Test set for Kaggle\n",
        "test_labels_ul = np.zeros(len(test_ul))\n",
        "test_ul_dataloader = DataLoader(CustomDataset(test_ul, test_labels_ul, transform=transform), batch_size=BATCH_SIZE, shuffle=False)"
      ],
      "execution_count": 53,
      "outputs": []
    },
    {
      "cell_type": "code",
      "metadata": {
        "id": "ooBvvB2DE4Vc"
      },
      "source": [
        "# Implement CONV Net\n",
        "\n",
        "class ConvNet(nn.Module):\n",
        "    def __init__(self, input_size=FLATTEN_IMG_SIZE, in_channels=NUM_CHANNELS, num_classes=NUM_CLASSES):\n",
        "        super(ConvNet, self).__init__()\n",
        "        self.input_size = input_size\n",
        "        self.in_channels = in_channels\n",
        "        self.num_classes = num_classes\n",
        "        self.conv1 = nn.Conv2d(self.in_channels, 6, 5) # input channel (rgb), output channel, kernel size \n",
        "        self.pool = nn.MaxPool2d(2, 2) # define 2x2 stride for max-pooling\n",
        "        self.conv2 = nn.Conv2d(6, 16, 5) # input channel size = output channel size of previous conv layer\n",
        "        self.fc1 = nn.Linear(16*11*11, 120) # fully connected layer\n",
        "        self.fc2 = nn.Linear(120, 84)\n",
        "        self.fc3 = nn.Linear(84, num_classes)   \n",
        "    def forward(self, x):\n",
        "        x = self.pool(F.relu(self.conv1(x))) # activation function does not change size\n",
        "        x = self.pool(F.relu(self.conv2(x)))\n",
        "        x = x.view(-1, 16*11*11) # -1 tells PyTorch to infer num batches # flatten tensor\n",
        "        x = F.relu(self.fc1(x))\n",
        "        x = F.relu(self.fc2(x))\n",
        "        x = self.fc3(x) # no activation at end, softmax included in CrossEntropyLoss\n",
        "        return x\n",
        "\n",
        "# VGG11 Conv Net\n",
        "class ConvNet_VGG11(nn.Module):\n",
        "    def __init__(self, in_channels=NUM_CHANNELS, num_classes=NUM_CLASSES):\n",
        "        super(ConvNet_VGG11, self).__init__()\n",
        "        self.in_channels = in_channels\n",
        "        self.num_classes = num_classes\n",
        "        # convolution layers\n",
        "        self.con_layers = nn.Sequential(\n",
        "            nn.Conv2d(self.in_channels, 64, kernel_size=3, padding=1),\n",
        "            nn.ReLU(),\n",
        "            nn.MaxPool2d(kernel_size=2, stride=2),\n",
        "            nn.Conv2d(64, 128, kernel_size=3, padding=1),\n",
        "            nn.ReLU(),\n",
        "            nn.MaxPool2d(kernel_size=2, stride=2),\n",
        "            nn.Conv2d(128, 256, kernel_size=3, padding=1),\n",
        "            nn.ReLU(),\n",
        "            nn.Conv2d(256, 256, kernel_size=3, padding=1),\n",
        "            nn.ReLU(),\n",
        "            nn.MaxPool2d(kernel_size=2, stride=2),\n",
        "            nn.Conv2d(256, 512, kernel_size=3, padding=1),\n",
        "            nn.ReLU(),\n",
        "            nn.Conv2d(512, 512, kernel_size=3, padding=1),\n",
        "            nn.ReLU(),\n",
        "            nn.MaxPool2d(kernel_size=2, stride=2),\n",
        "            nn.Conv2d(512, 512, kernel_size=3, padding=1),\n",
        "            nn.ReLU(),\n",
        "            nn.Conv2d(512, 512, kernel_size=3, padding=1),\n",
        "            nn.ReLU(),\n",
        "            nn.MaxPool2d(kernel_size=2, stride=2)\n",
        "        )\n",
        "        self.linear_layers = nn.Sequential(\n",
        "            nn.Linear(in_features=512, out_features=4096),\n",
        "            nn.ReLU(),\n",
        "            nn.Dropout2d(0.5),\n",
        "            nn.Linear(in_features=4096, out_features=4096),\n",
        "            nn.ReLU(),\n",
        "            nn.Dropout2d(0.5),\n",
        "            nn.Linear(in_features=4096, out_features=self.num_classes)\n",
        "        )\n",
        "\n",
        "    def forward(self, x):\n",
        "        x = self.con_layers(x)\n",
        "        # flatten to prepare for the fully connected layers\n",
        "        x = x.view(x.size(0), -1)\n",
        "        x = self.linear_layers(x)\n",
        "        return x\n",
        "\n",
        "\n",
        "class CNN(nn.Module):\n",
        "    def __init__(self):\n",
        "        super().__init__() \n",
        "        self.conv_block1 = nn.Sequential(\n",
        "            nn.Conv2d(1, 16, 3), # (b_sz, 1, 56, 56) --> (b_sz, 16, 54, 54)\n",
        "            nn.MaxPool2d(3), # (b_sz, 16, 54, 54) --> (b_sz, 16, 18, 18)\n",
        "            nn.ReLU()\n",
        "        )\n",
        "\n",
        "        self.conv_block2 = nn.Sequential(\n",
        "            nn.Conv2d(16, 32, 3), # (b_sz, 16, 18, 18) --> (b_sz, 32, 16, 16)\n",
        "            nn.MaxPool2d(2), # (b_sz, 32, 16, 16) --> (b_sz, 32, 8, 8)\n",
        "            nn.ReLU()\n",
        "        )\n",
        "\n",
        "        self.conv_block3 = nn.Sequential(\n",
        "            nn.Conv2d(32, 64, 3), # (b_sz, 32, 8, 8) --> (b_sz, 64, 6, 6)\n",
        "            nn.MaxPool2d(2), # (b_sz, 64, 6, 6) --> (b_sz, 64, 3, 3)\n",
        "            nn.ReLU()\n",
        "        )\n",
        "        \n",
        "        #### need to change the dense layer\n",
        "        self.dense_block = nn.Sequential(\n",
        "            nn.Linear(64*3*3, 1024),\n",
        "            nn.ReLU(),\n",
        "            nn.Linear(1024, 36), \n",
        "            # nn.Sigmoid() # since we assign multi-label, use sigmoid instead of softmax\n",
        "        )\n",
        "    \n",
        "    def forward(self, x):\n",
        "        x = self.conv_block1(x)\n",
        "        x = self.conv_block2(x)\n",
        "        x = self.conv_block3(x)\n",
        "        x = x.view(x.size()[0], -1)\n",
        "        x = self.dense_block(x)\n",
        "        return x\n",
        "\n",
        "model = ConvNet_VGG11().to(device)"
      ],
      "execution_count": 62,
      "outputs": []
    },
    {
      "cell_type": "code",
      "metadata": {
        "colab": {
          "base_uri": "https://localhost:8080/"
        },
        "id": "Yc2s6YwqN28x",
        "outputId": "868fbbe8-2563-47ef-9d0e-f09cc229e1df"
      },
      "source": [
        "# Test model flow, check output size, shoudl be [batchs_size, num_classes]\n",
        "dummy_model = ConvNet_VGG11()\n",
        "random_input = torch.rand(BATCH_SIZE, 1, 56, 56)\n",
        "print(random_input.shape)\n",
        "output = dummy_model(random_input)\n",
        "print(output.shape)"
      ],
      "execution_count": 63,
      "outputs": [
        {
          "output_type": "stream",
          "name": "stdout",
          "text": [
            "torch.Size([16, 1, 56, 56])\n",
            "torch.Size([16, 36])\n"
          ]
        }
      ]
    },
    {
      "cell_type": "code",
      "metadata": {
        "id": "n6Lrt1pstW72"
      },
      "source": [
        "# Methods to calculate some accuracy metrics\n",
        "def convert_outputs_to_preds(outputs):\n",
        "    preds = np.empty(shape=(len(outputs), 36))\n",
        "    for i, output in enumerate(outputs):\n",
        "        pred = np.zeros(36)\n",
        "        digit_index = np.argmax(output[:11])\n",
        "        letter_index = np.argmax(output[11:]) + 11\n",
        "        pred[digit_index], pred[letter_index] = 1, 1\n",
        "        preds[i] = pred\n",
        "    return preds\n",
        "    \n",
        "def correct_digit(pred, label):\n",
        "    return np.array_equal(pred[:11],label[:11])\n",
        "\n",
        "def correct_letter(pred, label):\n",
        "    return np.array_equal(pred[11:],label[11:])\n",
        "\n",
        "def get_accuracy(results):\n",
        "    return round(sum(results) / len(results), 2)"
      ],
      "execution_count": 64,
      "outputs": []
    },
    {
      "cell_type": "code",
      "metadata": {
        "colab": {
          "base_uri": "https://localhost:8080/",
          "height": 392
        },
        "id": "Go-n5-iKHQxc",
        "outputId": "1bea81a0-72d6-4b12-c48b-a0f8d50e79e8"
      },
      "source": [
        "criterion = nn.BCEWithLogitsLoss()\n",
        "# optimizer = torch.optim.SGD(model.parameters(), lr=LEARNING_RATE, momentum=MOMENTUM, weight_decay=WEIGHT_DECAY)\n",
        "optimizer = torch.optim.Adam(model.parameters(), lr=LEARNING_RATE)\n",
        "\n",
        "val_accuracies = []\n",
        "\n",
        "for epoch in range(NUM_EPOCHS):\n",
        "    running_loss = 0.0\n",
        "    model.train()\n",
        "    for i, (inputs, targets) in enumerate(train_l_dataloader):\n",
        "        \n",
        "        # get data/targets\n",
        "        inputs = inputs.to(device)\n",
        "        true_targets = targets.to(device)\n",
        "\n",
        "        # zero the parameter gradients\n",
        "        optimizer.zero_grad()\n",
        "\n",
        "        # forward, backward,\n",
        "        outputs = model(inputs)\n",
        "        loss = criterion(outputs, true_targets)\n",
        "\n",
        "        # backward\n",
        "        loss.backward()\n",
        "\n",
        "        # gradient descent step\n",
        "        optimizer.step()\n",
        "\n",
        "        # track learning\n",
        "        running_loss += loss.item()\n",
        "        if i % 100 == 99:    # print every 2000 mini-batches\n",
        "            print('[%d, %5d] loss: %.3f' %\n",
        "                  (epoch + 1, i + 1, running_loss / 100))\n",
        "            running_loss = 0.0\n",
        "\n",
        "    model.eval()\n",
        "    digit_results = []\n",
        "    letter_results = []\n",
        "    for i, data in enumerate(val_l_dataloader):\n",
        "        val_inputs, val_labels = data\n",
        "        outputs = model(val_inputs)\n",
        "        val_labels = val_labels.cpu().detach().numpy()\n",
        "        preds = convert_outputs_to_preds(outputs.cpu().detach().numpy())\n",
        "        digit_results.append(correct_digit(preds[0], val_labels[0]))\n",
        "        letter_results.append(correct_letter(preds[0], val_labels[0]))\n",
        "    digit_accuracy = get_accuracy(digit_results)\n",
        "    letter_accuracy = get_accuracy(letter_results)\n",
        "    total_accuracy = get_accuracy(digit_results and letter_results)\n",
        "    val_accuracies.append((digit_accuracy, letter_accuracy, total_accuracy))\n",
        "        \n",
        "\n",
        "print('Finished Training')\n",
        "PATH = './cnn.pth'\n",
        "torch.save(model.state_dict(), PATH)"
      ],
      "execution_count": 65,
      "outputs": [
        {
          "output_type": "stream",
          "name": "stdout",
          "text": [
            "[1,   100] loss: 0.344\n"
          ]
        },
        {
          "output_type": "error",
          "ename": "KeyboardInterrupt",
          "evalue": "ignored",
          "traceback": [
            "\u001b[0;31m---------------------------------------------------------------------------\u001b[0m",
            "\u001b[0;31mKeyboardInterrupt\u001b[0m                         Traceback (most recent call last)",
            "\u001b[0;32m<ipython-input-65-35f4cd5e6895>\u001b[0m in \u001b[0;36m<module>\u001b[0;34m()\u001b[0m\n\u001b[1;32m     31\u001b[0m \u001b[0;34m\u001b[0m\u001b[0m\n\u001b[1;32m     32\u001b[0m         \u001b[0;31m# backward\u001b[0m\u001b[0;34m\u001b[0m\u001b[0;34m\u001b[0m\u001b[0;34m\u001b[0m\u001b[0m\n\u001b[0;32m---> 33\u001b[0;31m         \u001b[0mloss\u001b[0m\u001b[0;34m.\u001b[0m\u001b[0mbackward\u001b[0m\u001b[0;34m(\u001b[0m\u001b[0;34m)\u001b[0m\u001b[0;34m\u001b[0m\u001b[0;34m\u001b[0m\u001b[0m\n\u001b[0m\u001b[1;32m     34\u001b[0m \u001b[0;34m\u001b[0m\u001b[0m\n\u001b[1;32m     35\u001b[0m         \u001b[0;31m# gradient descent step\u001b[0m\u001b[0;34m\u001b[0m\u001b[0;34m\u001b[0m\u001b[0;34m\u001b[0m\u001b[0m\n",
            "\u001b[0;32m/usr/local/lib/python3.7/dist-packages/torch/_tensor.py\u001b[0m in \u001b[0;36mbackward\u001b[0;34m(self, gradient, retain_graph, create_graph, inputs)\u001b[0m\n\u001b[1;32m    253\u001b[0m                 \u001b[0mcreate_graph\u001b[0m\u001b[0;34m=\u001b[0m\u001b[0mcreate_graph\u001b[0m\u001b[0;34m,\u001b[0m\u001b[0;34m\u001b[0m\u001b[0;34m\u001b[0m\u001b[0m\n\u001b[1;32m    254\u001b[0m                 inputs=inputs)\n\u001b[0;32m--> 255\u001b[0;31m         \u001b[0mtorch\u001b[0m\u001b[0;34m.\u001b[0m\u001b[0mautograd\u001b[0m\u001b[0;34m.\u001b[0m\u001b[0mbackward\u001b[0m\u001b[0;34m(\u001b[0m\u001b[0mself\u001b[0m\u001b[0;34m,\u001b[0m \u001b[0mgradient\u001b[0m\u001b[0;34m,\u001b[0m \u001b[0mretain_graph\u001b[0m\u001b[0;34m,\u001b[0m \u001b[0mcreate_graph\u001b[0m\u001b[0;34m,\u001b[0m \u001b[0minputs\u001b[0m\u001b[0;34m=\u001b[0m\u001b[0minputs\u001b[0m\u001b[0;34m)\u001b[0m\u001b[0;34m\u001b[0m\u001b[0;34m\u001b[0m\u001b[0m\n\u001b[0m\u001b[1;32m    256\u001b[0m \u001b[0;34m\u001b[0m\u001b[0m\n\u001b[1;32m    257\u001b[0m     \u001b[0;32mdef\u001b[0m \u001b[0mregister_hook\u001b[0m\u001b[0;34m(\u001b[0m\u001b[0mself\u001b[0m\u001b[0;34m,\u001b[0m \u001b[0mhook\u001b[0m\u001b[0;34m)\u001b[0m\u001b[0;34m:\u001b[0m\u001b[0;34m\u001b[0m\u001b[0;34m\u001b[0m\u001b[0m\n",
            "\u001b[0;32m/usr/local/lib/python3.7/dist-packages/torch/autograd/__init__.py\u001b[0m in \u001b[0;36mbackward\u001b[0;34m(tensors, grad_tensors, retain_graph, create_graph, grad_variables, inputs)\u001b[0m\n\u001b[1;32m    147\u001b[0m     Variable._execution_engine.run_backward(\n\u001b[1;32m    148\u001b[0m         \u001b[0mtensors\u001b[0m\u001b[0;34m,\u001b[0m \u001b[0mgrad_tensors_\u001b[0m\u001b[0;34m,\u001b[0m \u001b[0mretain_graph\u001b[0m\u001b[0;34m,\u001b[0m \u001b[0mcreate_graph\u001b[0m\u001b[0;34m,\u001b[0m \u001b[0minputs\u001b[0m\u001b[0;34m,\u001b[0m\u001b[0;34m\u001b[0m\u001b[0;34m\u001b[0m\u001b[0m\n\u001b[0;32m--> 149\u001b[0;31m         allow_unreachable=True, accumulate_grad=True)  # allow_unreachable flag\n\u001b[0m\u001b[1;32m    150\u001b[0m \u001b[0;34m\u001b[0m\u001b[0m\n\u001b[1;32m    151\u001b[0m \u001b[0;34m\u001b[0m\u001b[0m\n",
            "\u001b[0;31mKeyboardInterrupt\u001b[0m: "
          ]
        }
      ]
    },
    {
      "cell_type": "code",
      "metadata": {
        "id": "hgHZt7j8q559",
        "colab": {
          "base_uri": "https://localhost:8080/"
        },
        "outputId": "e983eddd-40ed-4d75-aaf0-b973d72fdd30"
      },
      "source": [
        "# Check validation accuracy\n",
        "for i, val_accuracy in enumerate(val_accuracies):\n",
        "  print('Epoch = {}, Total Acc = {}, Digit Acc = {}, Letter Acc = {}'.format(i+1, val_accuracy[2], val_accuracy[0], val_accuracy[1]))"
      ],
      "execution_count": 58,
      "outputs": [
        {
          "output_type": "stream",
          "name": "stdout",
          "text": [
            "Epoch = 1, Total Acc = 0.16, Digit Acc = 0.33, Letter Acc = 0.16\n"
          ]
        }
      ]
    },
    {
      "cell_type": "code",
      "metadata": {
        "id": "noD_ancQtarY"
      },
      "source": [
        "# Setup CSV for predictions export\n",
        "df = pd.DataFrame(columns=['# Id', 'Category'])"
      ],
      "execution_count": 59,
      "outputs": []
    },
    {
      "cell_type": "code",
      "metadata": {
        "id": "R_3icX5sZ2CF"
      },
      "source": [
        "with torch.no_grad():\n",
        "    i = 0\n",
        "    for data in test_ul_dataloader:\n",
        "        inputs = data[0].to(device) \n",
        "        targets = data[1].to(device)\n",
        "        outputs = model(inputs)\n",
        "        predictions = transform_output(outputs)\n",
        "        for pred in predictions:\n",
        "            label = ''.join(str(x) for x in pred)\n",
        "            df.loc[i] = [i, label]\n",
        "            i += 1"
      ],
      "execution_count": 60,
      "outputs": []
    },
    {
      "cell_type": "code",
      "metadata": {
        "id": "wio8hvE8Vmkk",
        "colab": {
          "base_uri": "https://localhost:8080/",
          "height": 419
        },
        "outputId": "83c6b67e-db4c-4d67-daae-747dae8f952e"
      },
      "source": [
        "df"
      ],
      "execution_count": 61,
      "outputs": [
        {
          "output_type": "execute_result",
          "data": {
            "text/html": [
              "<div>\n",
              "<style scoped>\n",
              "    .dataframe tbody tr th:only-of-type {\n",
              "        vertical-align: middle;\n",
              "    }\n",
              "\n",
              "    .dataframe tbody tr th {\n",
              "        vertical-align: top;\n",
              "    }\n",
              "\n",
              "    .dataframe thead th {\n",
              "        text-align: right;\n",
              "    }\n",
              "</style>\n",
              "<table border=\"1\" class=\"dataframe\">\n",
              "  <thead>\n",
              "    <tr style=\"text-align: right;\">\n",
              "      <th></th>\n",
              "      <th># Id</th>\n",
              "      <th>Category</th>\n",
              "    </tr>\n",
              "  </thead>\n",
              "  <tbody>\n",
              "    <tr>\n",
              "      <th>0</th>\n",
              "      <td>0</td>\n",
              "      <td>100000000000000000000000000000100000</td>\n",
              "    </tr>\n",
              "    <tr>\n",
              "      <th>1</th>\n",
              "      <td>1</td>\n",
              "      <td>000010000000000000000010000000000000</td>\n",
              "    </tr>\n",
              "    <tr>\n",
              "      <th>2</th>\n",
              "      <td>2</td>\n",
              "      <td>000100000000000000010000000000000000</td>\n",
              "    </tr>\n",
              "    <tr>\n",
              "      <th>3</th>\n",
              "      <td>3</td>\n",
              "      <td>000010000000000000000000000000100000</td>\n",
              "    </tr>\n",
              "    <tr>\n",
              "      <th>4</th>\n",
              "      <td>4</td>\n",
              "      <td>000000000100000000010000000000000000</td>\n",
              "    </tr>\n",
              "    <tr>\n",
              "      <th>...</th>\n",
              "      <td>...</td>\n",
              "      <td>...</td>\n",
              "    </tr>\n",
              "    <tr>\n",
              "      <th>14995</th>\n",
              "      <td>14995</td>\n",
              "      <td>000001000000000000000000000010000000</td>\n",
              "    </tr>\n",
              "    <tr>\n",
              "      <th>14996</th>\n",
              "      <td>14996</td>\n",
              "      <td>001000000000000000000000000000100000</td>\n",
              "    </tr>\n",
              "    <tr>\n",
              "      <th>14997</th>\n",
              "      <td>14997</td>\n",
              "      <td>000000100010000000000000000000000000</td>\n",
              "    </tr>\n",
              "    <tr>\n",
              "      <th>14998</th>\n",
              "      <td>14998</td>\n",
              "      <td>010000000000000000000100000000000000</td>\n",
              "    </tr>\n",
              "    <tr>\n",
              "      <th>14999</th>\n",
              "      <td>14999</td>\n",
              "      <td>000010000000000000000000000000001000</td>\n",
              "    </tr>\n",
              "  </tbody>\n",
              "</table>\n",
              "<p>15000 rows × 2 columns</p>\n",
              "</div>"
            ],
            "text/plain": [
              "        # Id                              Category\n",
              "0          0  100000000000000000000000000000100000\n",
              "1          1  000010000000000000000010000000000000\n",
              "2          2  000100000000000000010000000000000000\n",
              "3          3  000010000000000000000000000000100000\n",
              "4          4  000000000100000000010000000000000000\n",
              "...      ...                                   ...\n",
              "14995  14995  000001000000000000000000000010000000\n",
              "14996  14996  001000000000000000000000000000100000\n",
              "14997  14997  000000100010000000000000000000000000\n",
              "14998  14998  010000000000000000000100000000000000\n",
              "14999  14999  000010000000000000000000000000001000\n",
              "\n",
              "[15000 rows x 2 columns]"
            ]
          },
          "metadata": {},
          "execution_count": 61
        }
      ]
    },
    {
      "cell_type": "code",
      "metadata": {
        "id": "cT3ng35WIGGe"
      },
      "source": [
        ""
      ],
      "execution_count": 36,
      "outputs": []
    },
    {
      "cell_type": "code",
      "metadata": {
        "id": "yrgwPKD_p1Vt"
      },
      "source": [
        "# Export CSV for Kaggle\n",
        "from datetime import datetime\n",
        "filename = 'kaggle_g19_{}.csv'.format(datetime.now())\n",
        "df.to_csv(filename, sep=',', float_format='{:36}', index=False)"
      ],
      "execution_count": null,
      "outputs": []
    },
    {
      "cell_type": "code",
      "metadata": {
        "id": "BBwQPCZ2wjJ5"
      },
      "source": [
        ""
      ],
      "execution_count": null,
      "outputs": []
    }
  ]
}