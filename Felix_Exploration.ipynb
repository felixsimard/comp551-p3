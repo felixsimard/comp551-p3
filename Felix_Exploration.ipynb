{
  "nbformat": 4,
  "nbformat_minor": 0,
  "metadata": {
    "colab": {
      "name": "Felix-Exploration.ipynb",
      "provenance": [],
      "mount_file_id": "https://github.com/felixsimard/comp551-p3/blob/main/Felix_Exploration.ipynb",
      "authorship_tag": "ABX9TyNqSSe2s6VCHRs6h2JRCIxm",
      "include_colab_link": true
    },
    "kernelspec": {
      "name": "python3",
      "display_name": "Python 3"
    },
    "language_info": {
      "name": "python"
    },
    "accelerator": "GPU"
  },
  "cells": [
    {
      "cell_type": "markdown",
      "metadata": {
        "id": "view-in-github",
        "colab_type": "text"
      },
      "source": [
        "<a href=\"https://colab.research.google.com/github/felixsimard/comp551-p3/blob/main/Felix_Exploration.ipynb\" target=\"_parent\"><img src=\"https://colab.research.google.com/assets/colab-badge.svg\" alt=\"Open In Colab\"/></a>"
      ]
    },
    {
      "cell_type": "code",
      "metadata": {
        "id": "j9d--OU0IF0S"
      },
      "source": [
        "# Felix's Notebook for exploring the assignment"
      ],
      "execution_count": 68,
      "outputs": []
    },
    {
      "cell_type": "code",
      "metadata": {
        "id": "3yNW2EISINDi"
      },
      "source": [
        "import torch\n",
        "import torch.nn as nn\n",
        "import torch.nn.functional as F\n",
        "import torchvision\n",
        "import torchvision.transforms as transforms\n",
        "from torch.utils.data import TensorDataset, DataLoader, Dataset\n",
        "import matplotlib.pyplot as plt\n",
        "import numpy as np\n",
        "import pandas as pd\n",
        "import pickle\n",
        "from PIL import Image\n",
        "from sklearn import preprocessing\n",
        "from tqdm import tqdm\n",
        "import math\n",
        "import string"
      ],
      "execution_count": 101,
      "outputs": []
    },
    {
      "cell_type": "code",
      "metadata": {
        "id": "Xgfx5EC0kW8V",
        "colab": {
          "base_uri": "https://localhost:8080/"
        },
        "outputId": "9c83fcf2-0f83-4497-fa50-ffaf0d455f0e"
      },
      "source": [
        "# Device configuration\n",
        "device = torch.device('cuda:0' if torch.cuda.is_available() else 'cpu')\n",
        "print(device)"
      ],
      "execution_count": 102,
      "outputs": [
        {
          "output_type": "stream",
          "name": "stdout",
          "text": [
            "cuda:0\n"
          ]
        }
      ]
    },
    {
      "cell_type": "code",
      "metadata": {
        "id": "v3doYI1lAbe9"
      },
      "source": [
        "def imshow(img):\n",
        "    img = img / 2 + 0.5     # unnormalize\n",
        "    npimg = img.numpy()\n",
        "    plt.imshow(img)\n",
        "    # plt.imshow(np.transpose(npimg, (1, 2, 0))) \n",
        "    plt.show()"
      ],
      "execution_count": 103,
      "outputs": []
    },
    {
      "cell_type": "code",
      "metadata": {
        "id": "1jRaz4Q8BEO5"
      },
      "source": [
        "def get_label_value(labels):\n",
        "  \"\"\"\n",
        "  This function will return a string representing the label of a picture given\n",
        "  the array label as input:\n",
        "  Ex ouput: '1a', '4z' ...\n",
        "  \"\"\"\n",
        "  label_temp = labels.tolist()\n",
        "  label_temp = [int(x) for x in label_temp]\n",
        "  number = label_temp[:10].index(1)\n",
        "  letter = alpha_dict[label_temp[10:].index(1)]\n",
        "\n",
        "  return str(number) + str(letter)"
      ],
      "execution_count": 104,
      "outputs": []
    },
    {
      "cell_type": "code",
      "metadata": {
        "id": "IyZ_vYDKKFnf"
      },
      "source": [
        "def transform_output(scores):\n",
        "    \"\"\"\n",
        "    Input a Tensor and output will be another Tensor with same dimension but with all elements 0 except two.\n",
        "    Those 2 elements will have value of 1 and will correspond to the models prediction about which letter and number\n",
        "    is in the image.\n",
        "    :param scores:\n",
        "    :return:\n",
        "    \"\"\"\n",
        "    return_array = []\n",
        "    score_list = scores.tolist()\n",
        "\n",
        "    for score in score_list:\n",
        "        numbers = score[:10]\n",
        "        letters = score[10:]\n",
        "        test = lambda x, max_value : 1 if x >= max_value else 0\n",
        "\n",
        "        new_numbers = [test(x, max(numbers)) for x in numbers]\n",
        "        new_letters = [test(x, max(letters)) for x in letters]\n",
        "\n",
        "        return_array.append(new_numbers + new_letters)\n",
        "\n",
        "    return return_array"
      ],
      "execution_count": 144,
      "outputs": []
    },
    {
      "cell_type": "code",
      "metadata": {
        "id": "vtwE88yZRgFr"
      },
      "source": [
        ""
      ],
      "execution_count": 143,
      "outputs": []
    },
    {
      "cell_type": "code",
      "metadata": {
        "id": "batbKOaCj6fa",
        "colab": {
          "base_uri": "https://localhost:8080/"
        },
        "outputId": "6b67489f-e2d7-4af8-992d-2251f994d867"
      },
      "source": [
        "from google.colab import drive\n",
        "drive.mount(\"/content/drive\")\n",
        "def load_data(filename, data_path='/content/drive/MyDrive/P3-COMP551-FALL2021/'):\n",
        "    loaded_pkl = None\n",
        "    try:\n",
        "        pkl_buffered = open(data_path+''+filename,'rb')\n",
        "        loaded_pkl = pickle.load(pkl_buffered)\n",
        "    except Exception as e:\n",
        "        print(\"Error loading data: {}\".format(e))\n",
        "    return loaded_pkl\n",
        "    "
      ],
      "execution_count": 106,
      "outputs": [
        {
          "output_type": "stream",
          "name": "stdout",
          "text": [
            "Drive already mounted at /content/drive; to attempt to forcibly remount, call drive.mount(\"/content/drive\", force_remount=True).\n"
          ]
        }
      ]
    },
    {
      "cell_type": "code",
      "metadata": {
        "id": "iuvaFp3CvYH-"
      },
      "source": [
        "# Load data\n",
        "train_l = load_data(\"images_l.pkl\")\n",
        "train_ul = load_data(\"images_ul.pkl\")\n",
        "train_labels_l = load_data(\"labels_l.pkl\")\n",
        "test_ul = load_data(\"images_test.pkl\")"
      ],
      "execution_count": 107,
      "outputs": []
    },
    {
      "cell_type": "code",
      "metadata": {
        "id": "ds4PQvPLM4OR"
      },
      "source": [
        ""
      ],
      "execution_count": 107,
      "outputs": []
    },
    {
      "cell_type": "code",
      "metadata": {
        "id": "hwO8NOgHkd23"
      },
      "source": [
        "# Reference: https://stackoverflow.com/questions/44429199/how-to-load-a-list-of-numpy-arrays-to-pytorch-dataset-loader\n",
        "class CustomDataset(Dataset):\n",
        "    def __init__(self, data, targets, transform=None):\n",
        "        self.data = data\n",
        "        self.targets = torch.LongTensor(targets)\n",
        "        self.transform = transform\n",
        "        \n",
        "    def __getitem__(self, index):\n",
        "        x = self.data[index]\n",
        "        y = self.targets[index]\n",
        "        \n",
        "        if self.transform:\n",
        "            # x = Image.fromarray(self.data[index].astype(np.uint8).transpose(1, 2, 0))\n",
        "            x = self.transform(x)\n",
        "        \n",
        "        return x, y\n",
        "    \n",
        "    \n",
        "    def __len__(self):\n",
        "        return len(self.data)"
      ],
      "execution_count": 108,
      "outputs": []
    },
    {
      "cell_type": "code",
      "metadata": {
        "id": "mDFiIo7cRWsN"
      },
      "source": [
        "# Hyper-parameters\n",
        "NUM_EPOCHS = 10\n",
        "BATCH_SIZE = 4\n",
        "NUM_CHANNELS = 1\n",
        "NUM_CLASSES = 36\n",
        "LEARNING_RATE = 0.001\n",
        "MOMENTUM = 0.9\n",
        "WEIGHT_DECAY = 0.0001\n",
        "TRAIN_TEST_SPLIT = 0.3\n",
        "FLATTEN_IMG_SIZE = 3136 # 56 * 56 "
      ],
      "execution_count": 109,
      "outputs": []
    },
    {
      "cell_type": "code",
      "metadata": {
        "id": "F_X-KfukA00R",
        "colab": {
          "base_uri": "https://localhost:8080/"
        },
        "outputId": "9b19e58c-64fb-4bc9-bbf7-c161ce3cb0cf"
      },
      "source": [
        "# Tensor, Transform, Datasets, Dataloaders\n",
        "\n",
        "# For labelizing inputs\n",
        "# def labelize(lst):\n",
        "#     bin_str = \"\".join(str(int(i)) for i in lst)\n",
        "#     return bin_str\n",
        "\n",
        "# Labels logic\n",
        "# labels_l_lst = labels_l.tolist()\n",
        "# labels_l_lst = [labelize(lst) for lst in labels_l_lst]\n",
        "# labels_encoder = preprocessing.LabelEncoder()\n",
        "# targets = labels_encoder.fit_transform(labels_l_lst)\n",
        "\n",
        "# Flatten training data\n",
        "# ?\n",
        "\n",
        "\n",
        "# Split into training and validation\n",
        "split_index = math.floor(len(train_labels_l)*TRAIN_TEST_SPLIT)\n",
        "\n",
        "full_train_l = train_l\n",
        "val_l = train_l[:split_index]\n",
        "train_l = train_l[split_index:]\n",
        "\n",
        "full_train_labels_l = train_labels_l\n",
        "val_labels_l = train_labels_l[:split_index]\n",
        "train_labels_l = train_labels_l[split_index:]\n",
        "\n",
        "print(full_train_l.shape, full_train_labels_l.shape)\n",
        "print(train_l.shape, train_labels_l.shape)\n",
        "print(val_l.shape, val_labels_l.shape)"
      ],
      "execution_count": 110,
      "outputs": [
        {
          "output_type": "stream",
          "name": "stdout",
          "text": [
            "(30000, 56, 56) (30000, 36)\n",
            "(21000, 56, 56) (21000, 36)\n",
            "(9000, 56, 56) (9000, 36)\n"
          ]
        }
      ]
    },
    {
      "cell_type": "code",
      "metadata": {
        "id": "AAIFBUw8wVHM",
        "outputId": "3d7b7a78-9e2f-4fd3-9083-ce980d825d4b",
        "colab": {
          "base_uri": "https://localhost:8080/",
          "height": 482
        }
      },
      "source": [
        "# Visualize some data\n",
        "alpha_dict = dict(enumerate(string.ascii_lowercase))\n",
        "figure = plt.figure(figsize=(20, 8))\n",
        "cols, rows = 4, 2\n",
        "for i in range(1, cols * rows + 1):\n",
        "    sample_idx = torch.randint(len(train_l), size=(1,)).item()\n",
        "    img = train_l[sample_idx]\n",
        "    label = get_label_value(train_labels_l[sample_idx])\n",
        "    figure.add_subplot(rows, cols, i)\n",
        "    plt.title(label)\n",
        "    plt.axis(\"off\")\n",
        "    plt.imshow(img.squeeze())\n",
        "plt.show()"
      ],
      "execution_count": 111,
      "outputs": [
        {
          "output_type": "display_data",
          "data": {
            "image/png": "[encoded data removed]",
            "text/plain": [
              "<Figure size 1440x576 with 8 Axes>"
            ]
          },
          "metadata": {
            "needs_background": "light"
          }
        }
      ]
    },
    {
      "cell_type": "code",
      "metadata": {
        "id": "AH4dl7Uhv9cy"
      },
      "source": [
        "# Turn data and labels into Datasets then DataLoaders\n",
        "\n",
        "# Transform function\n",
        "mean = (0.5,)\n",
        "std = (0.5,)\n",
        "transform = transforms.Compose(\n",
        "    [transforms.ToTensor(),\n",
        "     transforms.Normalize(mean=mean, std=std)])\n",
        "\n",
        "# DataLoaders\n",
        "full_train_l_dataloader = DataLoader(CustomDataset(full_train_l, full_train_labels_l, transform=transform), shuffle=True, batch_size=BATCH_SIZE)\n",
        "train_l_dataloader = DataLoader(CustomDataset(train_l, train_labels_l, transform=transform), shuffle=True, batch_size=BATCH_SIZE)\n",
        "val_l_dataloader = DataLoader(CustomDataset(val_l, val_labels_l, transform=transform), shuffle=True, batch_size=BATCH_SIZE)\n",
        "\n",
        "# Test set for Kaggle\n",
        "test_labels_ul = np.zeros(len(test_ul))\n",
        "test_ul_dataloader = DataLoader(TensorDataset(torch.Tensor(test_ul), torch.Tensor(test_labels_ul)), batch_size=BATCH_SIZE, shuffle=False)"
      ],
      "execution_count": 115,
      "outputs": []
    },
    {
      "cell_type": "code",
      "metadata": {
        "id": "xXuPBNFHvY6U",
        "colab": {
          "base_uri": "https://localhost:8080/"
        },
        "outputId": "8d43ba16-99ff-4b3b-eefd-7cd54628bb4d"
      },
      "source": [
        "# Define labels\n",
        "labels = []\n",
        "for l in range(26):\n",
        "    letter_str = [0.0 for i in range(26)]\n",
        "    letter_str[l] = 1.0\n",
        "    for d in range(10):\n",
        "        digits_str = [0.0 for j in range(10)]\n",
        "        digits_str[d] = 1.0\n",
        "        c = digits_str + letter_str\n",
        "        # c = \"\".join(c_str)\n",
        "        labels.append(c)\n",
        "print(len(labels))"
      ],
      "execution_count": 116,
      "outputs": [
        {
          "output_type": "stream",
          "name": "stdout",
          "text": [
            "260\n"
          ]
        }
      ]
    },
    {
      "cell_type": "code",
      "metadata": {
        "id": "ooBvvB2DE4Vc"
      },
      "source": [
        "# Implement CONV Net\n",
        "\n",
        "class Net(nn.Module):\n",
        "    def __init__(self, in_channels=NUM_CHANNELS, num_classes=NUM_CLASSES):\n",
        "        super(Net, self).__init__()\n",
        "        self.in_channels = in_channels\n",
        "        self.num_classes = num_classes\n",
        "        self.conv1 = nn.Conv2d(1, 6, 5)\n",
        "        self.pool = nn.MaxPool2d(2, 2)\n",
        "        self.conv2 = nn.Conv2d(6, 16, 5)\n",
        "        self.fc1 = nn.Linear(16 * 11 * 11, 120)\n",
        "        self.fc2 = nn.Linear(120, 84)\n",
        "        self.fc3 = nn.Linear(84, self.num_classes)\n",
        "\n",
        "    def forward(self, x):\n",
        "        x = self.pool(F.relu(self.conv1(x)))\n",
        "        x = self.pool(F.relu(self.conv2(x)))\n",
        "        x = x.view(-1, 16 * 11 * 11)\n",
        "        x = F.relu(self.fc1(x))\n",
        "        x = F.relu(self.fc2(x))\n",
        "        x = self.fc3(x)\n",
        "        return x\n",
        "\n",
        "class ConvNet(nn.Module):\n",
        "    def __init__(self, input_size=FLATTEN_IMG_SIZE, in_channels=NUM_CHANNELS, num_classes=NUM_CLASSES):\n",
        "        super(ConvNet, self).__init__()\n",
        "        self.input_size = input_size\n",
        "        self.in_channels = in_channels\n",
        "        self.num_classes = num_classes\n",
        "        self.conv1 = nn.Conv2d(3, 6, 5) # input channel (rgb), output channel, kernel size \n",
        "        self.pool = nn.MaxPool2d(2, 2) # define 2x2 stride for max-pooling\n",
        "        self.conv2 = nn.Conv2d(6, 16, 5) # input channel size = output channel size of previous conv layer\n",
        "        self.fc1 = nn.Linear(16*11*11, 120) # fully connected layer\n",
        "        self.fc2 = nn.Linear(120, 84)\n",
        "        self.fc3 = nn.Linear(84, num_classes)   \n",
        "    def forward(self, x):\n",
        "        x = self.pool(F.relu(self.conv1(x))) # activation function does not change size\n",
        "        x = self.pool(F.relu(self.conv2(x)))\n",
        "        x = x.view(-1, 16*11*11) # -1 tells PyTorch to infer num batches # flatten tensor\n",
        "        x = F.relu(self.fc1(x))\n",
        "        x = F.relu(self.fc2(x))\n",
        "        x = self.fc3(x) # no activation at end, softmax included in CrossEntropyLoss\n",
        "        return x\n",
        "\n",
        "# VGG11 Conv Net\n",
        "class ConvNet_VGG11(nn.Module):\n",
        "    def __init__(self, input_size=FLATTEN_IMG_SIZE, in_channels=NUM_CHANNELS, num_classes=NUM_CLASSES):\n",
        "        super(ConvNet_VGG11, self).__init__()\n",
        "        self.in_channels = in_channels\n",
        "        self.num_classes = num_classes\n",
        "        # convolution layers\n",
        "        self.con_layers = nn.Sequential(\n",
        "            nn.Conv2d(self.in_channels, 64, kernel_size=3, padding=1),\n",
        "            nn.ReLU(),\n",
        "            nn.MaxPool2d(kernel_size=2, stride=2),\n",
        "            nn.Conv2d(64, 128, kernel_size=3, padding=1),\n",
        "            nn.ReLU(),\n",
        "            nn.MaxPool2d(kernel_size=2, stride=2),\n",
        "            nn.Conv2d(128, 256, kernel_size=3, padding=1),\n",
        "            nn.ReLU(),\n",
        "            nn.Conv2d(256, 256, kernel_size=3, padding=1),\n",
        "            nn.ReLU(),\n",
        "            nn.MaxPool2d(kernel_size=2, stride=2),\n",
        "            nn.Conv2d(256, 512, kernel_size=3, padding=1),\n",
        "            nn.ReLU(),\n",
        "            nn.Conv2d(512, 512, kernel_size=3, padding=1),\n",
        "            nn.ReLU(),\n",
        "            nn.MaxPool2d(kernel_size=2, stride=2),\n",
        "            nn.Conv2d(512, 512, kernel_size=3, padding=1),\n",
        "            nn.ReLU(),\n",
        "            nn.Conv2d(512, 512, kernel_size=3, padding=1),\n",
        "            nn.ReLU(),\n",
        "            nn.MaxPool2d(kernel_size=2, stride=2)\n",
        "        )\n",
        "        self.linear_layers = nn.Sequential(\n",
        "            nn.Linear(in_features=512, out_features=4096),\n",
        "            nn.ReLU(),\n",
        "            nn.Dropout2d(0.5),\n",
        "            nn.Linear(in_features=4096, out_features=4096),\n",
        "            nn.ReLU(),\n",
        "            nn.Dropout2d(0.5),\n",
        "            nn.Linear(in_features=4096, out_features=self.num_classes)\n",
        "        )\n",
        "\n",
        "    def forward(self, x):\n",
        "        x = self.con_layers(x)\n",
        "        # flatten to prepare for the fully connected layers\n",
        "        x = x.view(x.size(0), -1)\n",
        "        x = self.linear_layers(x)\n",
        "        return x\n",
        "\n",
        "model = Net().to(device)"
      ],
      "execution_count": 118,
      "outputs": []
    },
    {
      "cell_type": "code",
      "metadata": {
        "colab": {
          "base_uri": "https://localhost:8080/"
        },
        "id": "Yc2s6YwqN28x",
        "outputId": "5c9ec57b-f845-4677-abf5-6b5b680e1a89"
      },
      "source": [
        "# Test model flow, check output size, shoudl be [batchs_size, num_classes]\n",
        "dummy_model = Net()\n",
        "random_input = torch.rand(BATCH_SIZE, 1, 56, 56)\n",
        "print(random_input.shape)\n",
        "output = dummy_model(random_input)\n",
        "print(output.shape)"
      ],
      "execution_count": 119,
      "outputs": [
        {
          "output_type": "stream",
          "name": "stdout",
          "text": [
            "torch.Size([4, 1, 56, 56])\n",
            "torch.Size([4, 36])\n"
          ]
        }
      ]
    },
    {
      "cell_type": "code",
      "metadata": {
        "id": "n6Lrt1pstW72"
      },
      "source": [
        ""
      ],
      "execution_count": 119,
      "outputs": []
    },
    {
      "cell_type": "code",
      "metadata": {
        "colab": {
          "base_uri": "https://localhost:8080/"
        },
        "id": "Go-n5-iKHQxc",
        "outputId": "c2ccf64b-ff42-479a-889b-19f18cd72884"
      },
      "source": [
        "# criterion = nn.CrossEntropyLoss() # includes softmax\n",
        "criterion = nn.BCEWithLogitsLoss()\n",
        "optimizer = torch.optim.SGD(model.parameters(), lr=LEARNING_RATE, momentum=MOMENTUM, weight_decay=WEIGHT_DECAY)\n",
        "\n",
        "for epoch in range(NUM_EPOCHS):\n",
        "    running_loss = 0.0\n",
        "    for i, (inputs, targets) in enumerate(full_train_l_dataloader):\n",
        "        \n",
        "        # get data/targets\n",
        "        inputs = inputs.to(device).float() \n",
        "        targets = targets.to(device).float()\n",
        "\n",
        "        # print(\"Before input shape:\", inputs.flatten(1, 2).shape)\n",
        "\n",
        "        # get the correct input shape\n",
        "        # inputs = inputs.reshape(inputs.shape[0], -1)\n",
        "\n",
        "        \n",
        "        # print(\"Inputs:\", inputs.shape)\n",
        "        # print(inputs)\n",
        "        # print(\"Targets:\", targets.shape)\n",
        "        # print(targets)\n",
        "\n",
        "        # forward\n",
        "        outputs = model(inputs)\n",
        "        # print(\"Outputs:\", outputs.shape)\n",
        "        # print(\"Targets:\", targets.shape)\n",
        "        loss = criterion(outputs, targets)\n",
        "\n",
        "        # backward\n",
        "        optimizer.zero_grad()\n",
        "        loss.backward()\n",
        "\n",
        "        # gradient descent step\n",
        "        optimizer.step()\n",
        "\n",
        "        # track learning\n",
        "        running_loss += loss.item()\n",
        "        if i % 2000 == 1999:    # print every 2000 mini-batches\n",
        "            print('[%d, %5d] loss: %.3f' %\n",
        "                  (epoch + 1, i + 1, running_loss / 2000))\n",
        "            running_loss = 0.0\n",
        "        \n",
        "\n",
        "print('Finished Training')\n",
        "PATH = './cnn.pth'\n",
        "torch.save(model.state_dict(), PATH)"
      ],
      "execution_count": 121,
      "outputs": [
        {
          "output_type": "stream",
          "name": "stdout",
          "text": [
            "[1,  2000] loss: 0.214\n",
            "[1,  4000] loss: 0.212\n",
            "[1,  6000] loss: 0.210\n",
            "[2,  2000] loss: 0.203\n",
            "[2,  4000] loss: 0.201\n",
            "[2,  6000] loss: 0.198\n",
            "[3,  2000] loss: 0.192\n",
            "[3,  4000] loss: 0.189\n",
            "[3,  6000] loss: 0.188\n",
            "[4,  2000] loss: 0.181\n",
            "[4,  4000] loss: 0.179\n",
            "[4,  6000] loss: 0.177\n",
            "[5,  2000] loss: 0.171\n",
            "[5,  4000] loss: 0.169\n",
            "[5,  6000] loss: 0.169\n",
            "[6,  2000] loss: 0.162\n",
            "[6,  4000] loss: 0.161\n",
            "[6,  6000] loss: 0.159\n",
            "[7,  2000] loss: 0.153\n",
            "[7,  4000] loss: 0.151\n",
            "[7,  6000] loss: 0.153\n",
            "[8,  2000] loss: 0.143\n",
            "[8,  4000] loss: 0.145\n",
            "[8,  6000] loss: 0.144\n",
            "[9,  2000] loss: 0.135\n",
            "[9,  4000] loss: 0.137\n",
            "[9,  6000] loss: 0.138\n",
            "[10,  2000] loss: 0.127\n",
            "[10,  4000] loss: 0.131\n",
            "[10,  6000] loss: 0.131\n",
            "Finished Training\n"
          ]
        }
      ]
    },
    {
      "cell_type": "code",
      "metadata": {
        "id": "ssnB3f2W5wVS"
      },
      "source": [
        "# Check validation accuracy\n",
        "# correct = 0\n",
        "# total = 0\n",
        "# with torch.no_grad():\n",
        "#     for data in val_l_dataloader:\n",
        "#         inputs = inputs.to(device).float() \n",
        "#         targets = targets.to(device).float()\n",
        "#         outputs = model(inputs)\n",
        "#         _, predicted = torch.max(outputs.data, 1)\n",
        "#         print(predicted)\n",
        "#         total += targets.size(0)\n",
        "#         correct += (predicted == targets).sum().item()\n",
        "\n",
        "# print('Validation accuracy on the {} images: {}'.format(len(val_l), 100 * correct / total))"
      ],
      "execution_count": 122,
      "outputs": []
    },
    {
      "cell_type": "code",
      "metadata": {
        "id": "c3FrFOP9aEtN"
      },
      "source": [
        ""
      ],
      "execution_count": 122,
      "outputs": []
    },
    {
      "cell_type": "code",
      "metadata": {
        "id": "oBArQ3oYSw3Y"
      },
      "source": [
        ""
      ],
      "execution_count": 122,
      "outputs": []
    },
    {
      "cell_type": "code",
      "metadata": {
        "id": "noD_ancQtarY"
      },
      "source": [
        "# Setup CSV for predictions export\n",
        "df = pd.DataFrame(columns=['# Id', 'Category'])"
      ],
      "execution_count": 157,
      "outputs": []
    },
    {
      "cell_type": "code",
      "metadata": {
        "id": "R_3icX5sZ2CF"
      },
      "source": [
        "with torch.no_grad():\n",
        "    i = 0\n",
        "    for data in test_ul_dataloader:\n",
        "        inputs = inputs.to(device).float() \n",
        "        targets = targets.to(device).float()\n",
        "        outputs = model(inputs)\n",
        "        predictions = transform_output(outputs)\n",
        "        # _, predicted = torch.max(outputs.data, 1)\n",
        "        # print(predicted)\n",
        "        for batch in range(BATCH_SIZE):\n",
        "            prediction = predictions[batch]\n",
        "            label = ''.join(str(x) for x in prediction)\n",
        "            df.loc[i] = [i, label]\n",
        "            i += 1"
      ],
      "execution_count": 161,
      "outputs": []
    },
    {
      "cell_type": "code",
      "metadata": {
        "id": "wio8hvE8Vmkk",
        "outputId": "69809dfe-d92f-41c7-d855-d0f3f143653c",
        "colab": {
          "base_uri": "https://localhost:8080/",
          "height": 419
        }
      },
      "source": [
        "df"
      ],
      "execution_count": 162,
      "outputs": [
        {
          "output_type": "execute_result",
          "data": {
            "text/html": [
              "<div>\n",
              "<style scoped>\n",
              "    .dataframe tbody tr th:only-of-type {\n",
              "        vertical-align: middle;\n",
              "    }\n",
              "\n",
              "    .dataframe tbody tr th {\n",
              "        vertical-align: top;\n",
              "    }\n",
              "\n",
              "    .dataframe thead th {\n",
              "        text-align: right;\n",
              "    }\n",
              "</style>\n",
              "<table border=\"1\" class=\"dataframe\">\n",
              "  <thead>\n",
              "    <tr style=\"text-align: right;\">\n",
              "      <th></th>\n",
              "      <th># Id</th>\n",
              "      <th>Category</th>\n",
              "    </tr>\n",
              "  </thead>\n",
              "  <tbody>\n",
              "    <tr>\n",
              "      <th>0</th>\n",
              "      <td>0</td>\n",
              "      <td>001000000000000000000000000000010000</td>\n",
              "    </tr>\n",
              "    <tr>\n",
              "      <th>1</th>\n",
              "      <td>1</td>\n",
              "      <td>000100000000000000000001000000000000</td>\n",
              "    </tr>\n",
              "    <tr>\n",
              "      <th>2</th>\n",
              "      <td>2</td>\n",
              "      <td>000000001000001000000000000000000000</td>\n",
              "    </tr>\n",
              "    <tr>\n",
              "      <th>3</th>\n",
              "      <td>3</td>\n",
              "      <td>000010000000000000000000000001000000</td>\n",
              "    </tr>\n",
              "    <tr>\n",
              "      <th>4</th>\n",
              "      <td>4</td>\n",
              "      <td>001000000000000000000000000000010000</td>\n",
              "    </tr>\n",
              "    <tr>\n",
              "      <th>...</th>\n",
              "      <td>...</td>\n",
              "      <td>...</td>\n",
              "    </tr>\n",
              "    <tr>\n",
              "      <th>14995</th>\n",
              "      <td>14995</td>\n",
              "      <td>000010000000000000000000000001000000</td>\n",
              "    </tr>\n",
              "    <tr>\n",
              "      <th>14996</th>\n",
              "      <td>14996</td>\n",
              "      <td>001000000000000000000000000000010000</td>\n",
              "    </tr>\n",
              "    <tr>\n",
              "      <th>14997</th>\n",
              "      <td>14997</td>\n",
              "      <td>000100000000000000000001000000000000</td>\n",
              "    </tr>\n",
              "    <tr>\n",
              "      <th>14998</th>\n",
              "      <td>14998</td>\n",
              "      <td>000000001000001000000000000000000000</td>\n",
              "    </tr>\n",
              "    <tr>\n",
              "      <th>14999</th>\n",
              "      <td>14999</td>\n",
              "      <td>000010000000000000000000000001000000</td>\n",
              "    </tr>\n",
              "  </tbody>\n",
              "</table>\n",
              "<p>15000 rows × 2 columns</p>\n",
              "</div>"
            ],
            "text/plain": [
              "        # Id                              Category\n",
              "0          0  001000000000000000000000000000010000\n",
              "1          1  000100000000000000000001000000000000\n",
              "2          2  000000001000001000000000000000000000\n",
              "3          3  000010000000000000000000000001000000\n",
              "4          4  001000000000000000000000000000010000\n",
              "...      ...                                   ...\n",
              "14995  14995  000010000000000000000000000001000000\n",
              "14996  14996  001000000000000000000000000000010000\n",
              "14997  14997  000100000000000000000001000000000000\n",
              "14998  14998  000000001000001000000000000000000000\n",
              "14999  14999  000010000000000000000000000001000000\n",
              "\n",
              "[15000 rows x 2 columns]"
            ]
          },
          "metadata": {},
          "execution_count": 162
        }
      ]
    },
    {
      "cell_type": "code",
      "metadata": {
        "id": "cT3ng35WIGGe"
      },
      "source": [
        "# Check out visually the predictions of our model"
      ],
      "execution_count": 154,
      "outputs": []
    },
    {
      "cell_type": "code",
      "metadata": {
        "id": "yrgwPKD_p1Vt"
      },
      "source": [
        "# Export CSV for Kaggle\n",
        "from datetime import datetime\n",
        "filename = 'kaggle_g19_{}.csv'.format(datetime.now())\n",
        "df.to_csv(filename, sep=',', float_format='{:36}', index=False)"
      ],
      "execution_count": 155,
      "outputs": []
    },
    {
      "cell_type": "code",
      "metadata": {
        "id": "kpTkvmx3ubFV"
      },
      "source": [
        "# test_df = pd.DataFrame(columns=['# Id', 'Category'])\n",
        "# test_df.loc[0] = [1, '00010001000000000']\n",
        "# test_df.to_csv('testcsv.csv', sep=',', float_format='{:36}', index=False)"
      ],
      "execution_count": 415,
      "outputs": []
    },
    {
      "cell_type": "code",
      "metadata": {
        "id": "_wdI6FpAu7zs"
      },
      "source": [
        ""
      ],
      "execution_count": 415,
      "outputs": []
    },
    {
      "cell_type": "code",
      "metadata": {
        "id": "BBwQPCZ2wjJ5"
      },
      "source": [
        ""
      ],
      "execution_count": 415,
      "outputs": []
    }
  ]
}