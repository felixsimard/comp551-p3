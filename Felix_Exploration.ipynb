{
  "nbformat": 4,
  "nbformat_minor": 0,
  "metadata": {
    "colab": {
      "name": "Felix-Exploration.ipynb",
      "provenance": [],
      "mount_file_id": "https://github.com/felixsimard/comp551-p3/blob/main/Felix_Exploration.ipynb",
      "authorship_tag": "ABX9TyOWP0sO/RXAgGSR5frGuYYs",
      "include_colab_link": true
    },
    "kernelspec": {
      "name": "python3",
      "display_name": "Python 3"
    },
    "language_info": {
      "name": "python"
    }
  },
  "cells": [
    {
      "cell_type": "markdown",
      "metadata": {
        "id": "view-in-github",
        "colab_type": "text"
      },
      "source": [
        "<a href=\"https://colab.research.google.com/github/felixsimard/comp551-p3/blob/main/Felix_Exploration.ipynb\" target=\"_parent\"><img src=\"https://colab.research.google.com/assets/colab-badge.svg\" alt=\"Open In Colab\"/></a>"
      ]
    },
    {
      "cell_type": "code",
      "metadata": {
        "id": "j9d--OU0IF0S"
      },
      "source": [
        "# Felix's Notebook for exploring the assignment"
      ],
      "execution_count": 25,
      "outputs": []
    },
    {
      "cell_type": "code",
      "metadata": {
        "id": "3yNW2EISINDi"
      },
      "source": [
        "import pickle"
      ],
      "execution_count": 26,
      "outputs": []
    },
    {
      "cell_type": "code",
      "metadata": {
        "id": "Xgfx5EC0kW8V"
      },
      "source": [
        ""
      ],
      "execution_count": 32,
      "outputs": []
    },
    {
      "cell_type": "code",
      "metadata": {
        "id": "batbKOaCj6fa"
      },
      "source": [
        "def load_data(filename, data_path='/content/drive/MyDrive/P3-COMP551-FALL2021/'):\n",
        "    from google.colab import drive\n",
        "    drive.mount(\"/content/drive\")\n",
        "    loaded_pkl = None\n",
        "    try:\n",
        "        pkl_buffered = open(data_path+''+filename,'rb')\n",
        "        loaded_pkl = pickle.load(pkl_buffered)\n",
        "    except Exception as e:\n",
        "        print(\"Error loading data: {}\".format(e))\n",
        "    return loaded_pkl\n",
        "    "
      ],
      "execution_count": 31,
      "outputs": []
    },
    {
      "cell_type": "code",
      "metadata": {
        "colab": {
          "base_uri": "https://localhost:8080/"
        },
        "id": "iuvaFp3CvYH-",
        "outputId": "834bc308-3e4d-4d8c-eea4-0200cbf42812"
      },
      "source": [
        "data = load_data(\"images_l.pkl\")\n",
        "data"
      ],
      "execution_count": 34,
      "outputs": [
        {
          "output_type": "stream",
          "name": "stdout",
          "text": [
            "Drive already mounted at /content/drive; to attempt to forcibly remount, call drive.mount(\"/content/drive\", force_remount=True).\n"
          ]
        },
        {
          "output_type": "execute_result",
          "data": {
            "text/plain": [
              "array([[[  0.,   0.,   0., ..., 175.,   0.,   0.],\n",
              "        [  0.,   0.,   0., ...,   0.,   0.,   0.],\n",
              "        [  0.,   0.,   0., ...,   0., 175.,   0.],\n",
              "        ...,\n",
              "        [  0.,   0.,   0., ...,   0.,   0.,   0.],\n",
              "        [  0.,   0.,   0., ...,   0.,   0.,   0.],\n",
              "        [  0.,   0.,   0., ...,   0.,   0.,   0.]],\n",
              "\n",
              "       [[  0.,   0.,   0., ...,   0.,   0.,   0.],\n",
              "        [  0.,   0.,   0., ...,   0.,   0.,   0.],\n",
              "        [  0.,   0.,   0., ...,   0.,   0.,   0.],\n",
              "        ...,\n",
              "        [  0.,   0.,   0., ...,   0.,   0.,   0.],\n",
              "        [  0.,   0.,   0., ...,   0.,   0.,   0.],\n",
              "        [  0.,   0.,   0., ...,   0.,   0.,   0.]],\n",
              "\n",
              "       [[  0.,   0.,   0., ...,   0.,   0.,   0.],\n",
              "        [  0.,   0.,   0., ...,   0.,   0.,   0.],\n",
              "        [  0.,   0.,   0., ...,   0.,   0.,   0.],\n",
              "        ...,\n",
              "        [  0.,   0., 175., ...,   0.,   0.,   0.],\n",
              "        [  0.,   0.,   0., ...,   0.,   0.,   0.],\n",
              "        [  0.,   0.,   0., ...,   0.,   0.,   0.]],\n",
              "\n",
              "       ...,\n",
              "\n",
              "       [[  0.,   0.,   0., ...,   0.,   0.,   0.],\n",
              "        [  0.,   0.,   0., ...,   0.,   0.,   0.],\n",
              "        [  0.,   0.,   0., ...,   0.,   0.,   0.],\n",
              "        ...,\n",
              "        [255.,   0.,   0., ...,   0.,   0.,   0.],\n",
              "        [  0., 255.,   0., ...,   0.,   0.,   0.],\n",
              "        [  0.,   0.,   0., ...,   0.,   0.,   0.]],\n",
              "\n",
              "       [[  0.,   0.,   0., ...,   0.,   0.,   0.],\n",
              "        [  0.,   0.,   0., ...,   0.,   0.,   0.],\n",
              "        [  0.,   0.,   0., ...,   0.,   0.,   0.],\n",
              "        ...,\n",
              "        [  0.,   0.,   0., ...,   0.,   0.,   0.],\n",
              "        [  0.,   0.,   0., ...,   0.,   0.,   0.],\n",
              "        [  0.,   0.,   0., ...,   0.,   0.,   0.]],\n",
              "\n",
              "       [[  0.,   0.,   0., ...,   0.,   0.,   0.],\n",
              "        [  0.,   0.,   0., ...,   0.,   0.,   0.],\n",
              "        [  0.,   0.,   0., ...,   0.,   0.,   0.],\n",
              "        ...,\n",
              "        [  0.,   0.,   0., ...,   0.,   0.,   0.],\n",
              "        [  0.,   0.,   0., ...,   0.,   0.,   0.],\n",
              "        [  0.,   0.,   0., ...,   0.,   0.,   0.]]])"
            ]
          },
          "metadata": {},
          "execution_count": 34
        }
      ]
    },
    {
      "cell_type": "code",
      "metadata": {
        "id": "xXuPBNFHvY6U"
      },
      "source": [
        ""
      ],
      "execution_count": 24,
      "outputs": []
    }
  ]
}