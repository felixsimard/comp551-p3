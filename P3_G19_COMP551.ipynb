{
  "nbformat": 4,
  "nbformat_minor": 0,
  "metadata": {
    "colab": {
      "name": "P3_G19_COMP551.ipynb",
      "provenance": [],
      "collapsed_sections": [
        "a8_UtRM9WUWH",
        "UnnVF6NAXaQo",
        "h44g_Np4Xe4D",
        "Jvf4PwdHdNBv",
        "pU3jWPGIdS8D",
        "76JdoGzydX7j",
        "nmkobjxxdZ95",
        "JnGy9zdJWIKm"
      ],
      "include_colab_link": true
    },
    "kernelspec": {
      "name": "python3",
      "display_name": "Python 3"
    },
    "language_info": {
      "name": "python"
    },
    "accelerator": "GPU"
  },
  "cells": [
    {
      "cell_type": "markdown",
      "metadata": {
        "id": "view-in-github",
        "colab_type": "text"
      },
      "source": [
        "<a href=\"https://colab.research.google.com/github/felixsimard/comp551-p3/blob/main/P3_G19_COMP551.ipynb\" target=\"_parent\"><img src=\"https://colab.research.google.com/assets/colab-badge.svg\" alt=\"Open In Colab\"/></a>"
      ]
    },
    {
      "cell_type": "markdown",
      "metadata": {
        "id": "6zseCfyvdYex"
      },
      "source": [
        "# **COMP 551 - Applied Machine Learning**\n",
        "\n",
        "### Mini Project 3: Multi-label Classification Image Data\n",
        "\n",
        "Anthony Porporino (260891600)<br>\n",
        "Hassan Sameh (260891600)<br>\n",
        "Felix Simard (260865674)\n",
        "\n",
        "**Group 19** <br>\n",
        "November 25th, 2021\n"
      ]
    },
    {
      "cell_type": "markdown",
      "metadata": {
        "id": "A2EelbQEfhqV"
      },
      "source": [
        "###Setup\n"
      ]
    },
    {
      "cell_type": "code",
      "metadata": {
        "id": "3yNW2EISINDi"
      },
      "source": [
        "import torch\n",
        "import torch.nn as nn\n",
        "import torch.nn.functional as F\n",
        "import torchvision\n",
        "import torchvision.transforms as transforms\n",
        "from torch.utils.data import TensorDataset, DataLoader, Dataset\n",
        "import matplotlib.pyplot as plt\n",
        "import numpy as np\n",
        "import pandas as pd\n",
        "import pickle\n",
        "from PIL import Image\n",
        "from sklearn import preprocessing\n",
        "from tqdm import tqdm\n",
        "import math\n",
        "import string\n",
        "import cv2"
      ],
      "execution_count": 51,
      "outputs": []
    },
    {
      "cell_type": "code",
      "metadata": {
        "id": "0OL7DT5N51j9",
        "colab": {
          "base_uri": "https://localhost:8080/"
        },
        "outputId": "5cdbc43b-9fc8-4bd4-9901-ec54eeeffd5d"
      },
      "source": [
        "# Device configuration\n",
        "device = torch.device('cuda:0' if torch.cuda.is_available() else 'cpu')\n",
        "print(device)"
      ],
      "execution_count": 52,
      "outputs": [
        {
          "output_type": "stream",
          "name": "stdout",
          "text": [
            "cuda:0\n"
          ]
        }
      ]
    },
    {
      "cell_type": "code",
      "metadata": {
        "id": "Xgfx5EC0kW8V",
        "colab": {
          "base_uri": "https://localhost:8080/"
        },
        "outputId": "d971dec7-90b9-41fc-e0ac-057d08c8f5ac"
      },
      "source": [
        "from google.colab import drive\n",
        "drive.mount(\"/content/drive\")"
      ],
      "execution_count": 53,
      "outputs": [
        {
          "output_type": "stream",
          "name": "stdout",
          "text": [
            "Drive already mounted at /content/drive; to attempt to forcibly remount, call drive.mount(\"/content/drive\", force_remount=True).\n"
          ]
        }
      ]
    },
    {
      "cell_type": "markdown",
      "metadata": {
        "id": "wZLZdytUfqQ1"
      },
      "source": [
        "### Hyper-parameters"
      ]
    },
    {
      "cell_type": "code",
      "metadata": {
        "id": "5IWZNKNhfs-5"
      },
      "source": [
        "# Hyper-parameters\n",
        "NUM_EPOCHS = 5\n",
        "BATCH_SIZE = 64\n",
        "NUM_CHANNELS = 1\n",
        "NUM_CLASSES = 36\n",
        "LEARNING_RATE = 0.001\n",
        "MOMENTUM = 0.9\n",
        "WEIGHT_DECAY = 0.0001\n",
        "FLATTEN_IMG_SIZE = 3136\n",
        "TRAIN_TEST_SPLIT = 0.30\n",
        "PRODUCTION = True\n",
        "LABELLING = False\n",
        "USE_UL = True"
      ],
      "execution_count": 54,
      "outputs": []
    },
    {
      "cell_type": "markdown",
      "metadata": {
        "id": "wqCIWRt9f0zP"
      },
      "source": [
        "###Helper functions"
      ]
    },
    {
      "cell_type": "code",
      "metadata": {
        "id": "SGfnvNyef31w"
      },
      "source": [
        "def imshow(img):\n",
        "    img = img / 2 + 0.5     # unnormalize\n",
        "    npimg = img.numpy()\n",
        "    plt.imshow(np.transpose(npimg, (1, 2, 0)))\n",
        "    plt.show()"
      ],
      "execution_count": 55,
      "outputs": []
    },
    {
      "cell_type": "code",
      "metadata": {
        "id": "KN4hdQHZf54Z"
      },
      "source": [
        "FELIX_PATH = '/content/drive/MyDrive/P3-COMP551-FALL2021/'\n",
        "TONY_PATH = '/content/drive/MyDrive/McGill/COMP551/data/'\n",
        "\n",
        "def load_data(filename, data_path=FELIX_PATH):\n",
        "    loaded_pkl = None\n",
        "    try:\n",
        "        pkl_buffered = open(data_path+''+filename,'rb')\n",
        "        loaded_pkl = pickle.load(pkl_buffered)\n",
        "    except Exception as e:\n",
        "        print(\"Error loading data: {}\".format(e))\n",
        "    return loaded_pkl"
      ],
      "execution_count": 56,
      "outputs": []
    },
    {
      "cell_type": "code",
      "metadata": {
        "id": "bfpU9FqZf9QS"
      },
      "source": [
        "alpha_dict = dict(enumerate(string.ascii_lowercase))\n",
        "def get_label_value(labels):\n",
        "  \"\"\"\n",
        "  This function will return a string representing the label of a picture given\n",
        "  the array label as input:\n",
        "  Ex ouput: '1a', '4z' ...\n",
        "  \"\"\"\n",
        "  label_temp = labels.tolist()\n",
        "  label_temp = [int(x) for x in label_temp]\n",
        "  number = label_temp[:10].index(1)\n",
        "  letter = alpha_dict[label_temp[10:].index(1)]\n",
        "\n",
        "  return str(number) + str(letter)"
      ],
      "execution_count": 57,
      "outputs": []
    },
    {
      "cell_type": "code",
      "metadata": {
        "id": "RYgrGR58vJiW"
      },
      "source": [
        "# Helper methods for for conversions and model evalutation\n",
        "def outputs_to_preds(outputs):\n",
        "    preds = np.empty(shape=(len(outputs), 36))\n",
        "    for i, output in enumerate(outputs):\n",
        "        pred = np.zeros(36)\n",
        "        digit_index = np.argmax(output[:11])\n",
        "        letter_index = np.argmax(output[11:]) + 11\n",
        "        pred[digit_index], pred[letter_index] = 1, 1\n",
        "        preds[i] = pred\n",
        "    return preds\n",
        "\n",
        "def compute_accuracy(preds, labels):\n",
        "    preds_str = labels_to_strings(preds)\n",
        "    labels_str = labels_to_strings(labels)\n",
        "    correct_preds = np.equal(preds_str, labels_str)\n",
        "    return correct_preds.sum() / len(labels) \n",
        "\n",
        "def labels_to_strings(labels):\n",
        "  result = np.empty(len(labels)).astype('object')\n",
        "  for i, pred in enumerate(labels):\n",
        "    prediction = ''\n",
        "    for elem in pred:\n",
        "      prediction = prediction + str(int(elem))\n",
        "    result[i] = prediction\n",
        "  return result"
      ],
      "execution_count": 58,
      "outputs": []
    },
    {
      "cell_type": "markdown",
      "metadata": {
        "id": "J_-J54jZgR_U"
      },
      "source": [
        "### Custom Dataset"
      ]
    },
    {
      "cell_type": "code",
      "metadata": {
        "id": "NuvEE98sgUd0"
      },
      "source": [
        "# Reference: https://stackoverflow.com/questions/44429199/how-to-load-a-list-of-numpy-arrays-to-pytorch-dataset-loader\n",
        "class CustomDataset(Dataset):\n",
        "    def __init__(self, data, targets=None, transform=None, transform_target=None):\n",
        "        self.data = torch.from_numpy(data).float()\n",
        "        self.targets = torch.from_numpy(targets).float() if targets is not None else None\n",
        "        self.transform = transform\n",
        "        self.transform_target = transform_target\n",
        "        \n",
        "    def __getitem__(self, index):\n",
        "        x = self.data[index]\n",
        "\n",
        "        # Apply median-filtering to remove salt-pepper noise\n",
        "        # tmp = x.cpu().detach().numpy()\n",
        "        # tmp = np.squeeze(tmp, axis=0)\n",
        "        # img = Image.fromarray((tmp).astype(np.uint8))\n",
        "        # result = cv2.medianBlur(np.array(img), 1)\n",
        "        # x = torch.from_numpy(result).float().to(device)\n",
        "        # x = x.unsqueeze(0)\n",
        "\n",
        "        y = np.zeros(36, dtype=float)\n",
        "\n",
        "        if self.targets is not None:\n",
        "            y = self.targets[index]\n",
        "        else:\n",
        "            None\n",
        "        if self.transform:\n",
        "            x = self.transform(x)\n",
        "        if self.transform_target:\n",
        "            y = self.transform_target(y)\n",
        "        \n",
        "        return x, y\n",
        "    \n",
        "    def __len__(self):\n",
        "        return len(self.data)"
      ],
      "execution_count": 59,
      "outputs": []
    },
    {
      "cell_type": "markdown",
      "metadata": {
        "id": "a8_UtRM9WUWH"
      },
      "source": [
        "### CNN Architecture\n",
        "\n",
        "Using AlexNet model adaptation as our network architecture.\n",
        "\n",
        "Briefly covered in \"CNN\" lecture slides.\n",
        "\n",
        "[reference](https://pytorch.org/hub/pytorch_vision_alexnet/)"
      ]
    },
    {
      "cell_type": "code",
      "metadata": {
        "id": "GZ_FnsGpWTr2"
      },
      "source": [
        "class AlexNet_CNN(nn.Module):\n",
        "    def __init__(self, in_channels=NUM_CHANNELS, num_classes=NUM_CLASSES):\n",
        "        super().__init__() # invoke the parent constructor\n",
        "        self.in_channels = in_channels\n",
        "        self.num_classes = num_classes\n",
        "        self.conv_block1 = nn.Sequential(\n",
        "            nn.Conv2d(self.in_channels, 32, kernel_size=5, padding=2), # (b_sz, 1, 56, 56) --> (b_sz, 16, 56, 56)\n",
        "            nn.MaxPool2d(2), # (b_sz, 32, 56, 56) --> (b_sz, 32, 28, 28)\n",
        "            nn.BatchNorm2d(32),\n",
        "            nn.ReLU()\n",
        "        )\n",
        "        self.conv_block2 = nn.Sequential(\n",
        "            nn.Conv2d(32, 64, kernel_size=3, padding=1), # (b_sz, 32, 28, 28) --> (b_sz, 64, 28, 28)\n",
        "            nn.MaxPool2d(2), # (b_sz, 64, 28, 28) --> (b_sz, 64, 14, 14)\n",
        "            nn.BatchNorm2d(64),\n",
        "            nn.ReLU()\n",
        "        )\n",
        "        self.conv_block3 = nn.Sequential(\n",
        "            nn.Conv2d(64, 128, kernel_size=3, padding=1), # (b_sz, 64, 14, 14) --> (b_sz, 128, 14, 14)\n",
        "            #nn.MaxPool2d(2), # (b_sz, 128, 14, 14) --> (b_sz, 128, 7, 7)\n",
        "            nn.BatchNorm2d(128),\n",
        "            nn.ReLU()\n",
        "        )\n",
        "        self.conv_block4 = nn.Sequential(\n",
        "            nn.Conv2d(128, 84, kernel_size=3, padding=1), # (b_sz, 128, 14, 14) --> (b_sz, 84, 14, 14)\n",
        "            nn.BatchNorm2d(84),\n",
        "            nn.ReLU(),\n",
        "            nn.Conv2d(84, 84, kernel_size=3, padding=1), # (b_sz, 84, 14, 14) --> (b_sz, 84, 14, 14),\n",
        "            nn.BatchNorm2d(84),\n",
        "            nn.ReLU()\n",
        "        )\n",
        "        self.maxpool = nn.AdaptiveMaxPool2d(output_size=(6, 6))\n",
        "        self.dense_block = nn.Sequential(\n",
        "            nn.Dropout(p=0.5),\n",
        "            nn.Linear(84*6*6, 1512),\n",
        "            nn.BatchNorm1d(1512),\n",
        "            nn.ReLU(),\n",
        "            nn.Dropout(p=0.5),\n",
        "            nn.Linear(1512, 1512),\n",
        "            nn.BatchNorm1d(1512),\n",
        "            nn.ReLU(),\n",
        "            nn.Linear(1512, self.num_classes)\n",
        "        )\n",
        "    \n",
        "    def forward(self, x):\n",
        "        x = self.conv_block1(x)\n",
        "        x = self.conv_block2(x)\n",
        "        x = self.conv_block3(x)\n",
        "        x = self.conv_block4(x)\n",
        "        x = self.maxpool(x)\n",
        "        x = x.view(x.size()[0], -1)\n",
        "        x = self.dense_block(x)\n",
        "        return x"
      ],
      "execution_count": 60,
      "outputs": []
    },
    {
      "cell_type": "markdown",
      "metadata": {
        "id": "UnnVF6NAXaQo"
      },
      "source": [
        "### Load & Split Data"
      ]
    },
    {
      "cell_type": "code",
      "metadata": {
        "id": "v3doYI1lAbe9",
        "colab": {
          "base_uri": "https://localhost:8080/"
        },
        "outputId": "9900be69-a186-4185-c1ef-44dcb4f0c768"
      },
      "source": [
        "# Load data\n",
        "\n",
        "train_l = load_data(\"images_l.pkl\")[:, None]\n",
        "# train_ul = load_data(\"images_ul.pkl\")[:, None]\n",
        "train_labels_l = load_data(\"labels_l.pkl\")\n",
        "test_ul = load_data(\"images_test.pkl\")[:, None]\n",
        "\n",
        "# Tony's new pkl files for using the unlabelled dataset\n",
        "train_ul = load_data(\"unlabelled_img.pkl\")[:, None]\n",
        "train_labels_ul = load_data(\"unlabelled_labels.pkl\")\n",
        "\n",
        "print(\"Train:\", train_l.shape)\n",
        "# print(\"Train UL:\", train_ul.shape)\n",
        "print(\"Train labels:\", train_labels_l.shape)\n",
        "print(\"Test:\", test_ul.shape)\n",
        "\n",
        "print(\"Train UL:\", train_ul.shape)\n",
        "print(\"Train UL labels:\", train_labels_ul.shape)"
      ],
      "execution_count": 61,
      "outputs": [
        {
          "output_type": "stream",
          "name": "stdout",
          "text": [
            "Train: (30000, 1, 56, 56)\n",
            "Train labels: (30000, 36)\n",
            "Test: (15000, 1, 56, 56)\n",
            "Train UL: (16684, 1, 56, 56)\n",
            "Train UL labels: (16684, 36)\n"
          ]
        }
      ]
    },
    {
      "cell_type": "code",
      "metadata": {
        "colab": {
          "base_uri": "https://localhost:8080/"
        },
        "id": "HBMj-TK1hH5y",
        "outputId": "bbf7cf16-f8d3-4ac1-dd97-5c0751453570"
      },
      "source": [
        "# LABELLED AND UNLABELLED DATA\n",
        "# Tensor, Transform, Datasets, Dataloaders\n",
        "\n",
        "# Split into training and validation\n",
        "split_index_l = math.floor(len(train_labels_l)*TRAIN_TEST_SPLIT)\n",
        "split_index_l_ul = math.floor((len(train_labels_l)+len(train_ul))*TRAIN_TEST_SPLIT)\n",
        "\n",
        "# Merged labelled and unlabelled datasets\n",
        "full_train_l = train_l\n",
        "train_l_ul = np.concatenate((full_train_l, train_ul))\n",
        "full_train_l_ul = train_l_ul\n",
        "\n",
        "# Training & validation sets\n",
        "val_l_ul = train_l_ul[:split_index_l_ul]\n",
        "val_l = train_l[:split_index_l]\n",
        "train_l = train_l[split_index_l:]\n",
        "train_l_ul = train_l_ul[split_index_l_ul:]\n",
        "\n",
        "# Merged labels sets\n",
        "full_train_labels_l = train_labels_l\n",
        "train_labels_l_ul = np.concatenate((full_train_labels_l, train_labels_ul))\n",
        "full_train_labels_l_ul = train_labels_l_ul\n",
        "\n",
        "# Training & validation label sets\n",
        "val_labels_l_ul = train_labels_l_ul[:split_index_l_ul]\n",
        "val_labels_l = train_labels_l[:split_index_l]\n",
        "train_labels_l = train_labels_l[split_index_l:]\n",
        "train_labels_l_ul = train_labels_l_ul[split_index_l_ul:]\n",
        "\n",
        "print(\"Full training:\", full_train_l.shape, full_train_labels_l.shape)\n",
        "print(\"Full training labeled and unlabeled:\", full_train_l_ul.shape, full_train_labels_l_ul.shape)\n",
        "print(\"Split Training:\", train_l.shape, train_labels_l.shape)\n",
        "print(\"Validation:\", val_l.shape, val_labels_l.shape)"
      ],
      "execution_count": 62,
      "outputs": [
        {
          "output_type": "stream",
          "name": "stdout",
          "text": [
            "Full training: (30000, 1, 56, 56) (30000, 36)\n",
            "Full training labeled and unlabeled: (46684, 1, 56, 56) (46684, 36)\n",
            "Split Training: (21000, 1, 56, 56) (21000, 36)\n",
            "Validation: (9000, 1, 56, 56) (9000, 36)\n"
          ]
        }
      ]
    },
    {
      "cell_type": "markdown",
      "metadata": {
        "id": "7m7XFWq8h5_Y"
      },
      "source": [
        "### Preprocessing (attempt)"
      ]
    },
    {
      "cell_type": "code",
      "metadata": {
        "colab": {
          "base_uri": "https://localhost:8080/",
          "height": 312
        },
        "id": "x9QFH87jh_WG",
        "outputId": "1e9b4238-3a30-476c-f7bd-6add6171fd18"
      },
      "source": [
        "img_pil = train_l[1189]\n",
        "plt.hist(np.array(img_pil).ravel(), bins=20,density=True)\n",
        "plt.xlabel(\"pixel values\")\n",
        "plt.ylabel(\"relative frequency\")\n",
        "plt.title(\"distribution of pixels\")"
      ],
      "execution_count": 63,
      "outputs": [
        {
          "output_type": "execute_result",
          "data": {
            "text/plain": [
              "Text(0.5, 1.0, 'distribution of pixels')"
            ]
          },
          "metadata": {},
          "execution_count": 63
        },
        {
          "output_type": "display_data",
          "data": {
            "image/png": "[encoded data removed]",
            "text/plain": [
              "<Figure size 432x288 with 1 Axes>"
            ]
          },
          "metadata": {
            "needs_background": "light"
          }
        }
      ]
    },
    {
      "cell_type": "code",
      "metadata": {
        "id": "rZpON9A3iCX2"
      },
      "source": [
        "def ImageTransformer(transforms: list)->None:\n",
        "  Transform = torchvision.transforms.Compose(transforms)\n",
        "  dl = DataLoader(CustomDataset(train_l, train_labels_l, \n",
        "                  transform=Transform), shuffle=True, batch_size=BATCH_SIZE)\n",
        "  figure = plt.figure(figsize=(5,5))\n",
        "  sample_idx = torch.randint(len(dl), size=(1,)).item()\n",
        "  img = train_l[sample_idx]\n",
        "  label = get_label_value(train_labels_l[sample_idx])\n",
        "  plt.title(label)\n",
        "  plt.axis(\"off\")\n",
        "  plt.imshow(img.squeeze())"
      ],
      "execution_count": 64,
      "outputs": []
    },
    {
      "cell_type": "code",
      "metadata": {
        "colab": {
          "base_uri": "https://localhost:8080/",
          "height": 319
        },
        "id": "PQtFRWvUiGzj",
        "outputId": "8e06b9e4-2cc8-458a-dcfa-376399893857"
      },
      "source": [
        "input = [torchvision.transforms.RandomHorizontalFlip(p=0.5)]\n",
        "ex = ImageTransformer(input)"
      ],
      "execution_count": 65,
      "outputs": [
        {
          "output_type": "display_data",
          "data": {
            "image/png": "[encoded data removed]",
            "text/plain": [
              "<Figure size 360x360 with 1 Axes>"
            ]
          },
          "metadata": {
            "needs_background": "light"
          }
        }
      ]
    },
    {
      "cell_type": "code",
      "metadata": {
        "colab": {
          "base_uri": "https://localhost:8080/",
          "height": 923
        },
        "id": "Hjiij791iIRV",
        "outputId": "8f695036-659b-40e8-e074-4627023d14ed"
      },
      "source": [
        "i = [         transforms.Normalize(mean=(0.5,), std=(0.5,)),\n",
        "              torchvision.transforms.RandomResizedCrop([56,56]),\n",
        "              torchvision.transforms.RandomRotation(60),\n",
        "              torchvision.transforms.ColorJitter(brightness=0.5, contrast=0.5, saturation=0.5, hue=0.3)]\n",
        "\n",
        "for _ in range(3): ImageTransformer(i)"
      ],
      "execution_count": 66,
      "outputs": [
        {
          "output_type": "display_data",
          "data": {
            "image/png": "[encoded data removed]",
            "text/plain": [
              "<Figure size 360x360 with 1 Axes>"
            ]
          },
          "metadata": {
            "needs_background": "light"
          }
        },
        {
          "output_type": "display_data",
          "data": {
            "image/png": "[encoded data removed]",
            "text/plain": [
              "<Figure size 360x360 with 1 Axes>"
            ]
          },
          "metadata": {
            "needs_background": "light"
          }
        },
        {
          "output_type": "display_data",
          "data": {
            "image/png": "[encoded data removed]",
            "text/plain": [
              "<Figure size 360x360 with 1 Axes>"
            ]
          },
          "metadata": {
            "needs_background": "light"
          }
        }
      ]
    },
    {
      "cell_type": "code",
      "metadata": {
        "id": "c8sOQql0h9V0"
      },
      "source": [
        "# Color, brightness shift\n",
        "T1 = transforms.Compose([         transforms.Normalize(mean=(0.5,), std=(0.5,)),\n",
        "                                  torchvision.transforms.ColorJitter(brightness=0.5, contrast=0.5, saturation=0.5, hue=0.3)\n",
        "                                  ])\n",
        "# Random rotation, padding\n",
        "T2 = transforms.Compose([         transforms.Normalize(mean=(0.5,), std=(0.5,)),\n",
        "                                  torchvision.transforms.RandomRotation(45),\n",
        "                                  #transforms.Pad(25, padding_mode='symmetric')\n",
        "                                  ])\n",
        "# Random horizontal flipping\n",
        "T3 = transforms.Compose([         transforms.Normalize(mean=(0.5,), std=(0.5,)),\n",
        "                                  transforms.RandomHorizontalFlip(p=0.01),\n",
        "                                  ])\n",
        "# Randome verticle flipping\n",
        "T4 = transforms.Compose([         transforms.Normalize(mean=(0.5,), std=(0.5,)),\n",
        "                                  transforms.RandomVerticalFlip(p=0.01),\n",
        "                                  ])\n",
        "noT = transforms.Compose([         transforms.Normalize(mean=(0.5,), std=(0.5,))])"
      ],
      "execution_count": 67,
      "outputs": []
    },
    {
      "cell_type": "markdown",
      "metadata": {
        "id": "jASyaGfniLMp"
      },
      "source": [
        "###Datasets & Dataloaders"
      ]
    },
    {
      "cell_type": "code",
      "metadata": {
        "id": "mhCciiiEhbeI"
      },
      "source": [
        "# Dataloader\n",
        "\n",
        "# Transform function\n",
        "mean = (0.5,)\n",
        "std = (0.5,)\n",
        "transform = transforms.Compose(\n",
        "    [transforms.Normalize(mean=mean, std=std)\n",
        "     ])\n",
        "\n",
        "# DataLoaders\n",
        "full_train_l_dataloader = DataLoader(CustomDataset(full_train_l, full_train_labels_l, transform=None), shuffle=True, batch_size=BATCH_SIZE)\n",
        "full_train_l_ul_dataloader = DataLoader(CustomDataset(full_train_l_ul, full_train_labels_l_ul, transform=None), shuffle=True, batch_size=BATCH_SIZE)\n",
        "train_l_dataloader = DataLoader(CustomDataset(train_l, train_labels_l, transform=transform), shuffle=True, batch_size=BATCH_SIZE)\n",
        "train_l_ul_dataloader = DataLoader(CustomDataset(train_l_ul, train_labels_l_ul, transform=None), shuffle=True, batch_size=BATCH_SIZE)\n",
        "val_l_dataloader = DataLoader(CustomDataset(val_l, val_labels_l, transform=None), shuffle=False)\n",
        "val_l_ul_dataloader = DataLoader(CustomDataset(val_l_ul, val_labels_l_ul, transform=None), shuffle=False)\n",
        "\n",
        "# Raw unlabeled dataset\n",
        "# train_ul_labels = np.zeros(shape=(len(train_ul), 36))\n",
        "# train_ul_dataloader = DataLoader(CustomDataset(train_ul, train_ul_labels, transform=None), batch_size=BATCH_SIZE, shuffle=False)\n",
        "\n",
        "# Test set for Kaggle\n",
        "test_labels_ul = np.zeros(shape=(len(test_ul), 36))\n",
        "test_ul_dataloader = DataLoader(CustomDataset(test_ul, test_labels_ul, transform=None), batch_size=BATCH_SIZE, shuffle=False)"
      ],
      "execution_count": 68,
      "outputs": []
    },
    {
      "cell_type": "code",
      "metadata": {
        "colab": {
          "base_uri": "https://localhost:8080/",
          "height": 286
        },
        "id": "Cetq8e0lhjKp",
        "outputId": "67138fcb-4cf9-499a-bb43-464b8ad0acc1"
      },
      "source": [
        "# Quick data visualization\n",
        "imgs, labels = next(iter(full_train_l_dataloader))\n",
        "imshow(torchvision.utils.make_grid(imgs.cpu()))"
      ],
      "execution_count": 69,
      "outputs": [
        {
          "output_type": "stream",
          "name": "stderr",
          "text": [
            "Clipping input data to the valid range for imshow with RGB data ([0..1] for floats or [0..255] for integers).\n"
          ]
        },
        {
          "output_type": "display_data",
          "data": {
            "image/png": "[encoded data removed]",
            "text/plain": [
              "<Figure size 432x288 with 1 Axes>"
            ]
          },
          "metadata": {
            "needs_background": "light"
          }
        }
      ]
    },
    {
      "cell_type": "markdown",
      "metadata": {
        "id": "h44g_Np4Xe4D"
      },
      "source": [
        "### Train"
      ]
    },
    {
      "cell_type": "code",
      "metadata": {
        "id": "FkV5Fn9Uml9T"
      },
      "source": [
        "def transform_output(scores):\n",
        "    \"\"\"\n",
        "    Input a Tensor and output will be another Tensor with same dimension but with all elements 0 except two.\n",
        "    Those 2 elements will have value of 1 and will correspond to the models prediction about which letter and number\n",
        "    is in the image.\n",
        "    :param scores:\n",
        "    :return:\n",
        "    \"\"\"\n",
        "    return_array = []\n",
        "    score_list = scores.tolist()\n",
        "    for score in score_list:\n",
        "        numbers = score[:10]\n",
        "        letters = score[10:]\n",
        "        test = lambda x, max_value : 1 if x >= max_value else 0\n",
        "        new_numbers = [test(x, max(numbers)) for x in numbers]\n",
        "        new_letters = [test(x, max(letters)) for x in letters]\n",
        "        return_array.append(new_numbers + new_letters)\n",
        "    return return_array"
      ],
      "execution_count": 70,
      "outputs": []
    },
    {
      "cell_type": "code",
      "metadata": {
        "id": "CqAW_8O_vPxD"
      },
      "source": [
        "# Evaluation function\n",
        "def evaluate_model(model, dl):\n",
        "    accs = []\n",
        "    with torch.no_grad():\n",
        "        model.eval()\n",
        "        for i, data in enumerate(dl):\n",
        "            inputs, labels = data\n",
        "            inputs = inputs.to(device)\n",
        "            labels = labels.to(device)\n",
        "            outputs = model(inputs)\n",
        "            preds = outputs_to_preds(outputs.cpu().detach().numpy())\n",
        "            accs.append(compute_accuracy(preds, labels.cpu()))\n",
        "            break\n",
        "    return sum(accs)/len(accs)"
      ],
      "execution_count": 71,
      "outputs": []
    },
    {
      "cell_type": "code",
      "metadata": {
        "id": "koF2iFu-iqmz"
      },
      "source": [
        "# Train function\n",
        "def train(model, dataloader=train_l_dataloader, init_rounds=2):\n",
        "    criterion = nn.BCEWithLogitsLoss()\n",
        "    optimizer = torch.optim.Adam(model.parameters(), lr=LEARNING_RATE)\n",
        "    \n",
        "    for epoch in range(NUM_EPOCHS):\n",
        "        model.train()\n",
        "        running_loss = 0.0\n",
        "        \n",
        "        # Using unlabeled data\n",
        "        # if epoch >= init_rounds:\n",
        "        #     for idx, data_ul in enumerate(train_ul_dataloader):\n",
        "        #         # get data/targets\n",
        "        #         inputs_ul, targets_ul = data_ul\n",
        "        #         inputs_ul = inputs_ul.to(device)\n",
        "        #         outputs = model(inputs_ul)\n",
        "        #         fake_targets = torch.Tensor(outputs_to_predictions(outputs.cpu().detach().numpy())).to(device) # using pseudo label methods and get pseudo labels\n",
        "        #         # print(fake_targets\b[0])\n",
        "        #         optimizer.zero_grad()\n",
        "        #         outputs = model(inputs_ul)\n",
        "        #         loss = criterion(outputs, fake_targets)\n",
        "        #         loss.backward()\n",
        "        #         # optimizer.step()\n",
        "\n",
        "        for i, data in enumerate(dataloader):\n",
        "            # get data/targets\n",
        "            inputs, true_targets = data\n",
        "            inputs = inputs.to(device)\n",
        "            true_targets = true_targets.to(device)\n",
        "            # zero the parameter gradients\n",
        "            optimizer.zero_grad()\n",
        "            # forward, backward,\n",
        "            outputs = model(inputs)\n",
        "            loss = criterion(outputs, true_targets)\n",
        "            # backward\n",
        "            loss.backward()\n",
        "            # gradient descent step\n",
        "            optimizer.step()\n",
        "            # print statistics\n",
        "            running_loss += loss.item()\n",
        "            \n",
        "            acc = evaluate_model(model, dataloader)\n",
        "            if i % 100 == 99:    # print every 2000 mini-batches\n",
        "                print('Epoch %d - Loss: %.4f | Accuracy: %.4f'%(epoch+1, running_loss/i, acc))\n",
        "                running_loss = 0.0\n",
        "    \n",
        "    # DONE TRAINING\n",
        "    print('Finished Training')\n",
        "    PATH = './cnn.pth'\n",
        "    torch.save(model.state_dict(), PATH)"
      ],
      "execution_count": 72,
      "outputs": []
    },
    {
      "cell_type": "markdown",
      "metadata": {
        "id": "vPyfsZMxjW8F"
      },
      "source": [
        "### Main"
      ]
    },
    {
      "cell_type": "code",
      "metadata": {
        "colab": {
          "base_uri": "https://localhost:8080/"
        },
        "id": "7V2ReGgqjc8i",
        "outputId": "25fd8071-a79e-488d-e7f3-b43998155d34"
      },
      "source": [
        "# Run model and evaluate\n",
        "cnn_model = AlexNet_CNN().to(device)\n",
        "if USE_UL:\n",
        "    trainloader = full_train_l_ul_dataloader if PRODUCTION else train_l_ul_dataloader\n",
        "else: # use only the original labelled training set\n",
        "    trainloader = full_train_l_dataloader if PRODUCTION else train_l_dataloader\n",
        "train(cnn_model, trainloader)\n",
        "if not PRODUCTION:\n",
        "    evaluate_model(cnn_model, val_l_dataloader)"
      ],
      "execution_count": 73,
      "outputs": [
        {
          "output_type": "stream",
          "name": "stdout",
          "text": [
            "Epoch 1 - Loss: 0.2497 | Accuracy: 0.0000\n",
            "Epoch 1 - Loss: 0.1048 | Accuracy: 0.0000\n",
            "Epoch 1 - Loss: 0.0691 | Accuracy: 0.0000\n",
            "Epoch 1 - Loss: 0.0497 | Accuracy: 0.0000\n",
            "Epoch 1 - Loss: 0.0372 | Accuracy: 0.0312\n",
            "Epoch 1 - Loss: 0.0284 | Accuracy: 0.0781\n",
            "Epoch 1 - Loss: 0.0218 | Accuracy: 0.1562\n",
            "Epoch 2 - Loss: 0.1242 | Accuracy: 0.2500\n",
            "Epoch 2 - Loss: 0.0467 | Accuracy: 0.6406\n",
            "Epoch 2 - Loss: 0.0248 | Accuracy: 0.7031\n",
            "Epoch 2 - Loss: 0.0148 | Accuracy: 0.7031\n",
            "Epoch 2 - Loss: 0.0098 | Accuracy: 0.8125\n",
            "Epoch 2 - Loss: 0.0072 | Accuracy: 0.7812\n",
            "Epoch 2 - Loss: 0.0058 | Accuracy: 0.8125\n",
            "Epoch 3 - Loss: 0.0351 | Accuracy: 0.8594\n",
            "Epoch 3 - Loss: 0.0134 | Accuracy: 0.8750\n",
            "Epoch 3 - Loss: 0.0080 | Accuracy: 0.8750\n",
            "Epoch 3 - Loss: 0.0059 | Accuracy: 0.9062\n",
            "Epoch 3 - Loss: 0.0046 | Accuracy: 0.9219\n",
            "Epoch 3 - Loss: 0.0034 | Accuracy: 0.9219\n",
            "Epoch 3 - Loss: 0.0030 | Accuracy: 0.8281\n",
            "Epoch 4 - Loss: 0.0197 | Accuracy: 0.9219\n",
            "Epoch 4 - Loss: 0.0070 | Accuracy: 0.9375\n",
            "Epoch 4 - Loss: 0.0045 | Accuracy: 1.0000\n",
            "Epoch 4 - Loss: 0.0033 | Accuracy: 0.9375\n",
            "Epoch 4 - Loss: 0.0027 | Accuracy: 0.9844\n",
            "Epoch 4 - Loss: 0.0024 | Accuracy: 0.9219\n",
            "Epoch 4 - Loss: 0.0020 | Accuracy: 0.8906\n",
            "Epoch 5 - Loss: 0.0134 | Accuracy: 0.9531\n",
            "Epoch 5 - Loss: 0.0038 | Accuracy: 0.9844\n",
            "Epoch 5 - Loss: 0.0031 | Accuracy: 0.9844\n",
            "Epoch 5 - Loss: 0.0022 | Accuracy: 0.9375\n",
            "Epoch 5 - Loss: 0.0019 | Accuracy: 0.9688\n",
            "Epoch 5 - Loss: 0.0015 | Accuracy: 0.9531\n",
            "Epoch 5 - Loss: 0.0014 | Accuracy: 0.9062\n",
            "Finished Training\n"
          ]
        }
      ]
    },
    {
      "cell_type": "code",
      "metadata": {
        "id": "IVfPGYQKjgz1"
      },
      "source": [
        "if LABELLING:\n",
        "    # Label the unlabelled dataset\n",
        "    with torch.no_grad():\n",
        "        predictions_ul = []\n",
        "        for data in train_ul_dataloader:\n",
        "            inputs = data[0].to(device)\n",
        "            targets = data[1].to(device)\n",
        "            outputs = cnn_model(inputs)\n",
        "            converted_output = outputs_to_predictions(outputs.cpu().detach().numpy())\n",
        "            for c in converted_output:\n",
        "                predictions_ul.append(c)\n",
        "\n",
        "    print(len(predictions_ul))\n",
        "    predictions_ul = np.array(predictions_ul)\n",
        "    print(type(predictions_ul))\n",
        "\n",
        "    with open('labels_ul.pkl', 'wb') as train_labels_ul_pkl:\n",
        "        pickle.dump(predictions_ul, train_labels_ul_pkl)"
      ],
      "execution_count": 74,
      "outputs": []
    },
    {
      "cell_type": "markdown",
      "metadata": {
        "id": "GETLWLFJjksV"
      },
      "source": [
        "####Export predictions"
      ]
    },
    {
      "cell_type": "code",
      "metadata": {
        "id": "Ygt9NiH6jnJA",
        "outputId": "f6e87647-19fa-4ace-c3c9-ade94a816a0f",
        "colab": {
          "base_uri": "https://localhost:8080/"
        }
      },
      "source": [
        "# Setup CSV for predictions export\n",
        "if PRODUCTION:\n",
        "    df = pd.DataFrame(columns=['# Id', 'Category'])\n",
        "    with torch.no_grad():\n",
        "        i = 0\n",
        "        for data in test_ul_dataloader:\n",
        "            inputs = data[0].to(device)\n",
        "            targets = data[1].to(device)\n",
        "            outputs = cnn_model(inputs) # apply CNN model\n",
        "            predictions = transform_output(outputs)\n",
        "            for pred in predictions:\n",
        "                label = ''.join(str(x) for x in pred)\n",
        "                df.loc[i] = [i, label]\n",
        "                i += 1\n",
        "    print(df)"
      ],
      "execution_count": 75,
      "outputs": [
        {
          "output_type": "stream",
          "name": "stdout",
          "text": [
            "        # Id                              Category\n",
            "0          0  100000000000000000000000000001000000\n",
            "1          1  000010000000000000000100000000000000\n",
            "2          2  000000000100000000010000000000000000\n",
            "3          3  100000000000000000000100000000000000\n",
            "4          4  000000100000000000010000000000000000\n",
            "...      ...                                   ...\n",
            "14995  14995  000100000000001000000000000000000000\n",
            "14996  14996  000100000010000000000000000000000000\n",
            "14997  14997  000000100000000000000000001000000000\n",
            "14998  14998  010000000000000000100000000000000000\n",
            "14999  14999  001000000000000000001000000000000000\n",
            "\n",
            "[15000 rows x 2 columns]\n"
          ]
        }
      ]
    },
    {
      "cell_type": "code",
      "metadata": {
        "id": "WpLBxOqxjsEJ"
      },
      "source": [
        "# Export CSV for Kaggle\n",
        "from datetime import datetime\n",
        "if PRODUCTION:\n",
        "    filename = 'kaggle_g19_{}.csv'.format(datetime.now())\n",
        "    df.to_csv(filename, sep=',', float_format='{:36}', index=False)"
      ],
      "execution_count": 76,
      "outputs": []
    }
  ]
}