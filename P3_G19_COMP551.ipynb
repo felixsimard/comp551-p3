{
  "nbformat": 4,
  "nbformat_minor": 0,
  "metadata": {
    "colab": {
      "name": "P3_G19_COMP551.ipynb",
      "provenance": [],
      "authorship_tag": "ABX9TyPneNZFufnugCsR6M9YI7Zv",
      "include_colab_link": true
    },
    "kernelspec": {
      "name": "python3",
      "display_name": "Python 3"
    },
    "language_info": {
      "name": "python"
    }
  },
  "cells": [
    {
      "cell_type": "markdown",
      "metadata": {
        "id": "view-in-github",
        "colab_type": "text"
      },
      "source": [
        "<a href=\"https://colab.research.google.com/github/felixsimard/comp551-p3/blob/main/P3_G19_COMP551.ipynb\" target=\"_parent\"><img src=\"https://colab.research.google.com/assets/colab-badge.svg\" alt=\"Open In Colab\"/></a>"
      ]
    },
    {
      "cell_type": "markdown",
      "metadata": {
        "id": "ycnZ1_ZcJfzq"
      },
      "source": [
        "# **COMP 551 - Applied Machine Learning**\n",
        "\n",
        "### MiniProject 3: Multi-Label Classification of Image Data\n",
        "\n",
        "Hassan Gaber () <br>\n",
        "Anthony Porporino () <br>\n",
        "Felix Simard (260865674)\n",
        "\n",
        "**Group 19** <br>\n",
        "Nov 25th, 2021"
      ]
    },
    {
      "cell_type": "code",
      "metadata": {
        "id": "YkPYOJ2RIZZP"
      },
      "source": [
        ""
      ],
      "execution_count": null,
      "outputs": []
    }
  ]
}