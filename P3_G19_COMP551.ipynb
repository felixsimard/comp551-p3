{
  "nbformat": 4,
  "nbformat_minor": 0,
  "metadata": {
    "colab": {
      "name": "P3_G19_COMP551.ipynb",
      "provenance": [],
      "collapsed_sections": [
        "a8_UtRM9WUWH",
        "UnnVF6NAXaQo",
        "h44g_Np4Xe4D",
        "Jvf4PwdHdNBv",
        "pU3jWPGIdS8D",
        "76JdoGzydX7j",
        "nmkobjxxdZ95",
        "JnGy9zdJWIKm"
      ],
      "include_colab_link": true
    },
    "kernelspec": {
      "name": "python3",
      "display_name": "Python 3"
    },
    "language_info": {
      "name": "python"
    },
    "accelerator": "GPU"
  },
  "cells": [
    {
      "cell_type": "markdown",
      "metadata": {
<<<<<<< HEAD
=======
        "id": "view-in-github",
        "colab_type": "text"
      },
      "source": [
        "<a href=\"https://colab.research.google.com/github/felixsimard/comp551-p3/blob/main/P3_G19_COMP551.ipynb\" target=\"_parent\"><img src=\"https://colab.research.google.com/assets/colab-badge.svg\" alt=\"Open In Colab\"/></a>"
      ]
    },
    {
      "cell_type": "markdown",
      "metadata": {
>>>>>>> ab4261ad4c86319da695c81c5bc6e4faf7d6a3c5
        "id": "6zseCfyvdYex"
      },
      "source": [
        "# **COMP 551 - Applied Machine Learning**\n",
        "\n",
        "### Mini Project 3: Multi-label Classification Image Data\n",
        "\n",
        "Anthony Porporino (260891600)<br>\n",
        "Hassan Sameh (260891600)<br>\n",
        "Felix Simard (260865674)\n",
        "\n",
        "**Group 19** <br>\n",
        "November 25th, 2021\n"
      ]
    },
    {
      "cell_type": "markdown",
      "metadata": {
        "id": "A2EelbQEfhqV"
      },
      "source": [
        "###Setup\n"
      ]
    },
    {
      "cell_type": "code",
      "metadata": {
        "id": "3yNW2EISINDi"
      },
      "source": [
        "import torch\n",
        "import torch.nn as nn\n",
        "import torch.nn.functional as F\n",
        "import torchvision\n",
        "import torchvision.transforms as transforms\n",
        "from torch.utils.data import TensorDataset, DataLoader, Dataset\n",
        "import matplotlib.pyplot as plt\n",
        "import numpy as np\n",
        "import pandas as pd\n",
        "import pickle\n",
        "from PIL import Image\n",
        "from sklearn import preprocessing\n",
        "from tqdm import tqdm\n",
        "import math\n",
        "import string\n",
        "import cv2"
      ],
<<<<<<< HEAD
      "execution_count": 1,
=======
      "execution_count": 51,
>>>>>>> ab4261ad4c86319da695c81c5bc6e4faf7d6a3c5
      "outputs": []
    },
    {
      "cell_type": "code",
      "metadata": {
        "id": "0OL7DT5N51j9",
        "colab": {
          "base_uri": "https://localhost:8080/"
        },
<<<<<<< HEAD
        "outputId": "a357ec1f-7592-427b-8f0b-23d93a9cbf15"
=======
        "outputId": "5cdbc43b-9fc8-4bd4-9901-ec54eeeffd5d"
>>>>>>> ab4261ad4c86319da695c81c5bc6e4faf7d6a3c5
      },
      "source": [
        "# Device configuration\n",
        "device = torch.device('cuda:0' if torch.cuda.is_available() else 'cpu')\n",
        "print(device)"
      ],
<<<<<<< HEAD
      "execution_count": 2,
=======
      "execution_count": 52,
>>>>>>> ab4261ad4c86319da695c81c5bc6e4faf7d6a3c5
      "outputs": [
        {
          "output_type": "stream",
          "name": "stdout",
          "text": [
            "cuda:0\n"
          ]
        }
      ]
    },
    {
      "cell_type": "code",
      "metadata": {
        "id": "Xgfx5EC0kW8V",
        "colab": {
          "base_uri": "https://localhost:8080/"
        },
<<<<<<< HEAD
        "outputId": "74566bcd-6ab5-48ed-d1a0-9c8a566aee7e"
=======
        "outputId": "d971dec7-90b9-41fc-e0ac-057d08c8f5ac"
>>>>>>> ab4261ad4c86319da695c81c5bc6e4faf7d6a3c5
      },
      "source": [
        "from google.colab import drive\n",
        "drive.mount(\"/content/drive\")"
      ],
<<<<<<< HEAD
      "execution_count": 3,
=======
      "execution_count": 53,
>>>>>>> ab4261ad4c86319da695c81c5bc6e4faf7d6a3c5
      "outputs": [
        {
          "output_type": "stream",
          "name": "stdout",
          "text": [
<<<<<<< HEAD
            "Mounted at /content/drive\n"
=======
            "Drive already mounted at /content/drive; to attempt to forcibly remount, call drive.mount(\"/content/drive\", force_remount=True).\n"
>>>>>>> ab4261ad4c86319da695c81c5bc6e4faf7d6a3c5
          ]
        }
      ]
    },
    {
      "cell_type": "markdown",
      "metadata": {
        "id": "wZLZdytUfqQ1"
      },
      "source": [
        "### Hyper-parameters"
      ]
    },
    {
      "cell_type": "code",
      "metadata": {
        "id": "5IWZNKNhfs-5"
      },
      "source": [
        "# Hyper-parameters\n",
<<<<<<< HEAD
        "NUM_EPOCHS = 15\n",
=======
        "NUM_EPOCHS = 5\n",
>>>>>>> ab4261ad4c86319da695c81c5bc6e4faf7d6a3c5
        "BATCH_SIZE = 64\n",
        "NUM_CHANNELS = 1\n",
        "NUM_CLASSES = 36\n",
        "LEARNING_RATE = 0.001\n",
        "MOMENTUM = 0.9\n",
        "WEIGHT_DECAY = 0.0001\n",
        "FLATTEN_IMG_SIZE = 3136\n",
        "TRAIN_TEST_SPLIT = 0.30\n",
        "PRODUCTION = True\n",
        "LABELLING = False\n",
        "USE_UL = True"
<<<<<<< HEAD
=======
      ],
      "execution_count": 54,
      "outputs": []
    },
    {
      "cell_type": "markdown",
      "metadata": {
        "id": "wqCIWRt9f0zP"
      },
      "source": [
        "###Helper functions"
      ]
    },
    {
      "cell_type": "code",
      "metadata": {
        "id": "SGfnvNyef31w"
      },
      "source": [
        "def imshow(img):\n",
        "    img = img / 2 + 0.5     # unnormalize\n",
        "    npimg = img.numpy()\n",
        "    plt.imshow(np.transpose(npimg, (1, 2, 0)))\n",
        "    plt.show()"
>>>>>>> ab4261ad4c86319da695c81c5bc6e4faf7d6a3c5
      ],
      "execution_count": 42,
      "outputs": []
    },
    {
      "cell_type": "markdown",
      "metadata": {
<<<<<<< HEAD
        "id": "wqCIWRt9f0zP"
      },
      "source": [
        "###Helper functions"
      ]
=======
        "id": "KN4hdQHZf54Z"
      },
      "source": [
        "FELIX_PATH = '/content/drive/MyDrive/P3-COMP551-FALL2021/'\n",
        "TONY_PATH = '/content/drive/MyDrive/McGill/COMP551/data/'\n",
        "\n",
        "def load_data(filename, data_path=FELIX_PATH):\n",
        "    loaded_pkl = None\n",
        "    try:\n",
        "        pkl_buffered = open(data_path+''+filename,'rb')\n",
        "        loaded_pkl = pickle.load(pkl_buffered)\n",
        "    except Exception as e:\n",
        "        print(\"Error loading data: {}\".format(e))\n",
        "    return loaded_pkl"
      ],
      "execution_count": 56,
      "outputs": []
>>>>>>> ab4261ad4c86319da695c81c5bc6e4faf7d6a3c5
    },
    {
      "cell_type": "code",
      "metadata": {
<<<<<<< HEAD
        "id": "SGfnvNyef31w"
      },
      "source": [
        "def imshow(img):\n",
        "    img = img / 2 + 0.5     # unnormalize\n",
        "    npimg = img.numpy()\n",
        "    plt.imshow(np.transpose(npimg, (1, 2, 0)))\n",
        "    plt.show()"
=======
        "id": "bfpU9FqZf9QS"
      },
      "source": [
        "alpha_dict = dict(enumerate(string.ascii_lowercase))\n",
        "def get_label_value(labels):\n",
        "  \"\"\"\n",
        "  This function will return a string representing the label of a picture given\n",
        "  the array label as input:\n",
        "  Ex ouput: '1a', '4z' ...\n",
        "  \"\"\"\n",
        "  label_temp = labels.tolist()\n",
        "  label_temp = [int(x) for x in label_temp]\n",
        "  number = label_temp[:10].index(1)\n",
        "  letter = alpha_dict[label_temp[10:].index(1)]\n",
        "\n",
        "  return str(number) + str(letter)"
>>>>>>> ab4261ad4c86319da695c81c5bc6e4faf7d6a3c5
      ],
      "execution_count": 6,
      "outputs": []
    },
    {
      "cell_type": "code",
      "metadata": {
<<<<<<< HEAD
        "id": "KN4hdQHZf54Z"
      },
      "source": [
        "FELIX_PATH = '/content/drive/MyDrive/P3-COMP551-FALL2021/'\n",
        "TONY_PATH = '/content/drive/MyDrive/McGill/COMP551/data/'\n",
        "\n",
        "def load_data(filename, data_path=TONY_PATH):\n",
        "    loaded_pkl = None\n",
        "    try:\n",
        "        pkl_buffered = open(data_path+''+filename,'rb')\n",
        "        loaded_pkl = pickle.load(pkl_buffered)\n",
        "    except Exception as e:\n",
        "        print(\"Error loading data: {}\".format(e))\n",
        "    return loaded_pkl"
      ],
      "execution_count": 8,
=======
        "id": "RYgrGR58vJiW"
      },
      "source": [
        "# Helper methods for for conversions and model evalutation\n",
        "def outputs_to_preds(outputs):\n",
        "    preds = np.empty(shape=(len(outputs), 36))\n",
        "    for i, output in enumerate(outputs):\n",
        "        pred = np.zeros(36)\n",
        "        digit_index = np.argmax(output[:11])\n",
        "        letter_index = np.argmax(output[11:]) + 11\n",
        "        pred[digit_index], pred[letter_index] = 1, 1\n",
        "        preds[i] = pred\n",
        "    return preds\n",
        "\n",
        "def compute_accuracy(preds, labels):\n",
        "    preds_str = labels_to_strings(preds)\n",
        "    labels_str = labels_to_strings(labels)\n",
        "    correct_preds = np.equal(preds_str, labels_str)\n",
        "    return correct_preds.sum() / len(labels) \n",
        "\n",
        "def labels_to_strings(labels):\n",
        "  result = np.empty(len(labels)).astype('object')\n",
        "  for i, pred in enumerate(labels):\n",
        "    prediction = ''\n",
        "    for elem in pred:\n",
        "      prediction = prediction + str(int(elem))\n",
        "    result[i] = prediction\n",
        "  return result"
      ],
      "execution_count": 58,
>>>>>>> ab4261ad4c86319da695c81c5bc6e4faf7d6a3c5
      "outputs": []
    },
    {
      "cell_type": "code",
      "metadata": {
<<<<<<< HEAD
        "id": "bfpU9FqZf9QS"
      },
      "source": [
        "alpha_dict = dict(enumerate(string.ascii_lowercase))\n",
        "def get_label_value(labels):\n",
        "  \"\"\"\n",
        "  This function will return a string representing the label of a picture given\n",
        "  the array label as input:\n",
        "  Ex ouput: '1a', '4z' ...\n",
        "  \"\"\"\n",
        "  label_temp = labels.tolist()\n",
        "  label_temp = [int(x) for x in label_temp]\n",
        "  number = label_temp[:10].index(1)\n",
        "  letter = alpha_dict[label_temp[10:].index(1)]\n",
        "\n",
        "  return str(number) + str(letter)"
      ],
      "execution_count": 9,
      "outputs": []
=======
        "id": "J_-J54jZgR_U"
      },
      "source": [
        "### Custom Dataset"
      ]
>>>>>>> ab4261ad4c86319da695c81c5bc6e4faf7d6a3c5
    },
    {
      "cell_type": "code",
      "metadata": {
<<<<<<< HEAD
        "id": "RYgrGR58vJiW"
      },
      "source": [
        "# Helper methods for for conversions and model evalutation\n",
        "def outputs_to_preds(outputs):\n",
        "    preds = np.empty(shape=(len(outputs), 36))\n",
        "    for i, output in enumerate(outputs):\n",
        "        pred = np.zeros(36)\n",
        "        digit_index = np.argmax(output[:11])\n",
        "        letter_index = np.argmax(output[11:]) + 11\n",
        "        pred[digit_index], pred[letter_index] = 1, 1\n",
        "        preds[i] = pred\n",
        "    return preds\n",
        "\n",
        "def compute_accuracy(preds, labels):\n",
        "    preds_str = labels_to_strings(preds)\n",
        "    labels_str = labels_to_strings(labels)\n",
        "    correct_preds = np.equal(preds_str, labels_str)\n",
        "    return correct_preds.sum() / len(labels) \n",
        "\n",
        "def labels_to_strings(labels):\n",
        "  result = np.empty(len(labels)).astype('object')\n",
        "  for i, pred in enumerate(labels):\n",
        "    prediction = ''\n",
        "    for elem in pred:\n",
        "      prediction = prediction + str(int(elem))\n",
        "    result[i] = prediction\n",
        "  return result"
      ],
      "execution_count": 10,
=======
        "id": "NuvEE98sgUd0"
      },
      "source": [
        "# Reference: https://stackoverflow.com/questions/44429199/how-to-load-a-list-of-numpy-arrays-to-pytorch-dataset-loader\n",
        "class CustomDataset(Dataset):\n",
        "    def __init__(self, data, targets=None, transform=None, transform_target=None):\n",
        "        self.data = torch.from_numpy(data).float()\n",
        "        self.targets = torch.from_numpy(targets).float() if targets is not None else None\n",
        "        self.transform = transform\n",
        "        self.transform_target = transform_target\n",
        "        \n",
        "    def __getitem__(self, index):\n",
        "        x = self.data[index]\n",
        "\n",
        "        # Apply median-filtering to remove salt-pepper noise\n",
        "        # tmp = x.cpu().detach().numpy()\n",
        "        # tmp = np.squeeze(tmp, axis=0)\n",
        "        # img = Image.fromarray((tmp).astype(np.uint8))\n",
        "        # result = cv2.medianBlur(np.array(img), 1)\n",
        "        # x = torch.from_numpy(result).float().to(device)\n",
        "        # x = x.unsqueeze(0)\n",
        "\n",
        "        y = np.zeros(36, dtype=float)\n",
        "\n",
        "        if self.targets is not None:\n",
        "            y = self.targets[index]\n",
        "        else:\n",
        "            None\n",
        "        if self.transform:\n",
        "            x = self.transform(x)\n",
        "        if self.transform_target:\n",
        "            y = self.transform_target(y)\n",
        "        \n",
        "        return x, y\n",
        "    \n",
        "    def __len__(self):\n",
        "        return len(self.data)"
      ],
      "execution_count": 59,
>>>>>>> ab4261ad4c86319da695c81c5bc6e4faf7d6a3c5
      "outputs": []
    },
    {
      "cell_type": "markdown",
      "metadata": {
<<<<<<< HEAD
        "id": "J_-J54jZgR_U"
      },
      "source": [
        "### Custom Dataset"
      ]
    },
    {
      "cell_type": "code",
      "metadata": {
        "id": "NuvEE98sgUd0"
      },
      "source": [
        "# Reference: https://stackoverflow.com/questions/44429199/how-to-load-a-list-of-numpy-arrays-to-pytorch-dataset-loader\n",
        "class CustomDataset(Dataset):\n",
        "    def __init__(self, data, targets=None, transform=None, transform_target=None):\n",
        "        self.data = torch.from_numpy(data).float()\n",
        "        self.targets = torch.from_numpy(targets).float() if targets is not None else None\n",
        "        self.transform = transform\n",
        "        self.transform_target = transform_target\n",
        "        \n",
        "    def __getitem__(self, index):\n",
        "        x = self.data[index]\n",
        "\n",
        "        # Apply median-filtering to remove salt-pepper noise\n",
        "        # tmp = x.cpu().detach().numpy()\n",
        "        # tmp = np.squeeze(tmp, axis=0)\n",
        "        # img = Image.fromarray((tmp).astype(np.uint8))\n",
        "        # result = cv2.medianBlur(np.array(img), 1)\n",
        "        # x = torch.from_numpy(result).float().to(device)\n",
        "        # x = x.unsqueeze(0)\n",
        "\n",
        "        y = np.zeros(36, dtype=float)\n",
        "\n",
        "        if self.targets is not None:\n",
        "            y = self.targets[index]\n",
        "        else:\n",
        "            None\n",
        "        if self.transform:\n",
        "            x = self.transform(x)\n",
        "        if self.transform_target:\n",
        "            y = self.transform_target(y)\n",
        "        \n",
        "        return x, y\n",
        "    \n",
        "    def __len__(self):\n",
        "        return len(self.data)"
      ],
      "execution_count": 11,
      "outputs": []
    },
    {
      "cell_type": "markdown",
      "metadata": {
        "id": "a8_UtRM9WUWH"
      },
      "source": [
        "### CNN Architecture\n",
        "\n",
        "Using AlexNet model as the base for our network architecture. We changed certain input sizes and ordering.\n",
=======
        "id": "a8_UtRM9WUWH"
      },
      "source": [
        "### CNN Architecture\n",
        "\n",
        "Using AlexNet model adaptation as our network architecture.\n",
>>>>>>> ab4261ad4c86319da695c81c5bc6e4faf7d6a3c5
        "\n",
        "Briefly covered in \"CNN\" lecture slides.\n",
        "\n",
        "[reference](https://pytorch.org/hub/pytorch_vision_alexnet/)"
      ]
    },
    {
      "cell_type": "code",
      "metadata": {
<<<<<<< HEAD
        "id": "SUCGJKmjS3Bt"
      },
      "source": [
        "class AlexNet(nn.Module):\n",
        "    def __init__(self, in_channels=NUM_CHANNELS, num_classes=NUM_CLASSES):\n",
        "        super().__init__()\n",
        "        self.in_channels = in_channels\n",
        "        self.num_classes = num_classes\n",
        "\n",
        "        self.features = nn.Sequential(\n",
        "            nn.Conv2d(in_channels, 32, kernel_size=3, padding=1),\n",
        "            nn.MaxPool2d(2),\n",
        "            nn.ReLU(),\n",
        "            nn.Conv2d(32, 64, kernel_size=3, padding=1),\n",
        "            nn.MaxPool2d(2),\n",
        "            nn.ReLU(),\n",
        "            nn.Conv2d(64, 128, kernel_size=3, padding=1),\n",
        "            nn.ReLU(),\n",
        "            nn.Conv2d(128, 80, kernel_size=3, padding=1),\n",
        "            nn.ReLU(),\n",
        "            nn.Conv2d(80, 80, kernel_size=3, padding=1),\n",
        "            nn.ReLU(),\n",
        "        )\n",
        "        self.avgpool = nn.AdaptiveAvgPool2d((6, 6))\n",
        "        self.classifier = nn.Sequential(\n",
        "            nn.Dropout(p=.5),\n",
        "            nn.Linear(80 * 6 * 6, 4096),\n",
        "            nn.ReLU(),\n",
        "            nn.Dropout(p=.5),\n",
        "            nn.Linear(4096, 4096),\n",
        "            nn.ReLU(),\n",
        "            nn.Linear(4096, num_classes),\n",
        "        )\n",
        "\n",
        "    def forward(self, x: torch.Tensor) -> torch.Tensor:\n",
        "        x = self.features(x)\n",
        "        x = self.avgpool(x)\n",
        "        x = torch.flatten(x, 1)\n",
        "        x = self.classifier(x)\n",
        "        return x"
      ],
      "execution_count": 47,
=======
        "id": "GZ_FnsGpWTr2"
      },
      "source": [
        "class AlexNet_CNN(nn.Module):\n",
        "    def __init__(self, in_channels=NUM_CHANNELS, num_classes=NUM_CLASSES):\n",
        "        super().__init__() # invoke the parent constructor\n",
        "        self.in_channels = in_channels\n",
        "        self.num_classes = num_classes\n",
        "        self.conv_block1 = nn.Sequential(\n",
        "            nn.Conv2d(self.in_channels, 32, kernel_size=5, padding=2), # (b_sz, 1, 56, 56) --> (b_sz, 16, 56, 56)\n",
        "            nn.MaxPool2d(2), # (b_sz, 32, 56, 56) --> (b_sz, 32, 28, 28)\n",
        "            nn.BatchNorm2d(32),\n",
        "            nn.ReLU()\n",
        "        )\n",
        "        self.conv_block2 = nn.Sequential(\n",
        "            nn.Conv2d(32, 64, kernel_size=3, padding=1), # (b_sz, 32, 28, 28) --> (b_sz, 64, 28, 28)\n",
        "            nn.MaxPool2d(2), # (b_sz, 64, 28, 28) --> (b_sz, 64, 14, 14)\n",
        "            nn.BatchNorm2d(64),\n",
        "            nn.ReLU()\n",
        "        )\n",
        "        self.conv_block3 = nn.Sequential(\n",
        "            nn.Conv2d(64, 128, kernel_size=3, padding=1), # (b_sz, 64, 14, 14) --> (b_sz, 128, 14, 14)\n",
        "            #nn.MaxPool2d(2), # (b_sz, 128, 14, 14) --> (b_sz, 128, 7, 7)\n",
        "            nn.BatchNorm2d(128),\n",
        "            nn.ReLU()\n",
        "        )\n",
        "        self.conv_block4 = nn.Sequential(\n",
        "            nn.Conv2d(128, 84, kernel_size=3, padding=1), # (b_sz, 128, 14, 14) --> (b_sz, 84, 14, 14)\n",
        "            nn.BatchNorm2d(84),\n",
        "            nn.ReLU(),\n",
        "            nn.Conv2d(84, 84, kernel_size=3, padding=1), # (b_sz, 84, 14, 14) --> (b_sz, 84, 14, 14),\n",
        "            nn.BatchNorm2d(84),\n",
        "            nn.ReLU()\n",
        "        )\n",
        "        self.maxpool = nn.AdaptiveMaxPool2d(output_size=(6, 6))\n",
        "        self.dense_block = nn.Sequential(\n",
        "            nn.Dropout(p=0.5),\n",
        "            nn.Linear(84*6*6, 1512),\n",
        "            nn.BatchNorm1d(1512),\n",
        "            nn.ReLU(),\n",
        "            nn.Dropout(p=0.5),\n",
        "            nn.Linear(1512, 1512),\n",
        "            nn.BatchNorm1d(1512),\n",
        "            nn.ReLU(),\n",
        "            nn.Linear(1512, self.num_classes)\n",
        "        )\n",
        "    \n",
        "    def forward(self, x):\n",
        "        x = self.conv_block1(x)\n",
        "        x = self.conv_block2(x)\n",
        "        x = self.conv_block3(x)\n",
        "        x = self.conv_block4(x)\n",
        "        x = self.maxpool(x)\n",
        "        x = x.view(x.size()[0], -1)\n",
        "        x = self.dense_block(x)\n",
        "        return x"
      ],
      "execution_count": 60,
>>>>>>> ab4261ad4c86319da695c81c5bc6e4faf7d6a3c5
      "outputs": []
    },
    {
      "cell_type": "markdown",
      "metadata": {
        "id": "UnnVF6NAXaQo"
      },
      "source": [
        "### Load & Split Data"
      ]
    },
    {
      "cell_type": "code",
      "metadata": {
        "id": "v3doYI1lAbe9",
        "colab": {
          "base_uri": "https://localhost:8080/"
        },
<<<<<<< HEAD
        "outputId": "d8a7baf7-e11b-4974-a447-83d9c5d308d1"
=======
        "outputId": "9900be69-a186-4185-c1ef-44dcb4f0c768"
>>>>>>> ab4261ad4c86319da695c81c5bc6e4faf7d6a3c5
      },
      "source": [
        "# Load data\n",
        "\n",
        "train_l = load_data(\"images_l.pkl\")[:, None]\n",
        "# train_ul = load_data(\"images_ul.pkl\")[:, None]\n",
        "train_labels_l = load_data(\"labels_l.pkl\")\n",
        "test_ul = load_data(\"images_test.pkl\")[:, None]\n",
        "\n",
        "# Tony's new pkl files for using the unlabelled dataset\n",
        "train_ul = load_data(\"unlabelled_img.pkl\")[:, None]\n",
        "train_labels_ul = load_data(\"unlabelled_labels.pkl\")\n",
        "\n",
        "print(\"Train:\", train_l.shape)\n",
        "# print(\"Train UL:\", train_ul.shape)\n",
        "print(\"Train labels:\", train_labels_l.shape)\n",
        "print(\"Test:\", test_ul.shape)\n",
        "\n",
        "print(\"Train UL:\", train_ul.shape)\n",
        "print(\"Train UL labels:\", train_labels_ul.shape)"
      ],
<<<<<<< HEAD
      "execution_count": 15,
=======
      "execution_count": 61,
>>>>>>> ab4261ad4c86319da695c81c5bc6e4faf7d6a3c5
      "outputs": [
        {
          "output_type": "stream",
          "name": "stdout",
          "text": [
            "Train: (30000, 1, 56, 56)\n",
            "Train labels: (30000, 36)\n",
            "Test: (15000, 1, 56, 56)\n",
            "Train UL: (16684, 1, 56, 56)\n",
            "Train UL labels: (16684, 36)\n"
          ]
        }
      ]
    },
    {
      "cell_type": "code",
      "metadata": {
        "colab": {
          "base_uri": "https://localhost:8080/"
        },
        "id": "HBMj-TK1hH5y",
<<<<<<< HEAD
        "outputId": "b910b7f1-a591-4a5d-a7c0-233555d56c15"
=======
        "outputId": "bbf7cf16-f8d3-4ac1-dd97-5c0751453570"
>>>>>>> ab4261ad4c86319da695c81c5bc6e4faf7d6a3c5
      },
      "source": [
        "# LABELLED AND UNLABELLED DATA\n",
        "# Tensor, Transform, Datasets, Dataloaders\n",
        "\n",
        "# Split into training and validation\n",
        "split_index_l = math.floor(len(train_labels_l)*TRAIN_TEST_SPLIT)\n",
        "split_index_l_ul = math.floor((len(train_labels_l)+len(train_ul))*TRAIN_TEST_SPLIT)\n",
        "\n",
        "# Merged labelled and unlabelled datasets\n",
        "full_train_l = train_l\n",
        "train_l_ul = np.concatenate((full_train_l, train_ul))\n",
        "full_train_l_ul = train_l_ul\n",
        "\n",
        "# Training & validation sets\n",
        "val_l_ul = train_l_ul[:split_index_l_ul]\n",
        "val_l = train_l[:split_index_l]\n",
        "train_l = train_l[split_index_l:]\n",
        "train_l_ul = train_l_ul[split_index_l_ul:]\n",
        "\n",
        "# Merged labels sets\n",
        "full_train_labels_l = train_labels_l\n",
        "train_labels_l_ul = np.concatenate((full_train_labels_l, train_labels_ul))\n",
        "full_train_labels_l_ul = train_labels_l_ul\n",
        "\n",
        "# Training & validation label sets\n",
        "val_labels_l_ul = train_labels_l_ul[:split_index_l_ul]\n",
        "val_labels_l = train_labels_l[:split_index_l]\n",
        "train_labels_l = train_labels_l[split_index_l:]\n",
        "train_labels_l_ul = train_labels_l_ul[split_index_l_ul:]\n",
        "\n",
        "print(\"Full training:\", full_train_l.shape, full_train_labels_l.shape)\n",
        "print(\"Full training labeled and unlabeled:\", full_train_l_ul.shape, full_train_labels_l_ul.shape)\n",
        "print(\"Split Training:\", train_l.shape, train_labels_l.shape)\n",
        "print(\"Validation:\", val_l.shape, val_labels_l.shape)"
      ],
<<<<<<< HEAD
      "execution_count": 16,
=======
      "execution_count": 62,
>>>>>>> ab4261ad4c86319da695c81c5bc6e4faf7d6a3c5
      "outputs": [
        {
          "output_type": "stream",
          "name": "stdout",
          "text": [
            "Full training: (30000, 1, 56, 56) (30000, 36)\n",
            "Full training labeled and unlabeled: (46684, 1, 56, 56) (46684, 36)\n",
            "Split Training: (21000, 1, 56, 56) (21000, 36)\n",
            "Validation: (9000, 1, 56, 56) (9000, 36)\n"
          ]
        }
      ]
    },
    {
      "cell_type": "markdown",
      "metadata": {
        "id": "7m7XFWq8h5_Y"
      },
      "source": [
        "### Preprocessing (attempt)"
      ]
    },
    {
      "cell_type": "code",
      "metadata": {
        "colab": {
          "base_uri": "https://localhost:8080/",
          "height": 312
        },
        "id": "x9QFH87jh_WG",
        "outputId": "1e9b4238-3a30-476c-f7bd-6add6171fd18"
      },
      "source": [
        "img_pil = train_l[1189]\n",
        "plt.hist(np.array(img_pil).ravel(), bins=20,density=True)\n",
        "plt.xlabel(\"pixel values\")\n",
        "plt.ylabel(\"relative frequency\")\n",
        "plt.title(\"distribution of pixels\")"
      ],
<<<<<<< HEAD
      "execution_count": null,
=======
      "execution_count": 63,
>>>>>>> ab4261ad4c86319da695c81c5bc6e4faf7d6a3c5
      "outputs": [
        {
          "output_type": "execute_result",
          "data": {
            "text/plain": [
              "Text(0.5, 1.0, 'distribution of pixels')"
            ]
          },
          "metadata": {},
          "execution_count": 63
        },
        {
          "output_type": "display_data",
          "data": {
            "image/png": "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\n",
            "text/plain": [
              "<Figure size 432x288 with 1 Axes>"
            ]
          },
          "metadata": {
            "needs_background": "light"
          }
        }
      ]
    },
    {
      "cell_type": "code",
      "metadata": {
        "id": "rZpON9A3iCX2"
      },
      "source": [
        "def ImageTransformer(transforms: list)->None:\n",
        "  Transform = torchvision.transforms.Compose(transforms)\n",
        "  dl = DataLoader(CustomDataset(train_l, train_labels_l, \n",
        "                  transform=Transform), shuffle=True, batch_size=BATCH_SIZE)\n",
        "  figure = plt.figure(figsize=(5,5))\n",
        "  sample_idx = torch.randint(len(dl), size=(1,)).item()\n",
        "  img = train_l[sample_idx]\n",
        "  label = get_label_value(train_labels_l[sample_idx])\n",
        "  plt.title(label)\n",
        "  plt.axis(\"off\")\n",
        "  plt.imshow(img.squeeze())"
      ],
<<<<<<< HEAD
      "execution_count": null,
=======
      "execution_count": 64,
>>>>>>> ab4261ad4c86319da695c81c5bc6e4faf7d6a3c5
      "outputs": []
    },
    {
      "cell_type": "code",
      "metadata": {
        "colab": {
          "base_uri": "https://localhost:8080/",
          "height": 319
        },
        "id": "PQtFRWvUiGzj",
        "outputId": "8e06b9e4-2cc8-458a-dcfa-376399893857"
      },
      "source": [
        "input = [torchvision.transforms.RandomHorizontalFlip(p=0.5)]\n",
        "ex = ImageTransformer(input)"
      ],
<<<<<<< HEAD
      "execution_count": null,
=======
      "execution_count": 65,
>>>>>>> ab4261ad4c86319da695c81c5bc6e4faf7d6a3c5
      "outputs": [
        {
          "output_type": "display_data",
          "data": {
            "image/png": "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\n",
            "text/plain": [
              "<Figure size 360x360 with 1 Axes>"
            ]
          },
          "metadata": {
            "needs_background": "light"
          }
        }
      ]
    },
    {
      "cell_type": "code",
      "metadata": {
        "colab": {
          "base_uri": "https://localhost:8080/",
          "height": 923
        },
        "id": "Hjiij791iIRV",
        "outputId": "8f695036-659b-40e8-e074-4627023d14ed"
      },
      "source": [
        "i = [         transforms.Normalize(mean=(0.5,), std=(0.5,)),\n",
        "              torchvision.transforms.RandomResizedCrop([56,56]),\n",
        "              torchvision.transforms.RandomRotation(60),\n",
        "              torchvision.transforms.ColorJitter(brightness=0.5, contrast=0.5, saturation=0.5, hue=0.3)]\n",
        "\n",
        "for _ in range(3): ImageTransformer(i)"
      ],
<<<<<<< HEAD
      "execution_count": null,
=======
      "execution_count": 66,
>>>>>>> ab4261ad4c86319da695c81c5bc6e4faf7d6a3c5
      "outputs": [
        {
          "output_type": "display_data",
          "data": {
            "image/png": "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\n",
            "text/plain": [
              "<Figure size 360x360 with 1 Axes>"
            ]
          },
          "metadata": {
            "needs_background": "light"
          }
        },
        {
          "output_type": "display_data",
          "data": {
            "image/png": "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\n",
            "text/plain": [
              "<Figure size 360x360 with 1 Axes>"
            ]
          },
          "metadata": {
            "needs_background": "light"
          }
        },
        {
          "output_type": "display_data",
          "data": {
            "image/png": "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\n",
            "text/plain": [
              "<Figure size 360x360 with 1 Axes>"
            ]
          },
          "metadata": {
            "needs_background": "light"
          }
        }
      ]
    },
    {
      "cell_type": "code",
      "metadata": {
        "id": "c8sOQql0h9V0"
      },
      "source": [
        "# Color, brightness shift\n",
        "T1 = transforms.Compose([         transforms.Normalize(mean=(0.5,), std=(0.5,)),\n",
        "                                  torchvision.transforms.ColorJitter(brightness=0.5, contrast=0.5, saturation=0.5, hue=0.3)\n",
        "                                  ])\n",
        "# Random rotation, padding\n",
        "T2 = transforms.Compose([         transforms.Normalize(mean=(0.5,), std=(0.5,)),\n",
        "                                  torchvision.transforms.RandomRotation(45),\n",
        "                                  #transforms.Pad(25, padding_mode='symmetric')\n",
        "                                  ])\n",
        "# Random horizontal flipping\n",
        "T3 = transforms.Compose([         transforms.Normalize(mean=(0.5,), std=(0.5,)),\n",
        "                                  transforms.RandomHorizontalFlip(p=0.01),\n",
        "                                  ])\n",
        "# Randome verticle flipping\n",
        "T4 = transforms.Compose([         transforms.Normalize(mean=(0.5,), std=(0.5,)),\n",
        "                                  transforms.RandomVerticalFlip(p=0.01),\n",
        "                                  ])\n",
        "noT = transforms.Compose([         transforms.Normalize(mean=(0.5,), std=(0.5,))])"
      ],
<<<<<<< HEAD
      "execution_count": null,
=======
      "execution_count": 67,
>>>>>>> ab4261ad4c86319da695c81c5bc6e4faf7d6a3c5
      "outputs": []
    },
    {
      "cell_type": "markdown",
      "metadata": {
        "id": "jASyaGfniLMp"
      },
      "source": [
        "###Datasets & Dataloaders"
      ]
    },
    {
      "cell_type": "code",
      "metadata": {
        "id": "mhCciiiEhbeI"
      },
      "source": [
        "# Dataloader\n",
        "\n",
        "# Transform function\n",
        "mean = (0.5,)\n",
        "std = (0.5,)\n",
        "transform = transforms.Compose(\n",
        "    [transforms.Normalize(mean=mean, std=std)\n",
        "     ])\n",
        "\n",
        "# DataLoaders\n",
        "full_train_l_dataloader = DataLoader(CustomDataset(full_train_l, full_train_labels_l, transform=None), shuffle=True, batch_size=BATCH_SIZE)\n",
        "full_train_l_ul_dataloader = DataLoader(CustomDataset(full_train_l_ul, full_train_labels_l_ul, transform=None), shuffle=True, batch_size=BATCH_SIZE)\n",
        "train_l_dataloader = DataLoader(CustomDataset(train_l, train_labels_l, transform=transform), shuffle=True, batch_size=BATCH_SIZE)\n",
        "train_l_ul_dataloader = DataLoader(CustomDataset(train_l_ul, train_labels_l_ul, transform=None), shuffle=True, batch_size=BATCH_SIZE)\n",
        "val_l_dataloader = DataLoader(CustomDataset(val_l, val_labels_l, transform=None), shuffle=False)\n",
        "val_l_ul_dataloader = DataLoader(CustomDataset(val_l_ul, val_labels_l_ul, transform=None), shuffle=False)\n",
        "\n",
        "# Raw unlabeled dataset\n",
        "# train_ul_labels = np.zeros(shape=(len(train_ul), 36))\n",
        "# train_ul_dataloader = DataLoader(CustomDataset(train_ul, train_ul_labels, transform=None), batch_size=BATCH_SIZE, shuffle=False)\n",
        "\n",
        "# Test set for Kaggle\n",
        "test_labels_ul = np.zeros(shape=(len(test_ul), 36))\n",
        "test_ul_dataloader = DataLoader(CustomDataset(test_ul, test_labels_ul, transform=None), batch_size=BATCH_SIZE, shuffle=False)"
      ],
<<<<<<< HEAD
      "execution_count": 17,
=======
      "execution_count": 68,
>>>>>>> ab4261ad4c86319da695c81c5bc6e4faf7d6a3c5
      "outputs": []
    },
    {
      "cell_type": "code",
      "metadata": {
        "colab": {
          "base_uri": "https://localhost:8080/",
          "height": 286
        },
        "id": "Cetq8e0lhjKp",
<<<<<<< HEAD
        "outputId": "63b1e1c8-fc5c-46f0-ee46-7c74ffdee746"
=======
        "outputId": "67138fcb-4cf9-499a-bb43-464b8ad0acc1"
>>>>>>> ab4261ad4c86319da695c81c5bc6e4faf7d6a3c5
      },
      "source": [
        "# Quick data visualization\n",
        "imgs, labels = next(iter(full_train_l_dataloader))\n",
        "imshow(torchvision.utils.make_grid(imgs.cpu()))"
      ],
<<<<<<< HEAD
      "execution_count": 18,
=======
      "execution_count": 69,
>>>>>>> ab4261ad4c86319da695c81c5bc6e4faf7d6a3c5
      "outputs": [
        {
          "output_type": "stream",
          "name": "stderr",
          "text": [
            "Clipping input data to the valid range for imshow with RGB data ([0..1] for floats or [0..255] for integers).\n"
          ]
        },
        {
          "output_type": "display_data",
          "data": {
<<<<<<< HEAD
            "image/png": "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\n",
=======
            "image/png": "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\n",
>>>>>>> ab4261ad4c86319da695c81c5bc6e4faf7d6a3c5
            "text/plain": [
              "<Figure size 432x288 with 1 Axes>"
            ]
          },
          "metadata": {
            "needs_background": "light"
          }
        }
      ]
    },
    {
      "cell_type": "markdown",
      "metadata": {
        "id": "h44g_Np4Xe4D"
      },
      "source": [
        "### Train"
      ]
    },
    {
      "cell_type": "code",
      "metadata": {
        "id": "FkV5Fn9Uml9T"
      },
      "source": [
        "def transform_output(scores):\n",
        "    \"\"\"\n",
        "    Input a Tensor and output will be another Tensor with same dimension but with all elements 0 except two.\n",
        "    Those 2 elements will have value of 1 and will correspond to the models prediction about which letter and number\n",
        "    is in the image.\n",
        "    :param scores:\n",
        "    :return:\n",
        "    \"\"\"\n",
        "    return_array = []\n",
        "    score_list = scores.tolist()\n",
        "    for score in score_list:\n",
        "        numbers = score[:10]\n",
        "        letters = score[10:]\n",
        "        test = lambda x, max_value : 1 if x >= max_value else 0\n",
        "        new_numbers = [test(x, max(numbers)) for x in numbers]\n",
        "        new_letters = [test(x, max(letters)) for x in letters]\n",
        "        return_array.append(new_numbers + new_letters)\n",
        "    return return_array"
      ],
<<<<<<< HEAD
      "execution_count": 19,
=======
      "execution_count": 70,
>>>>>>> ab4261ad4c86319da695c81c5bc6e4faf7d6a3c5
      "outputs": []
    },
    {
      "cell_type": "code",
      "metadata": {
        "id": "CqAW_8O_vPxD"
      },
      "source": [
        "# Evaluation function\n",
        "def evaluate_model(model, dl):\n",
        "    accs = []\n",
        "    with torch.no_grad():\n",
        "        model.eval()\n",
        "        for i, data in enumerate(dl):\n",
        "            inputs, labels = data\n",
        "            inputs = inputs.to(device)\n",
        "            labels = labels.to(device)\n",
        "            outputs = model(inputs)\n",
        "            preds = outputs_to_preds(outputs.cpu().detach().numpy())\n",
        "            accs.append(compute_accuracy(preds, labels.cpu()))\n",
        "            break\n",
        "    return sum(accs)/len(accs)"
      ],
<<<<<<< HEAD
      "execution_count": 20,
=======
      "execution_count": 71,
>>>>>>> ab4261ad4c86319da695c81c5bc6e4faf7d6a3c5
      "outputs": []
    },
    {
      "cell_type": "code",
      "metadata": {
        "id": "koF2iFu-iqmz"
      },
      "source": [
        "# Train function\n",
        "def train(model, dataloader=train_l_dataloader, init_rounds=2):\n",
        "    criterion = nn.BCEWithLogitsLoss()\n",
        "    optimizer = torch.optim.Adam(model.parameters(), lr=LEARNING_RATE)\n",
        "    \n",
        "    for epoch in range(NUM_EPOCHS):\n",
        "        model.train()\n",
        "        running_loss = 0.0\n",
        "        \n",
        "        # Using unlabeled data\n",
        "        # if epoch >= init_rounds:\n",
        "        #     for idx, data_ul in enumerate(train_ul_dataloader):\n",
        "        #         # get data/targets\n",
        "        #         inputs_ul, targets_ul = data_ul\n",
        "        #         inputs_ul = inputs_ul.to(device)\n",
        "        #         outputs = model(inputs_ul)\n",
        "        #         fake_targets = torch.Tensor(outputs_to_predictions(outputs.cpu().detach().numpy())).to(device) # using pseudo label methods and get pseudo labels\n",
        "        #         # print(fake_targets\b[0])\n",
        "        #         optimizer.zero_grad()\n",
        "        #         outputs = model(inputs_ul)\n",
        "        #         loss = criterion(outputs, fake_targets)\n",
        "        #         loss.backward()\n",
        "        #         # optimizer.step()\n",
        "\n",
        "        for i, data in enumerate(dataloader):\n",
        "            # get data/targets\n",
        "            inputs, true_targets = data\n",
        "            inputs = inputs.to(device)\n",
        "            true_targets = true_targets.to(device)\n",
        "            # zero the parameter gradients\n",
        "            optimizer.zero_grad()\n",
        "            # forward, backward,\n",
        "            outputs = model(inputs)\n",
        "            loss = criterion(outputs, true_targets)\n",
        "            # backward\n",
        "            loss.backward()\n",
        "            # gradient descent step\n",
        "            optimizer.step()\n",
        "            # print statistics\n",
        "            running_loss += loss.item()\n",
        "            \n",
        "            acc = evaluate_model(model, dataloader)\n",
        "            if i % 100 == 99:    # print every 2000 mini-batches\n",
        "                print('Epoch %d - Loss: %.4f | Accuracy: %.4f'%(epoch+1, running_loss/i, acc))\n",
        "                running_loss = 0.0\n",
        "    \n",
        "    # DONE TRAINING\n",
        "    print('Finished Training')\n",
        "    PATH = './cnn.pth'\n",
        "    torch.save(model.state_dict(), PATH)"
      ],
<<<<<<< HEAD
      "execution_count": 21,
=======
      "execution_count": 72,
>>>>>>> ab4261ad4c86319da695c81c5bc6e4faf7d6a3c5
      "outputs": []
    },
    {
      "cell_type": "markdown",
      "metadata": {
        "id": "vPyfsZMxjW8F"
      },
      "source": [
        "### Main"
      ]
    },
    {
<<<<<<< HEAD
      "cell_type": "markdown",
      "metadata": {
        "id": "eDJ1BXz7lHw5"
      },
      "source": [
        "We ran many different tests and comapred models using our submitted scripts. Please see report for more explanation of what was done to compare models."
      ]
    },
    {
=======
>>>>>>> ab4261ad4c86319da695c81c5bc6e4faf7d6a3c5
      "cell_type": "code",
      "metadata": {
        "id": "bKPJWfgkUy9e",
        "outputId": "c0991a52-dcb4-4f96-e5e1-49781ef9c433",
        "colab": {
          "base_uri": "https://localhost:8080/"
<<<<<<< HEAD
        }
      },
      "source": [
        "# Run model and evaluate\n",
        "cnn_model = AlexNet().to(device)\n",
=======
        },
        "id": "7V2ReGgqjc8i",
        "outputId": "25fd8071-a79e-488d-e7f3-b43998155d34"
      },
      "source": [
        "# Run model and evaluate\n",
        "cnn_model = AlexNet_CNN().to(device)\n",
>>>>>>> ab4261ad4c86319da695c81c5bc6e4faf7d6a3c5
        "if USE_UL:\n",
        "    trainloader = full_train_l_ul_dataloader if PRODUCTION else train_l_ul_dataloader\n",
        "else: # use only the original labelled training set\n",
        "    trainloader = full_train_l_dataloader if PRODUCTION else train_l_dataloader\n",
        "train(cnn_model, trainloader)\n",
        "if not PRODUCTION:\n",
        "    evaluate_model(cnn_model, val_l_dataloader)"
      ],
<<<<<<< HEAD
      "execution_count": 34,
=======
      "execution_count": 73,
>>>>>>> ab4261ad4c86319da695c81c5bc6e4faf7d6a3c5
      "outputs": [
        {
          "output_type": "stream",
          "name": "stdout",
          "text": [
<<<<<<< HEAD
            "Epoch 1 - Loss: 0.2341 | Accuracy: 0.0000\n",
            "Epoch 1 - Loss: 0.1049 | Accuracy: 0.0000\n",
            "Epoch 1 - Loss: 0.0673 | Accuracy: 0.0156\n",
            "Epoch 1 - Loss: 0.0478 | Accuracy: 0.0625\n",
            "Epoch 1 - Loss: 0.0349 | Accuracy: 0.0781\n",
            "Epoch 1 - Loss: 0.0254 | Accuracy: 0.1719\n",
            "Epoch 1 - Loss: 0.0181 | Accuracy: 0.3750\n",
            "Epoch 2 - Loss: 0.0951 | Accuracy: 0.5312\n",
            "Epoch 2 - Loss: 0.0381 | Accuracy: 0.5312\n",
            "Epoch 2 - Loss: 0.0212 | Accuracy: 0.5938\n",
            "Epoch 2 - Loss: 0.0139 | Accuracy: 0.8438\n",
            "Epoch 2 - Loss: 0.0098 | Accuracy: 0.8281\n",
            "Epoch 2 - Loss: 0.0072 | Accuracy: 0.8125\n",
            "Epoch 2 - Loss: 0.0056 | Accuracy: 0.7656\n",
            "Epoch 3 - Loss: 0.0287 | Accuracy: 0.7969\n",
            "Epoch 3 - Loss: 0.0151 | Accuracy: 0.8281\n",
            "Epoch 3 - Loss: 0.0092 | Accuracy: 0.9531\n",
            "Epoch 3 - Loss: 0.0067 | Accuracy: 0.8594\n",
            "Epoch 3 - Loss: 0.0056 | Accuracy: 0.7969\n",
            "Epoch 3 - Loss: 0.0043 | Accuracy: 0.9219\n",
            "Epoch 3 - Loss: 0.0036 | Accuracy: 0.9219\n",
            "Epoch 4 - Loss: 0.0165 | Accuracy: 0.8438\n",
            "Epoch 4 - Loss: 0.0077 | Accuracy: 0.9219\n",
            "Epoch 4 - Loss: 0.0056 | Accuracy: 0.8438\n",
            "Epoch 4 - Loss: 0.0045 | Accuracy: 0.8594\n",
            "Epoch 4 - Loss: 0.0038 | Accuracy: 0.9375\n",
            "Epoch 4 - Loss: 0.0032 | Accuracy: 0.8906\n",
            "Epoch 4 - Loss: 0.0026 | Accuracy: 0.9219\n",
            "Epoch 5 - Loss: 0.0111 | Accuracy: 0.9062\n",
            "Epoch 5 - Loss: 0.0052 | Accuracy: 0.9531\n",
            "Epoch 5 - Loss: 0.0044 | Accuracy: 0.9531\n",
            "Epoch 5 - Loss: 0.0030 | Accuracy: 0.9062\n",
            "Epoch 5 - Loss: 0.0027 | Accuracy: 0.9062\n",
            "Epoch 5 - Loss: 0.0023 | Accuracy: 0.8906\n",
            "Epoch 5 - Loss: 0.0018 | Accuracy: 1.0000\n",
            "Epoch 6 - Loss: 0.0090 | Accuracy: 0.9062\n",
            "Epoch 6 - Loss: 0.0046 | Accuracy: 0.9375\n",
            "Epoch 6 - Loss: 0.0033 | Accuracy: 0.9531\n",
            "Epoch 6 - Loss: 0.0027 | Accuracy: 0.9219\n",
            "Epoch 6 - Loss: 0.0019 | Accuracy: 0.9688\n",
            "Epoch 6 - Loss: 0.0019 | Accuracy: 0.9531\n",
            "Epoch 6 - Loss: 0.0016 | Accuracy: 0.9531\n",
            "Epoch 7 - Loss: 0.0071 | Accuracy: 0.9375\n",
            "Epoch 7 - Loss: 0.0034 | Accuracy: 0.9375\n",
            "Epoch 7 - Loss: 0.0025 | Accuracy: 0.8906\n",
            "Epoch 7 - Loss: 0.0019 | Accuracy: 0.9062\n",
            "Epoch 7 - Loss: 0.0017 | Accuracy: 0.9062\n",
            "Epoch 7 - Loss: 0.0013 | Accuracy: 0.9219\n",
            "Epoch 7 - Loss: 0.0015 | Accuracy: 0.9219\n",
            "Epoch 8 - Loss: 0.0061 | Accuracy: 0.9531\n",
            "Epoch 8 - Loss: 0.0029 | Accuracy: 0.9375\n",
            "Epoch 8 - Loss: 0.0022 | Accuracy: 0.9375\n",
            "Epoch 8 - Loss: 0.0018 | Accuracy: 0.9844\n",
            "Epoch 8 - Loss: 0.0017 | Accuracy: 1.0000\n",
            "Epoch 8 - Loss: 0.0015 | Accuracy: 0.9531\n",
            "Epoch 8 - Loss: 0.0010 | Accuracy: 0.9688\n",
            "Epoch 9 - Loss: 0.0063 | Accuracy: 0.8750\n",
            "Epoch 9 - Loss: 0.0025 | Accuracy: 0.9219\n",
            "Epoch 9 - Loss: 0.0016 | Accuracy: 0.9531\n",
            "Epoch 9 - Loss: 0.0018 | Accuracy: 0.9844\n",
            "Epoch 9 - Loss: 0.0013 | Accuracy: 0.9531\n",
            "Epoch 9 - Loss: 0.0009 | Accuracy: 0.9062\n",
            "Epoch 9 - Loss: 0.0012 | Accuracy: 0.9062\n",
            "Epoch 10 - Loss: 0.0072 | Accuracy: 0.9375\n",
            "Epoch 10 - Loss: 0.0034 | Accuracy: 0.9531\n",
            "Epoch 10 - Loss: 0.0017 | Accuracy: 0.9531\n",
            "Epoch 10 - Loss: 0.0016 | Accuracy: 0.9219\n",
            "Epoch 10 - Loss: 0.0013 | Accuracy: 1.0000\n",
            "Epoch 10 - Loss: 0.0011 | Accuracy: 0.9688\n",
            "Epoch 10 - Loss: 0.0010 | Accuracy: 0.9688\n",
=======
            "Epoch 1 - Loss: 0.2497 | Accuracy: 0.0000\n",
            "Epoch 1 - Loss: 0.1048 | Accuracy: 0.0000\n",
            "Epoch 1 - Loss: 0.0691 | Accuracy: 0.0000\n",
            "Epoch 1 - Loss: 0.0497 | Accuracy: 0.0000\n",
            "Epoch 1 - Loss: 0.0372 | Accuracy: 0.0312\n",
            "Epoch 1 - Loss: 0.0284 | Accuracy: 0.0781\n",
            "Epoch 1 - Loss: 0.0218 | Accuracy: 0.1562\n",
            "Epoch 2 - Loss: 0.1242 | Accuracy: 0.2500\n",
            "Epoch 2 - Loss: 0.0467 | Accuracy: 0.6406\n",
            "Epoch 2 - Loss: 0.0248 | Accuracy: 0.7031\n",
            "Epoch 2 - Loss: 0.0148 | Accuracy: 0.7031\n",
            "Epoch 2 - Loss: 0.0098 | Accuracy: 0.8125\n",
            "Epoch 2 - Loss: 0.0072 | Accuracy: 0.7812\n",
            "Epoch 2 - Loss: 0.0058 | Accuracy: 0.8125\n",
            "Epoch 3 - Loss: 0.0351 | Accuracy: 0.8594\n",
            "Epoch 3 - Loss: 0.0134 | Accuracy: 0.8750\n",
            "Epoch 3 - Loss: 0.0080 | Accuracy: 0.8750\n",
            "Epoch 3 - Loss: 0.0059 | Accuracy: 0.9062\n",
            "Epoch 3 - Loss: 0.0046 | Accuracy: 0.9219\n",
            "Epoch 3 - Loss: 0.0034 | Accuracy: 0.9219\n",
            "Epoch 3 - Loss: 0.0030 | Accuracy: 0.8281\n",
            "Epoch 4 - Loss: 0.0197 | Accuracy: 0.9219\n",
            "Epoch 4 - Loss: 0.0070 | Accuracy: 0.9375\n",
            "Epoch 4 - Loss: 0.0045 | Accuracy: 1.0000\n",
            "Epoch 4 - Loss: 0.0033 | Accuracy: 0.9375\n",
            "Epoch 4 - Loss: 0.0027 | Accuracy: 0.9844\n",
            "Epoch 4 - Loss: 0.0024 | Accuracy: 0.9219\n",
            "Epoch 4 - Loss: 0.0020 | Accuracy: 0.8906\n",
            "Epoch 5 - Loss: 0.0134 | Accuracy: 0.9531\n",
            "Epoch 5 - Loss: 0.0038 | Accuracy: 0.9844\n",
            "Epoch 5 - Loss: 0.0031 | Accuracy: 0.9844\n",
            "Epoch 5 - Loss: 0.0022 | Accuracy: 0.9375\n",
            "Epoch 5 - Loss: 0.0019 | Accuracy: 0.9688\n",
            "Epoch 5 - Loss: 0.0015 | Accuracy: 0.9531\n",
            "Epoch 5 - Loss: 0.0014 | Accuracy: 0.9062\n",
>>>>>>> ab4261ad4c86319da695c81c5bc6e4faf7d6a3c5
            "Finished Training\n"
          ]
        }
      ]
    },
    {
      "cell_type": "code",
      "metadata": {
        "id": "IVfPGYQKjgz1"
      },
      "source": [
        "if LABELLING:\n",
        "    # Label the unlabelled dataset\n",
        "    with torch.no_grad():\n",
        "        predictions_ul = []\n",
        "        for data in train_ul_dataloader:\n",
        "            inputs = data[0].to(device)\n",
        "            targets = data[1].to(device)\n",
        "            outputs = cnn_model(inputs)\n",
        "            converted_output = outputs_to_predictions(outputs.cpu().detach().numpy())\n",
        "            for c in converted_output:\n",
        "                predictions_ul.append(c)\n",
        "\n",
        "    print(len(predictions_ul))\n",
        "    predictions_ul = np.array(predictions_ul)\n",
        "    print(type(predictions_ul))\n",
        "\n",
        "    with open('labels_ul.pkl', 'wb') as train_labels_ul_pkl:\n",
        "        pickle.dump(predictions_ul, train_labels_ul_pkl)"
      ],
<<<<<<< HEAD
      "execution_count": null,
=======
      "execution_count": 74,
>>>>>>> ab4261ad4c86319da695c81c5bc6e4faf7d6a3c5
      "outputs": []
    },
    {
      "cell_type": "markdown",
      "metadata": {
        "id": "GETLWLFJjksV"
<<<<<<< HEAD
      },
      "source": [
        "####Export predictions"
=======
      },
      "source": [
        "####Export predictions"
      ]
    },
    {
      "cell_type": "code",
      "metadata": {
        "id": "Ygt9NiH6jnJA",
        "outputId": "f6e87647-19fa-4ace-c3c9-ade94a816a0f",
        "colab": {
          "base_uri": "https://localhost:8080/"
        }
      },
      "source": [
        "# Setup CSV for predictions export\n",
        "if PRODUCTION:\n",
        "    df = pd.DataFrame(columns=['# Id', 'Category'])\n",
        "    with torch.no_grad():\n",
        "        i = 0\n",
        "        for data in test_ul_dataloader:\n",
        "            inputs = data[0].to(device)\n",
        "            targets = data[1].to(device)\n",
        "            outputs = cnn_model(inputs) # apply CNN model\n",
        "            predictions = transform_output(outputs)\n",
        "            for pred in predictions:\n",
        "                label = ''.join(str(x) for x in pred)\n",
        "                df.loc[i] = [i, label]\n",
        "                i += 1\n",
        "    print(df)"
      ],
      "execution_count": 75,
      "outputs": [
        {
          "output_type": "stream",
          "name": "stdout",
          "text": [
            "        # Id                              Category\n",
            "0          0  100000000000000000000000000001000000\n",
            "1          1  000010000000000000000100000000000000\n",
            "2          2  000000000100000000010000000000000000\n",
            "3          3  100000000000000000000100000000000000\n",
            "4          4  000000100000000000010000000000000000\n",
            "...      ...                                   ...\n",
            "14995  14995  000100000000001000000000000000000000\n",
            "14996  14996  000100000010000000000000000000000000\n",
            "14997  14997  000000100000000000000000001000000000\n",
            "14998  14998  010000000000000000100000000000000000\n",
            "14999  14999  001000000000000000001000000000000000\n",
            "\n",
            "[15000 rows x 2 columns]\n"
          ]
        }
>>>>>>> ab4261ad4c86319da695c81c5bc6e4faf7d6a3c5
      ]
    },
    {
      "cell_type": "code",
      "metadata": {
<<<<<<< HEAD
        "id": "Ygt9NiH6jnJA",
        "colab": {
          "base_uri": "https://localhost:8080/"
        },
        "outputId": "27107000-aea5-4be5-e097-c0ba18eb67ca"
      },
      "source": [
        "# Setup CSV for predictions export\n",
        "if PRODUCTION:\n",
        "    df = pd.DataFrame(columns=['# Id', 'Category'])\n",
        "    with torch.no_grad():\n",
        "        i = 0\n",
        "        for data in test_ul_dataloader:\n",
        "            inputs = data[0].to(device)\n",
        "            targets = data[1].to(device)\n",
        "            outputs = cnn_model(inputs) # apply CNN model\n",
        "            predictions = transform_output(outputs)\n",
        "            for pred in predictions:\n",
        "                label = ''.join(str(x) for x in pred)\n",
        "                df.loc[i] = [i, label]\n",
        "                i += 1\n",
        "    print(df)"
      ],
      "execution_count": 44,
      "outputs": [
        {
          "output_type": "stream",
          "name": "stdout",
          "text": [
            "        # Id                              Category\n",
            "0          0  100000000000000000000000000001000000\n",
            "1          1  000010000000000000000100000000000000\n",
            "2          2  000000000100000000010000000000000000\n",
            "3          3  100000000000000000000100000000000000\n",
            "4          4  000000100000000000010000000000000000\n",
            "...      ...                                   ...\n",
            "14995  14995  000100000000001000000000000000000000\n",
            "14996  14996  000100000000000000000000001000000000\n",
            "14997  14997  000000100000000000000000001000000000\n",
            "14998  14998  010000000000000000100000000000000000\n",
            "14999  14999  001000000000000000001000000000000000\n",
            "\n",
            "[15000 rows x 2 columns]\n"
          ]
        }
      ]
    },
    {
      "cell_type": "code",
      "metadata": {
        "id": "WpLBxOqxjsEJ"
      },
      "source": [
        "# Export CSV for Kaggle\n",
        "from datetime import datetime\n",
        "if PRODUCTION:\n",
        "    filename = 'kaggle_g19_{}.csv'.format(datetime.now())\n",
        "    df.to_csv(filename, sep=',', float_format='{:36}', index=False)"
      ],
      "execution_count": 45,
=======
        "id": "WpLBxOqxjsEJ"
      },
      "source": [
        "# Export CSV for Kaggle\n",
        "from datetime import datetime\n",
        "if PRODUCTION:\n",
        "    filename = 'kaggle_g19_{}.csv'.format(datetime.now())\n",
        "    df.to_csv(filename, sep=',', float_format='{:36}', index=False)"
      ],
      "execution_count": 76,
>>>>>>> ab4261ad4c86319da695c81c5bc6e4faf7d6a3c5
      "outputs": []
    }
  ]
}