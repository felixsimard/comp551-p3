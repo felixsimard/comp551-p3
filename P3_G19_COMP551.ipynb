{
  "nbformat": 4,
  "nbformat_minor": 0,
  "metadata": {
    "colab": {
      "name": "P3_G19_COMP551.ipynb",
      "provenance": [],
      "collapsed_sections": [
        "a8_UtRM9WUWH",
        "UnnVF6NAXaQo",
        "h44g_Np4Xe4D",
        "Jvf4PwdHdNBv",
        "pU3jWPGIdS8D",
        "76JdoGzydX7j",
        "nmkobjxxdZ95",
        "JnGy9zdJWIKm"
      ]
    },
    "kernelspec": {
      "name": "python3",
      "display_name": "Python 3"
    },
    "language_info": {
      "name": "python"
    },
    "accelerator": "GPU"
  },
  "cells": [
    {
      "cell_type": "markdown",
      "metadata": {
        "id": "6zseCfyvdYex"
      },
      "source": [
        "# **COMP 551 - Applied Machine Learning**\n",
        "\n",
        "### Mini Project 3: Multi-label Classification Image Data\n",
        "\n",
        "Anthony Porporino (260891600)<br>\n",
        "Hassan Sameh (260891600)<br>\n",
        "Felix Simard (260865674)\n",
        "\n",
        "**Group 19** <br>\n",
        "November 25th, 2021\n"
      ]
    },
    {
      "cell_type": "markdown",
      "metadata": {
        "id": "A2EelbQEfhqV"
      },
      "source": [
        "###Setup\n"
      ]
    },
    {
      "cell_type": "code",
      "metadata": {
        "id": "3yNW2EISINDi"
      },
      "source": [
        "import torch\n",
        "import torch.nn as nn\n",
        "import torch.nn.functional as F\n",
        "import torchvision\n",
        "import torchvision.transforms as transforms\n",
        "from torch.utils.data import TensorDataset, DataLoader, Dataset\n",
        "import matplotlib.pyplot as plt\n",
        "import numpy as np\n",
        "import pandas as pd\n",
        "import pickle\n",
        "from PIL import Image\n",
        "from sklearn import preprocessing\n",
        "from tqdm import tqdm\n",
        "import math\n",
        "import string\n",
        "import cv2"
      ],
      "execution_count": 1,
      "outputs": []
    },
    {
      "cell_type": "code",
      "metadata": {
        "id": "0OL7DT5N51j9",
        "colab": {
          "base_uri": "https://localhost:8080/"
        },
        "outputId": "a357ec1f-7592-427b-8f0b-23d93a9cbf15"
      },
      "source": [
        "# Device configuration\n",
        "device = torch.device('cuda:0' if torch.cuda.is_available() else 'cpu')\n",
        "print(device)"
      ],
      "execution_count": 2,
      "outputs": [
        {
          "output_type": "stream",
          "name": "stdout",
          "text": [
            "cuda:0\n"
          ]
        }
      ]
    },
    {
      "cell_type": "code",
      "metadata": {
        "id": "Xgfx5EC0kW8V",
        "colab": {
          "base_uri": "https://localhost:8080/"
        },
        "outputId": "74566bcd-6ab5-48ed-d1a0-9c8a566aee7e"
      },
      "source": [
        "from google.colab import drive\n",
        "drive.mount(\"/content/drive\")"
      ],
      "execution_count": 3,
      "outputs": [
        {
          "output_type": "stream",
          "name": "stdout",
          "text": [
            "Mounted at /content/drive\n"
          ]
        }
      ]
    },
    {
      "cell_type": "markdown",
      "metadata": {
        "id": "wZLZdytUfqQ1"
      },
      "source": [
        "### Hyper-parameters"
      ]
    },
    {
      "cell_type": "code",
      "metadata": {
        "id": "5IWZNKNhfs-5"
      },
      "source": [
        "# Hyper-parameters\n",
        "NUM_EPOCHS = 10\n",
        "BATCH_SIZE = 64\n",
        "NUM_CHANNELS = 1\n",
        "NUM_CLASSES = 36\n",
        "LEARNING_RATE = 0.001\n",
        "MOMENTUM = 0.9\n",
        "WEIGHT_DECAY = 0.0001\n",
        "FLATTEN_IMG_SIZE = 3136\n",
        "TRAIN_TEST_SPLIT = 0.30\n",
        "PRODUCTION = True\n",
        "LABELLING = False\n",
        "USE_UL = True"
      ],
      "execution_count": 42,
      "outputs": []
    },
    {
      "cell_type": "markdown",
      "metadata": {
        "id": "wqCIWRt9f0zP"
      },
      "source": [
        "###Helper functions"
      ]
    },
    {
      "cell_type": "code",
      "metadata": {
        "id": "SGfnvNyef31w"
      },
      "source": [
        "def imshow(img):\n",
        "    img = img / 2 + 0.5     # unnormalize\n",
        "    npimg = img.numpy()\n",
        "    plt.imshow(np.transpose(npimg, (1, 2, 0)))\n",
        "    plt.show()"
      ],
      "execution_count": 6,
      "outputs": []
    },
    {
      "cell_type": "code",
      "metadata": {
        "id": "KN4hdQHZf54Z"
      },
      "source": [
        "FELIX_PATH = '/content/drive/MyDrive/P3-COMP551-FALL2021/'\n",
        "TONY_PATH = '/content/drive/MyDrive/McGill/COMP551/data/'\n",
        "\n",
        "def load_data(filename, data_path=TONY_PATH):\n",
        "    loaded_pkl = None\n",
        "    try:\n",
        "        pkl_buffered = open(data_path+''+filename,'rb')\n",
        "        loaded_pkl = pickle.load(pkl_buffered)\n",
        "    except Exception as e:\n",
        "        print(\"Error loading data: {}\".format(e))\n",
        "    return loaded_pkl"
      ],
      "execution_count": 8,
      "outputs": []
    },
    {
      "cell_type": "code",
      "metadata": {
        "id": "bfpU9FqZf9QS"
      },
      "source": [
        "alpha_dict = dict(enumerate(string.ascii_lowercase))\n",
        "def get_label_value(labels):\n",
        "  \"\"\"\n",
        "  This function will return a string representing the label of a picture given\n",
        "  the array label as input:\n",
        "  Ex ouput: '1a', '4z' ...\n",
        "  \"\"\"\n",
        "  label_temp = labels.tolist()\n",
        "  label_temp = [int(x) for x in label_temp]\n",
        "  number = label_temp[:10].index(1)\n",
        "  letter = alpha_dict[label_temp[10:].index(1)]\n",
        "\n",
        "  return str(number) + str(letter)"
      ],
      "execution_count": 9,
      "outputs": []
    },
    {
      "cell_type": "code",
      "metadata": {
        "id": "RYgrGR58vJiW"
      },
      "source": [
        "# Helper methods for for conversions and model evalutation\n",
        "def outputs_to_preds(outputs):\n",
        "    preds = np.empty(shape=(len(outputs), 36))\n",
        "    for i, output in enumerate(outputs):\n",
        "        pred = np.zeros(36)\n",
        "        digit_index = np.argmax(output[:11])\n",
        "        letter_index = np.argmax(output[11:]) + 11\n",
        "        pred[digit_index], pred[letter_index] = 1, 1\n",
        "        preds[i] = pred\n",
        "    return preds\n",
        "\n",
        "def compute_accuracy(preds, labels):\n",
        "    preds_str = labels_to_strings(preds)\n",
        "    labels_str = labels_to_strings(labels)\n",
        "    correct_preds = np.equal(preds_str, labels_str)\n",
        "    return correct_preds.sum() / len(labels) \n",
        "\n",
        "def labels_to_strings(labels):\n",
        "  result = np.empty(len(labels)).astype('object')\n",
        "  for i, pred in enumerate(labels):\n",
        "    prediction = ''\n",
        "    for elem in pred:\n",
        "      prediction = prediction + str(int(elem))\n",
        "    result[i] = prediction\n",
        "  return result"
      ],
      "execution_count": 10,
      "outputs": []
    },
    {
      "cell_type": "markdown",
      "metadata": {
        "id": "J_-J54jZgR_U"
      },
      "source": [
        "### Custom Dataset"
      ]
    },
    {
      "cell_type": "code",
      "metadata": {
        "id": "NuvEE98sgUd0"
      },
      "source": [
        "# Reference: https://stackoverflow.com/questions/44429199/how-to-load-a-list-of-numpy-arrays-to-pytorch-dataset-loader\n",
        "class CustomDataset(Dataset):\n",
        "    def __init__(self, data, targets=None, transform=None, transform_target=None):\n",
        "        self.data = torch.from_numpy(data).float()\n",
        "        self.targets = torch.from_numpy(targets).float() if targets is not None else None\n",
        "        self.transform = transform\n",
        "        self.transform_target = transform_target\n",
        "        \n",
        "    def __getitem__(self, index):\n",
        "        x = self.data[index]\n",
        "\n",
        "        # Apply median-filtering to remove salt-pepper noise\n",
        "        # tmp = x.cpu().detach().numpy()\n",
        "        # tmp = np.squeeze(tmp, axis=0)\n",
        "        # img = Image.fromarray((tmp).astype(np.uint8))\n",
        "        # result = cv2.medianBlur(np.array(img), 1)\n",
        "        # x = torch.from_numpy(result).float().to(device)\n",
        "        # x = x.unsqueeze(0)\n",
        "\n",
        "        y = np.zeros(36, dtype=float)\n",
        "\n",
        "        if self.targets is not None:\n",
        "            y = self.targets[index]\n",
        "        else:\n",
        "            None\n",
        "        if self.transform:\n",
        "            x = self.transform(x)\n",
        "        if self.transform_target:\n",
        "            y = self.transform_target(y)\n",
        "        \n",
        "        return x, y\n",
        "    \n",
        "    def __len__(self):\n",
        "        return len(self.data)"
      ],
      "execution_count": 11,
      "outputs": []
    },
    {
      "cell_type": "markdown",
      "metadata": {
        "id": "a8_UtRM9WUWH"
      },
      "source": [
        "### CNN Architecture\n",
        "\n",
        "Using AlexNet model as the base for our network architecture. We changed certain input sizes and ordering.\n",
        "\n",
        "Briefly covered in \"CNN\" lecture slides.\n",
        "\n",
        "[reference](https://pytorch.org/hub/pytorch_vision_alexnet/)"
      ]
    },
    {
      "cell_type": "code",
      "metadata": {
        "id": "SUCGJKmjS3Bt"
      },
      "source": [
        "class AlexNet(nn.Module):\n",
        "    def __init__(self, in_channels=NUM_CHANNELS, num_classes=NUM_CLASSES):\n",
        "        super().__init__()\n",
        "        self.in_channels = in_channels\n",
        "        self.num_classes = num_classes\n",
        "\n",
        "        self.features = nn.Sequential(\n",
        "            nn.Conv2d(in_channels, 32, kernel_size=3, padding=1),\n",
        "            nn.MaxPool2d(2),\n",
        "            nn.ReLU(),\n",
        "            nn.Conv2d(32, 64, kernel_size=3, padding=1),\n",
        "            nn.MaxPool2d(2),\n",
        "            nn.ReLU(),\n",
        "            nn.Conv2d(64, 128, kernel_size=3, padding=1),\n",
        "            nn.ReLU(),\n",
        "            nn.Conv2d(128, 80, kernel_size=3, padding=1),\n",
        "            nn.ReLU(),\n",
        "            nn.Conv2d(80, 80, kernel_size=3, padding=1),\n",
        "            nn.ReLU(),\n",
        "        )\n",
        "        self.avgpool = nn.AdaptiveAvgPool2d((6, 6))\n",
        "        self.classifier = nn.Sequential(\n",
        "            nn.Dropout(p=.5),\n",
        "            nn.Linear(80 * 6 * 6, 4096),\n",
        "            nn.ReLU(),\n",
        "            nn.Dropout(p=.5),\n",
        "            nn.Linear(4096, 4096),\n",
        "            nn.ReLU(),\n",
        "            nn.Linear(4096, num_classes),\n",
        "        )\n",
        "\n",
        "    def forward(self, x: torch.Tensor) -> torch.Tensor:\n",
        "        x = self.features(x)\n",
        "        x = self.avgpool(x)\n",
        "        x = torch.flatten(x, 1)\n",
        "        x = self.classifier(x)\n",
        "        return x"
      ],
      "execution_count": 47,
      "outputs": []
    },
    {
      "cell_type": "markdown",
      "metadata": {
        "id": "UnnVF6NAXaQo"
      },
      "source": [
        "### Load & Split Data"
      ]
    },
    {
      "cell_type": "code",
      "metadata": {
        "id": "v3doYI1lAbe9",
        "colab": {
          "base_uri": "https://localhost:8080/"
        },
        "outputId": "d8a7baf7-e11b-4974-a447-83d9c5d308d1"
      },
      "source": [
        "# Load data\n",
        "\n",
        "train_l = load_data(\"images_l.pkl\")[:, None]\n",
        "# train_ul = load_data(\"images_ul.pkl\")[:, None]\n",
        "train_labels_l = load_data(\"labels_l.pkl\")\n",
        "test_ul = load_data(\"images_test.pkl\")[:, None]\n",
        "\n",
        "# Tony's new pkl files for using the unlabelled dataset\n",
        "train_ul = load_data(\"unlabelled_img.pkl\")[:, None]\n",
        "train_labels_ul = load_data(\"unlabelled_labels.pkl\")\n",
        "\n",
        "print(\"Train:\", train_l.shape)\n",
        "# print(\"Train UL:\", train_ul.shape)\n",
        "print(\"Train labels:\", train_labels_l.shape)\n",
        "print(\"Test:\", test_ul.shape)\n",
        "\n",
        "print(\"Train UL:\", train_ul.shape)\n",
        "print(\"Train UL labels:\", train_labels_ul.shape)"
      ],
      "execution_count": 15,
      "outputs": [
        {
          "output_type": "stream",
          "name": "stdout",
          "text": [
            "Train: (30000, 1, 56, 56)\n",
            "Train labels: (30000, 36)\n",
            "Test: (15000, 1, 56, 56)\n",
            "Train UL: (16684, 1, 56, 56)\n",
            "Train UL labels: (16684, 36)\n"
          ]
        }
      ]
    },
    {
      "cell_type": "code",
      "metadata": {
        "colab": {
          "base_uri": "https://localhost:8080/"
        },
        "id": "HBMj-TK1hH5y",
        "outputId": "b910b7f1-a591-4a5d-a7c0-233555d56c15"
      },
      "source": [
        "# LABELLED AND UNLABELLED DATA\n",
        "# Tensor, Transform, Datasets, Dataloaders\n",
        "\n",
        "# Split into training and validation\n",
        "split_index_l = math.floor(len(train_labels_l)*TRAIN_TEST_SPLIT)\n",
        "split_index_l_ul = math.floor((len(train_labels_l)+len(train_ul))*TRAIN_TEST_SPLIT)\n",
        "\n",
        "# Merged labelled and unlabelled datasets\n",
        "full_train_l = train_l\n",
        "train_l_ul = np.concatenate((full_train_l, train_ul))\n",
        "full_train_l_ul = train_l_ul\n",
        "\n",
        "# Training & validation sets\n",
        "val_l_ul = train_l_ul[:split_index_l_ul]\n",
        "val_l = train_l[:split_index_l]\n",
        "train_l = train_l[split_index_l:]\n",
        "train_l_ul = train_l_ul[split_index_l_ul:]\n",
        "\n",
        "# Merged labels sets\n",
        "full_train_labels_l = train_labels_l\n",
        "train_labels_l_ul = np.concatenate((full_train_labels_l, train_labels_ul))\n",
        "full_train_labels_l_ul = train_labels_l_ul\n",
        "\n",
        "# Training & validation label sets\n",
        "val_labels_l_ul = train_labels_l_ul[:split_index_l_ul]\n",
        "val_labels_l = train_labels_l[:split_index_l]\n",
        "train_labels_l = train_labels_l[split_index_l:]\n",
        "train_labels_l_ul = train_labels_l_ul[split_index_l_ul:]\n",
        "\n",
        "print(\"Full training:\", full_train_l.shape, full_train_labels_l.shape)\n",
        "print(\"Full training labeled and unlabeled:\", full_train_l_ul.shape, full_train_labels_l_ul.shape)\n",
        "print(\"Split Training:\", train_l.shape, train_labels_l.shape)\n",
        "print(\"Validation:\", val_l.shape, val_labels_l.shape)"
      ],
      "execution_count": 16,
      "outputs": [
        {
          "output_type": "stream",
          "name": "stdout",
          "text": [
            "Full training: (30000, 1, 56, 56) (30000, 36)\n",
            "Full training labeled and unlabeled: (46684, 1, 56, 56) (46684, 36)\n",
            "Split Training: (21000, 1, 56, 56) (21000, 36)\n",
            "Validation: (9000, 1, 56, 56) (9000, 36)\n"
          ]
        }
      ]
    },
    {
      "cell_type": "markdown",
      "metadata": {
        "id": "7m7XFWq8h5_Y"
      },
      "source": [
        "### Preprocessing (attempt)"
      ]
    },
    {
      "cell_type": "code",
      "metadata": {
        "colab": {
          "base_uri": "https://localhost:8080/",
          "height": 312
        },
        "id": "x9QFH87jh_WG",
        "outputId": "1e9b4238-3a30-476c-f7bd-6add6171fd18"
      },
      "source": [
        "img_pil = train_l[1189]\n",
        "plt.hist(np.array(img_pil).ravel(), bins=20,density=True)\n",
        "plt.xlabel(\"pixel values\")\n",
        "plt.ylabel(\"relative frequency\")\n",
        "plt.title(\"distribution of pixels\")"
      ],
      "execution_count": null,
      "outputs": [
        {
          "output_type": "execute_result",
          "data": {
            "text/plain": [
              "Text(0.5, 1.0, 'distribution of pixels')"
            ]
          },
          "metadata": {},
          "execution_count": 63
        },
        {
          "output_type": "display_data",
          "data": {
            "image/png": "[encoded data removed]",
            "text/plain": [
              "<Figure size 432x288 with 1 Axes>"
            ]
          },
          "metadata": {
            "needs_background": "light"
          }
        }
      ]
    },
    {
      "cell_type": "code",
      "metadata": {
        "id": "rZpON9A3iCX2"
      },
      "source": [
        "def ImageTransformer(transforms: list)->None:\n",
        "  Transform = torchvision.transforms.Compose(transforms)\n",
        "  dl = DataLoader(CustomDataset(train_l, train_labels_l, \n",
        "                  transform=Transform), shuffle=True, batch_size=BATCH_SIZE)\n",
        "  figure = plt.figure(figsize=(5,5))\n",
        "  sample_idx = torch.randint(len(dl), size=(1,)).item()\n",
        "  img = train_l[sample_idx]\n",
        "  label = get_label_value(train_labels_l[sample_idx])\n",
        "  plt.title(label)\n",
        "  plt.axis(\"off\")\n",
        "  plt.imshow(img.squeeze())"
      ],
      "execution_count": null,
      "outputs": []
    },
    {
      "cell_type": "code",
      "metadata": {
        "colab": {
          "base_uri": "https://localhost:8080/",
          "height": 319
        },
        "id": "PQtFRWvUiGzj",
        "outputId": "8e06b9e4-2cc8-458a-dcfa-376399893857"
      },
      "source": [
        "input = [torchvision.transforms.RandomHorizontalFlip(p=0.5)]\n",
        "ex = ImageTransformer(input)"
      ],
      "execution_count": null,
      "outputs": [
        {
          "output_type": "display_data",
          "data": {
            "image/png": "[encoded data removed]",
            "text/plain": [
              "<Figure size 360x360 with 1 Axes>"
            ]
          },
          "metadata": {
            "needs_background": "light"
          }
        }
      ]
    },
    {
      "cell_type": "code",
      "metadata": {
        "colab": {
          "base_uri": "https://localhost:8080/",
          "height": 923
        },
        "id": "Hjiij791iIRV",
        "outputId": "8f695036-659b-40e8-e074-4627023d14ed"
      },
      "source": [
        "i = [         transforms.Normalize(mean=(0.5,), std=(0.5,)),\n",
        "              torchvision.transforms.RandomResizedCrop([56,56]),\n",
        "              torchvision.transforms.RandomRotation(60),\n",
        "              torchvision.transforms.ColorJitter(brightness=0.5, contrast=0.5, saturation=0.5, hue=0.3)]\n",
        "\n",
        "for _ in range(3): ImageTransformer(i)"
      ],
      "execution_count": null,
      "outputs": [
        {
          "output_type": "display_data",
          "data": {
            "image/png": "[encoded data removed]",
            "text/plain": [
              "<Figure size 360x360 with 1 Axes>"
            ]
          },
          "metadata": {
            "needs_background": "light"
          }
        },
        {
          "output_type": "display_data",
          "data": {
            "image/png": "[encoded data removed]",
            "text/plain": [
              "<Figure size 360x360 with 1 Axes>"
            ]
          },
          "metadata": {
            "needs_background": "light"
          }
        },
        {
          "output_type": "display_data",
          "data": {
            "image/png": "[encoded data removed]",
            "text/plain": [
              "<Figure size 360x360 with 1 Axes>"
            ]
          },
          "metadata": {
            "needs_background": "light"
          }
        }
      ]
    },
    {
      "cell_type": "code",
      "metadata": {
        "id": "c8sOQql0h9V0"
      },
      "source": [
        "# Color, brightness shift\n",
        "T1 = transforms.Compose([         transforms.Normalize(mean=(0.5,), std=(0.5,)),\n",
        "                                  torchvision.transforms.ColorJitter(brightness=0.5, contrast=0.5, saturation=0.5, hue=0.3)\n",
        "                                  ])\n",
        "# Random rotation, padding\n",
        "T2 = transforms.Compose([         transforms.Normalize(mean=(0.5,), std=(0.5,)),\n",
        "                                  torchvision.transforms.RandomRotation(45),\n",
        "                                  #transforms.Pad(25, padding_mode='symmetric')\n",
        "                                  ])\n",
        "# Random horizontal flipping\n",
        "T3 = transforms.Compose([         transforms.Normalize(mean=(0.5,), std=(0.5,)),\n",
        "                                  transforms.RandomHorizontalFlip(p=0.01),\n",
        "                                  ])\n",
        "# Randome verticle flipping\n",
        "T4 = transforms.Compose([         transforms.Normalize(mean=(0.5,), std=(0.5,)),\n",
        "                                  transforms.RandomVerticalFlip(p=0.01),\n",
        "                                  ])\n",
        "noT = transforms.Compose([         transforms.Normalize(mean=(0.5,), std=(0.5,))])"
      ],
      "execution_count": null,
      "outputs": []
    },
    {
      "cell_type": "markdown",
      "metadata": {
        "id": "jASyaGfniLMp"
      },
      "source": [
        "###Datasets & Dataloaders"
      ]
    },
    {
      "cell_type": "code",
      "metadata": {
        "id": "mhCciiiEhbeI"
      },
      "source": [
        "# Dataloader\n",
        "\n",
        "# Transform function\n",
        "mean = (0.5,)\n",
        "std = (0.5,)\n",
        "transform = transforms.Compose(\n",
        "    [transforms.Normalize(mean=mean, std=std)\n",
        "     ])\n",
        "\n",
        "# DataLoaders\n",
        "full_train_l_dataloader = DataLoader(CustomDataset(full_train_l, full_train_labels_l, transform=None), shuffle=True, batch_size=BATCH_SIZE)\n",
        "full_train_l_ul_dataloader = DataLoader(CustomDataset(full_train_l_ul, full_train_labels_l_ul, transform=None), shuffle=True, batch_size=BATCH_SIZE)\n",
        "train_l_dataloader = DataLoader(CustomDataset(train_l, train_labels_l, transform=transform), shuffle=True, batch_size=BATCH_SIZE)\n",
        "train_l_ul_dataloader = DataLoader(CustomDataset(train_l_ul, train_labels_l_ul, transform=None), shuffle=True, batch_size=BATCH_SIZE)\n",
        "val_l_dataloader = DataLoader(CustomDataset(val_l, val_labels_l, transform=None), shuffle=False)\n",
        "val_l_ul_dataloader = DataLoader(CustomDataset(val_l_ul, val_labels_l_ul, transform=None), shuffle=False)\n",
        "\n",
        "# Raw unlabeled dataset\n",
        "# train_ul_labels = np.zeros(shape=(len(train_ul), 36))\n",
        "# train_ul_dataloader = DataLoader(CustomDataset(train_ul, train_ul_labels, transform=None), batch_size=BATCH_SIZE, shuffle=False)\n",
        "\n",
        "# Test set for Kaggle\n",
        "test_labels_ul = np.zeros(shape=(len(test_ul), 36))\n",
        "test_ul_dataloader = DataLoader(CustomDataset(test_ul, test_labels_ul, transform=None), batch_size=BATCH_SIZE, shuffle=False)"
      ],
      "execution_count": 17,
      "outputs": []
    },
    {
      "cell_type": "code",
      "metadata": {
        "colab": {
          "base_uri": "https://localhost:8080/",
          "height": 286
        },
        "id": "Cetq8e0lhjKp",
        "outputId": "63b1e1c8-fc5c-46f0-ee46-7c74ffdee746"
      },
      "source": [
        "# Quick data visualization\n",
        "imgs, labels = next(iter(full_train_l_dataloader))\n",
        "imshow(torchvision.utils.make_grid(imgs.cpu()))"
      ],
      "execution_count": 18,
      "outputs": [
        {
          "output_type": "stream",
          "name": "stderr",
          "text": [
            "Clipping input data to the valid range for imshow with RGB data ([0..1] for floats or [0..255] for integers).\n"
          ]
        },
        {
          "output_type": "display_data",
          "data": {
            "image/png": "[encoded data removed]",
            "text/plain": [
              "<Figure size 432x288 with 1 Axes>"
            ]
          },
          "metadata": {
            "needs_background": "light"
          }
        }
      ]
    },
    {
      "cell_type": "markdown",
      "metadata": {
        "id": "h44g_Np4Xe4D"
      },
      "source": [
        "### Train"
      ]
    },
    {
      "cell_type": "code",
      "metadata": {
        "id": "FkV5Fn9Uml9T"
      },
      "source": [
        "def transform_output(scores):\n",
        "    \"\"\"\n",
        "    Input a Tensor and output will be another Tensor with same dimension but with all elements 0 except two.\n",
        "    Those 2 elements will have value of 1 and will correspond to the models prediction about which letter and number\n",
        "    is in the image.\n",
        "    :param scores:\n",
        "    :return:\n",
        "    \"\"\"\n",
        "    return_array = []\n",
        "    score_list = scores.tolist()\n",
        "    for score in score_list:\n",
        "        numbers = score[:10]\n",
        "        letters = score[10:]\n",
        "        test = lambda x, max_value : 1 if x >= max_value else 0\n",
        "        new_numbers = [test(x, max(numbers)) for x in numbers]\n",
        "        new_letters = [test(x, max(letters)) for x in letters]\n",
        "        return_array.append(new_numbers + new_letters)\n",
        "    return return_array"
      ],
      "execution_count": 19,
      "outputs": []
    },
    {
      "cell_type": "code",
      "metadata": {
        "id": "CqAW_8O_vPxD"
      },
      "source": [
        "# Evaluation function\n",
        "def evaluate_model(model, dl):\n",
        "    accs = []\n",
        "    with torch.no_grad():\n",
        "        model.eval()\n",
        "        for i, data in enumerate(dl):\n",
        "            inputs, labels = data\n",
        "            inputs = inputs.to(device)\n",
        "            labels = labels.to(device)\n",
        "            outputs = model(inputs)\n",
        "            preds = outputs_to_preds(outputs.cpu().detach().numpy())\n",
        "            accs.append(compute_accuracy(preds, labels.cpu()))\n",
        "            break\n",
        "    return sum(accs)/len(accs)"
      ],
      "execution_count": 20,
      "outputs": []
    },
    {
      "cell_type": "code",
      "metadata": {
        "id": "koF2iFu-iqmz"
      },
      "source": [
        "# Train function\n",
        "def train(model, dataloader=train_l_dataloader, init_rounds=2):\n",
        "    criterion = nn.BCEWithLogitsLoss()\n",
        "    optimizer = torch.optim.Adam(model.parameters(), lr=LEARNING_RATE)\n",
        "    \n",
        "    for epoch in range(NUM_EPOCHS):\n",
        "        model.train()\n",
        "        running_loss = 0.0\n",
        "        \n",
        "        # Using unlabeled data\n",
        "        # if epoch >= init_rounds:\n",
        "        #     for idx, data_ul in enumerate(train_ul_dataloader):\n",
        "        #         # get data/targets\n",
        "        #         inputs_ul, targets_ul = data_ul\n",
        "        #         inputs_ul = inputs_ul.to(device)\n",
        "        #         outputs = model(inputs_ul)\n",
        "        #         fake_targets = torch.Tensor(outputs_to_predictions(outputs.cpu().detach().numpy())).to(device) # using pseudo label methods and get pseudo labels\n",
        "        #         # print(fake_targets\b[0])\n",
        "        #         optimizer.zero_grad()\n",
        "        #         outputs = model(inputs_ul)\n",
        "        #         loss = criterion(outputs, fake_targets)\n",
        "        #         loss.backward()\n",
        "        #         # optimizer.step()\n",
        "\n",
        "        for i, data in enumerate(dataloader):\n",
        "            # get data/targets\n",
        "            inputs, true_targets = data\n",
        "            inputs = inputs.to(device)\n",
        "            true_targets = true_targets.to(device)\n",
        "            # zero the parameter gradients\n",
        "            optimizer.zero_grad()\n",
        "            # forward, backward,\n",
        "            outputs = model(inputs)\n",
        "            loss = criterion(outputs, true_targets)\n",
        "            # backward\n",
        "            loss.backward()\n",
        "            # gradient descent step\n",
        "            optimizer.step()\n",
        "            # print statistics\n",
        "            running_loss += loss.item()\n",
        "            \n",
        "            acc = evaluate_model(model, dataloader)\n",
        "            if i % 100 == 99:    # print every 2000 mini-batches\n",
        "                print('Epoch %d - Loss: %.4f | Accuracy: %.4f'%(epoch+1, running_loss/i, acc))\n",
        "                running_loss = 0.0\n",
        "    \n",
        "    # DONE TRAINING\n",
        "    print('Finished Training')\n",
        "    PATH = './cnn.pth'\n",
        "    torch.save(model.state_dict(), PATH)"
      ],
      "execution_count": 21,
      "outputs": []
    },
    {
      "cell_type": "markdown",
      "metadata": {
        "id": "vPyfsZMxjW8F"
      },
      "source": [
        "### Main"
      ]
    },
    {
      "cell_type": "markdown",
      "metadata": {
        "id": "eDJ1BXz7lHw5"
      },
      "source": [
        "We ran many different tests and comapred models using our submitted scripts. Please see report for more explanation of what was done to compare models."
      ]
    },
    {
      "cell_type": "code",
      "metadata": {
        "id": "bKPJWfgkUy9e",
        "outputId": "c0991a52-dcb4-4f96-e5e1-49781ef9c433",
        "colab": {
          "base_uri": "https://localhost:8080/"
        }
      },
      "source": [
        "# Run model and evaluate\n",
        "cnn_model = AlexNet().to(device)\n",
        "if USE_UL:\n",
        "    trainloader = full_train_l_ul_dataloader if PRODUCTION else train_l_ul_dataloader\n",
        "else: # use only the original labelled training set\n",
        "    trainloader = full_train_l_dataloader if PRODUCTION else train_l_dataloader\n",
        "train(cnn_model, trainloader)\n",
        "if not PRODUCTION:\n",
        "    evaluate_model(cnn_model, val_l_dataloader)"
      ],
      "execution_count": 34,
      "outputs": [
        {
          "output_type": "stream",
          "name": "stdout",
          "text": [
            "Epoch 1 - Loss: 0.2341 | Accuracy: 0.0000\n",
            "Epoch 1 - Loss: 0.1049 | Accuracy: 0.0000\n",
            "Epoch 1 - Loss: 0.0673 | Accuracy: 0.0156\n",
            "Epoch 1 - Loss: 0.0478 | Accuracy: 0.0625\n",
            "Epoch 1 - Loss: 0.0349 | Accuracy: 0.0781\n",
            "Epoch 1 - Loss: 0.0254 | Accuracy: 0.1719\n",
            "Epoch 1 - Loss: 0.0181 | Accuracy: 0.3750\n",
            "Epoch 2 - Loss: 0.0951 | Accuracy: 0.5312\n",
            "Epoch 2 - Loss: 0.0381 | Accuracy: 0.5312\n",
            "Epoch 2 - Loss: 0.0212 | Accuracy: 0.5938\n",
            "Epoch 2 - Loss: 0.0139 | Accuracy: 0.8438\n",
            "Epoch 2 - Loss: 0.0098 | Accuracy: 0.8281\n",
            "Epoch 2 - Loss: 0.0072 | Accuracy: 0.8125\n",
            "Epoch 2 - Loss: 0.0056 | Accuracy: 0.7656\n",
            "Epoch 3 - Loss: 0.0287 | Accuracy: 0.7969\n",
            "Epoch 3 - Loss: 0.0151 | Accuracy: 0.8281\n",
            "Epoch 3 - Loss: 0.0092 | Accuracy: 0.9531\n",
            "Epoch 3 - Loss: 0.0067 | Accuracy: 0.8594\n",
            "Epoch 3 - Loss: 0.0056 | Accuracy: 0.7969\n",
            "Epoch 3 - Loss: 0.0043 | Accuracy: 0.9219\n",
            "Epoch 3 - Loss: 0.0036 | Accuracy: 0.9219\n",
            "Epoch 4 - Loss: 0.0165 | Accuracy: 0.8438\n",
            "Epoch 4 - Loss: 0.0077 | Accuracy: 0.9219\n",
            "Epoch 4 - Loss: 0.0056 | Accuracy: 0.8438\n",
            "Epoch 4 - Loss: 0.0045 | Accuracy: 0.8594\n",
            "Epoch 4 - Loss: 0.0038 | Accuracy: 0.9375\n",
            "Epoch 4 - Loss: 0.0032 | Accuracy: 0.8906\n",
            "Epoch 4 - Loss: 0.0026 | Accuracy: 0.9219\n",
            "Epoch 5 - Loss: 0.0111 | Accuracy: 0.9062\n",
            "Epoch 5 - Loss: 0.0052 | Accuracy: 0.9531\n",
            "Epoch 5 - Loss: 0.0044 | Accuracy: 0.9531\n",
            "Epoch 5 - Loss: 0.0030 | Accuracy: 0.9062\n",
            "Epoch 5 - Loss: 0.0027 | Accuracy: 0.9062\n",
            "Epoch 5 - Loss: 0.0023 | Accuracy: 0.8906\n",
            "Epoch 5 - Loss: 0.0018 | Accuracy: 1.0000\n",
            "Epoch 6 - Loss: 0.0090 | Accuracy: 0.9062\n",
            "Epoch 6 - Loss: 0.0046 | Accuracy: 0.9375\n",
            "Epoch 6 - Loss: 0.0033 | Accuracy: 0.9531\n",
            "Epoch 6 - Loss: 0.0027 | Accuracy: 0.9219\n",
            "Epoch 6 - Loss: 0.0019 | Accuracy: 0.9688\n",
            "Epoch 6 - Loss: 0.0019 | Accuracy: 0.9531\n",
            "Epoch 6 - Loss: 0.0016 | Accuracy: 0.9531\n",
            "Epoch 7 - Loss: 0.0071 | Accuracy: 0.9375\n",
            "Epoch 7 - Loss: 0.0034 | Accuracy: 0.9375\n",
            "Epoch 7 - Loss: 0.0025 | Accuracy: 0.8906\n",
            "Epoch 7 - Loss: 0.0019 | Accuracy: 0.9062\n",
            "Epoch 7 - Loss: 0.0017 | Accuracy: 0.9062\n",
            "Epoch 7 - Loss: 0.0013 | Accuracy: 0.9219\n",
            "Epoch 7 - Loss: 0.0015 | Accuracy: 0.9219\n",
            "Epoch 8 - Loss: 0.0061 | Accuracy: 0.9531\n",
            "Epoch 8 - Loss: 0.0029 | Accuracy: 0.9375\n",
            "Epoch 8 - Loss: 0.0022 | Accuracy: 0.9375\n",
            "Epoch 8 - Loss: 0.0018 | Accuracy: 0.9844\n",
            "Epoch 8 - Loss: 0.0017 | Accuracy: 1.0000\n",
            "Epoch 8 - Loss: 0.0015 | Accuracy: 0.9531\n",
            "Epoch 8 - Loss: 0.0010 | Accuracy: 0.9688\n",
            "Epoch 9 - Loss: 0.0063 | Accuracy: 0.8750\n",
            "Epoch 9 - Loss: 0.0025 | Accuracy: 0.9219\n",
            "Epoch 9 - Loss: 0.0016 | Accuracy: 0.9531\n",
            "Epoch 9 - Loss: 0.0018 | Accuracy: 0.9844\n",
            "Epoch 9 - Loss: 0.0013 | Accuracy: 0.9531\n",
            "Epoch 9 - Loss: 0.0009 | Accuracy: 0.9062\n",
            "Epoch 9 - Loss: 0.0012 | Accuracy: 0.9062\n",
            "Epoch 10 - Loss: 0.0072 | Accuracy: 0.9375\n",
            "Epoch 10 - Loss: 0.0034 | Accuracy: 0.9531\n",
            "Epoch 10 - Loss: 0.0017 | Accuracy: 0.9531\n",
            "Epoch 10 - Loss: 0.0016 | Accuracy: 0.9219\n",
            "Epoch 10 - Loss: 0.0013 | Accuracy: 1.0000\n",
            "Epoch 10 - Loss: 0.0011 | Accuracy: 0.9688\n",
            "Epoch 10 - Loss: 0.0010 | Accuracy: 0.9688\n",
            "Finished Training\n"
          ]
        }
      ]
    },
    {
      "cell_type": "code",
      "metadata": {
        "id": "IVfPGYQKjgz1"
      },
      "source": [
        "if LABELLING:\n",
        "    # Label the unlabelled dataset\n",
        "    with torch.no_grad():\n",
        "        predictions_ul = []\n",
        "        for data in train_ul_dataloader:\n",
        "            inputs = data[0].to(device)\n",
        "            targets = data[1].to(device)\n",
        "            outputs = cnn_model(inputs)\n",
        "            converted_output = outputs_to_predictions(outputs.cpu().detach().numpy())\n",
        "            for c in converted_output:\n",
        "                predictions_ul.append(c)\n",
        "\n",
        "    print(len(predictions_ul))\n",
        "    predictions_ul = np.array(predictions_ul)\n",
        "    print(type(predictions_ul))\n",
        "\n",
        "    with open('labels_ul.pkl', 'wb') as train_labels_ul_pkl:\n",
        "        pickle.dump(predictions_ul, train_labels_ul_pkl)"
      ],
      "execution_count": null,
      "outputs": []
    },
    {
      "cell_type": "markdown",
      "metadata": {
        "id": "GETLWLFJjksV"
      },
      "source": [
        "####Export predictions"
      ]
    },
    {
      "cell_type": "code",
      "metadata": {
        "id": "Ygt9NiH6jnJA",
        "colab": {
          "base_uri": "https://localhost:8080/"
        },
        "outputId": "27107000-aea5-4be5-e097-c0ba18eb67ca"
      },
      "source": [
        "# Setup CSV for predictions export\n",
        "if PRODUCTION:\n",
        "    df = pd.DataFrame(columns=['# Id', 'Category'])\n",
        "    with torch.no_grad():\n",
        "        i = 0\n",
        "        for data in test_ul_dataloader:\n",
        "            inputs = data[0].to(device)\n",
        "            targets = data[1].to(device)\n",
        "            outputs = cnn_model(inputs) # apply CNN model\n",
        "            predictions = transform_output(outputs)\n",
        "            for pred in predictions:\n",
        "                label = ''.join(str(x) for x in pred)\n",
        "                df.loc[i] = [i, label]\n",
        "                i += 1\n",
        "    print(df)"
      ],
      "execution_count": 44,
      "outputs": [
        {
          "output_type": "stream",
          "name": "stdout",
          "text": [
            "        # Id                              Category\n",
            "0          0  100000000000000000000000000001000000\n",
            "1          1  000010000000000000000100000000000000\n",
            "2          2  000000000100000000010000000000000000\n",
            "3          3  100000000000000000000100000000000000\n",
            "4          4  000000100000000000010000000000000000\n",
            "...      ...                                   ...\n",
            "14995  14995  000100000000001000000000000000000000\n",
            "14996  14996  000100000000000000000000001000000000\n",
            "14997  14997  000000100000000000000000001000000000\n",
            "14998  14998  010000000000000000100000000000000000\n",
            "14999  14999  001000000000000000001000000000000000\n",
            "\n",
            "[15000 rows x 2 columns]\n"
          ]
        }
      ]
    },
    {
      "cell_type": "code",
      "metadata": {
        "id": "WpLBxOqxjsEJ"
      },
      "source": [
        "# Export CSV for Kaggle\n",
        "from datetime import datetime\n",
        "if PRODUCTION:\n",
        "    filename = 'kaggle_g19_{}.csv'.format(datetime.now())\n",
        "    df.to_csv(filename, sep=',', float_format='{:36}', index=False)"
      ],
      "execution_count": 45,
      "outputs": []
    }
  ]
}
