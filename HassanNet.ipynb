{
  "nbformat": 4,
  "nbformat_minor": 0,
  "metadata": {
    "accelerator": "GPU",
    "colab": {
      "name": "HassanNet.ipynb",
      "provenance": [],
      "collapsed_sections": [
        "7JH0e_Sk_JUa",
        "kq7jZEGMzGAl",
        "p_tWprcE6ctj",
        "sLxhL-737xbZ"
      ],
      "include_colab_link": true
    },
    "kernelspec": {
      "display_name": "Python 3",
      "name": "python3"
    },
    "language_info": {
      "name": "python"
    }
  },
  "cells": [
    {
      "cell_type": "markdown",
      "metadata": {
        "id": "view-in-github",
        "colab_type": "text"
      },
      "source": [
        "<a href=\"https://colab.research.google.com/github/felixsimard/comp551-p3/blob/main/HassanNet.ipynb\" target=\"_parent\"><img src=\"https://colab.research.google.com/assets/colab-badge.svg\" alt=\"Open In Colab\"/></a>"
      ]
    },
    {
      "cell_type": "markdown",
      "metadata": {
        "id": "7JH0e_Sk_JUa"
      },
      "source": [
        "## Init()\n",
        "\n"
      ]
    },
    {
      "cell_type": "code",
      "metadata": {
        "id": "9sTwaI40yk4v"
      },
      "source": [
        "import torch\n",
        "import torch.nn as nn\n",
        "import torch.nn.functional as F\n",
        "import torchvision as tv\n",
        "import torchvision.transforms as transforms\n",
        "from torch.utils.data import TensorDataset, DataLoader, Dataset\n",
        "\n",
        "import matplotlib.pyplot as plt\n",
        "import numpy as np\n",
        "import pandas as pd\n",
        "import pickle\n",
        "\n",
        "from google.colab import drive\n",
        "from datetime import datetime\n",
        "from PIL import Image\n",
        "from sklearn import preprocessing\n",
        "from tqdm import tqdm\n",
        "\n",
        "import math\n",
        "import string\n",
        "import cv2"
      ],
      "execution_count": null,
      "outputs": []
    },
    {
      "cell_type": "code",
      "metadata": {
        "colab": {
          "base_uri": "https://localhost:8080/"
        },
        "id": "PI-u2q9HzCT4",
        "outputId": "f21762d6-4350-453a-c879-c41141333d82"
      },
      "source": [
        "# Device configuration\n",
        "drive.mount(\"/content/drive\")\n",
        "device = torch.device('cuda:0' if torch.cuda.is_available() else 'cpu')\n",
        "print(device)"
      ],
      "execution_count": null,
      "outputs": [
        {
          "output_type": "stream",
          "name": "stdout",
          "text": [
            "Drive already mounted at /content/drive; to attempt to forcibly remount, call drive.mount(\"/content/drive\", force_remount=True).\n",
            "cuda:0\n"
          ]
        }
      ]
    },
    {
      "cell_type": "code",
      "metadata": {
        "id": "BwcUHAuhFMaC"
      },
      "source": [
        "PATH = './cnn.pth'"
      ],
      "execution_count": null,
      "outputs": []
    },
    {
      "cell_type": "markdown",
      "metadata": {
        "id": "kq7jZEGMzGAl"
      },
      "source": [
        "## Utility Functions\n"
      ]
    },
    {
      "cell_type": "code",
      "metadata": {
        "id": "fF9bcD3pEY-O"
      },
      "source": [
        "def imshow(img):\n",
        "    img = img / 2 + 0.5     # unnormalize\n",
        "    npimg = img.numpy()\n",
        "    plt.imshow(np.transpose(npimg, (1, 2, 0)))\n",
        "    plt.show()"
      ],
      "execution_count": null,
      "outputs": []
    },
    {
      "cell_type": "code",
      "metadata": {
        "id": "4AYYcJML1KOb"
      },
      "source": [
        "def load_data(filename, data_path=\"/content/drive/MyDrive/data/\"):\n",
        "    loaded_pkl = None\n",
        "    try:\n",
        "        pkl_buffered = open(data_path+''+filename,'rb')\n",
        "        loaded_pkl = pickle.load(pkl_buffered)\n",
        "    except Exception as e:\n",
        "        print(\"Error loading data: {}\".format(e))\n",
        "    return loaded_pkl"
      ],
      "execution_count": null,
      "outputs": []
    },
    {
      "cell_type": "code",
      "metadata": {
        "id": "Bqmg8_CKcjh5"
      },
      "source": [
        "alpha_dict = dict(enumerate(string.ascii_lowercase))\n",
        "def get_label_value(labels):\n",
        "  \"\"\"\n",
        "  This function will return a string representing the label of a picture given\n",
        "  the array label as input:\n",
        "  Ex ouput: '1a', '4z' ...\n",
        "  \"\"\"\n",
        "  label_temp = labels.tolist()\n",
        "  label_temp = [int(x) for x in label_temp]\n",
        "  number = label_temp[:10].index(1)\n",
        "  letter = alpha_dict[label_temp[10:].index(1)]\n",
        "\n",
        "  return str(number) + str(letter)"
      ],
      "execution_count": null,
      "outputs": []
    },
    {
      "cell_type": "code",
      "metadata": {
        "id": "n6Lrt1pstW72"
      },
      "source": [
        "# Methods to calculate some accuracy metrics\n",
        "def convert_outputs_to_preds(outputs):\n",
        "    preds = np.empty(shape=(len(outputs), 36))\n",
        "    for i, output in enumerate(outputs):\n",
        "        pred = np.zeros(36)\n",
        "        digit_index = np.argmax(output[:11])\n",
        "        letter_index = np.argmax(output[11:]) + 11\n",
        "        pred[digit_index], pred[letter_index] = 1, 1\n",
        "        preds[i] = pred\n",
        "    return preds\n",
        "    \n",
        "def correct_digits(preds, labels):\n",
        "    return np.map((preds, labek))\n",
        "\n",
        "def correct_letters(preds, labels):\n",
        "    return np.array_equal(pred[11:],label[11:])\n",
        "\n",
        "def get_accuracy(preds, labels):\n",
        "    preds_str = convert_labels_to_strings(preds)\n",
        "    labels_str = convert_labels_to_strings(labels)\n",
        "    correct_preds = np.equal(preds_str, labels_str)\n",
        "    return correct_preds.sum() / len(labels)\n",
        "\n",
        "def check_prediction(preds, labels):\n",
        "    return np.equal(preds, labels)\n",
        "\n",
        "def print_model_weights(model):\n",
        "    for name, param in model.named_parameters():\n",
        "      print(name, param.size())    \n",
        "\n",
        "def convert_labels_to_strings(labels):\n",
        "  result = np.empty(len(labels)).astype('object')\n",
        "  for i, pred in enumerate(labels):\n",
        "    prediction = ''\n",
        "    for elem in pred:\n",
        "      prediction = prediction + str(int(elem))\n",
        "    result[i] = prediction\n",
        "  return result"
      ],
      "execution_count": null,
      "outputs": []
    },
    {
      "cell_type": "code",
      "metadata": {
        "id": "xkFH277n1kNp"
      },
      "source": [
        "# Reference: https://stackoverflow.com/questions/44429199/how-to-load-a-list-of-numpy-arrays-to-pytorch-dataset-loader\n",
        "class MyDataset(Dataset):\n",
        "    def __init__(self, data, targets=None, transform=None, transform_target=None):\n",
        "        self.data = torch.from_numpy(data).float()\n",
        "        self.targets = torch.from_numpy(targets).float() if targets is not None else None\n",
        "        self.transform = transform\n",
        "        self.transform_target = transform_target\n",
        "        \n",
        "    def __getitem__(self, index):\n",
        "        x = self.data[index]\n",
        "        y = np.zeros(36, dtype=float)# self.targets[index]\n",
        "\n",
        "        if self.targets is not None:\n",
        "            y = self.targets[index]\n",
        "        else:\n",
        "            None\n",
        "        if self.transform:\n",
        "            x = self.transform(x)\n",
        "        if self.transform_target:\n",
        "            y = self.transform_target(y)\n",
        "        \n",
        "        return x, y\n",
        "    \n",
        "    \n",
        "    def __len__(self):\n",
        "        return len(self.data)"
      ],
      "execution_count": null,
      "outputs": []
    },
    {
      "cell_type": "markdown",
      "metadata": {
        "id": "95ytdrzpzKAk"
      },
      "source": [
        "## Hyperparameters"
      ]
    },
    {
      "cell_type": "code",
      "metadata": {
        "id": "GrWiJ5IMzTzs"
      },
      "source": [
        "# Hyper-parameters\n",
        "epochs = 40\n",
        "batch_size = 64\n",
        "channels = 1\n",
        "classes = 36\n",
        "alpha = 0.001\n",
        "beta = 0.9\n",
        "gamma = 0.0001\n",
        "train_valid_split = 0.1"
      ],
      "execution_count": null,
      "outputs": []
    },
    {
      "cell_type": "markdown",
      "metadata": {
        "id": "LlmPTd1MhvSP"
      },
      "source": [
        "## Pickle Data to Numpy NDArray"
      ]
    },
    {
      "cell_type": "code",
      "metadata": {
        "id": "dQW7faTuIUvF"
      },
      "source": [
        "# loading all data\n",
        "train_features = load_data(\"images_l.pkl\")[:, None]\n",
        "train_labels = load_data(\"labels_l.pkl\")\n",
        "test = load_data(\"images_test.pkl\")[:, None]\n",
        "train_unlabelled = load_data(\"images_ul.pkl\")[:, None]\n",
        "unlabelled_f = load_data(\"unlabelled_img.pkl\")[:, None]\n",
        "unlabelled_i = load_data(\"unlabelled_labels.pkl\")[:, None].squeeze()"
      ],
      "execution_count": null,
      "outputs": []
    },
    {
      "cell_type": "code",
      "metadata": {
        "colab": {
          "base_uri": "https://localhost:8080/"
        },
        "id": "Ilsd5Pq9JKvR",
        "outputId": "3b8b6bf4-e40b-4d64-c0d6-8a0af00ae88c"
      },
      "source": [
        "print(train_features.shape, train_labels.shape, unlabelled_f.shape, unlabelled_i.shape)"
      ],
      "execution_count": null,
      "outputs": [
        {
          "output_type": "stream",
          "name": "stdout",
          "text": [
            "(30000, 1, 56, 56) (30000, 36) (16684, 1, 56, 56) (16684, 36)\n"
          ]
        }
      ]
    },
    {
      "cell_type": "code",
      "metadata": {
        "id": "UDjHE70Wk7y1",
        "colab": {
          "base_uri": "https://localhost:8080/"
        },
        "outputId": "5e6c1d64-70b4-4769-a6c9-1863e1c6fc7e"
      },
      "source": [
        "print(unlabelled_i[3].squeeze())"
      ],
      "execution_count": null,
      "outputs": [
        {
          "output_type": "stream",
          "name": "stdout",
          "text": [
            "[0. 0. 0. 1. 0. 0. 0. 0. 0. 0. 0. 0. 0. 0. 0. 0. 0. 0. 1. 0. 0. 0. 0. 0.\n",
            " 0. 0. 0. 0. 0. 0. 0. 0. 0. 0. 0. 0.]\n"
          ]
        }
      ]
    },
    {
      "cell_type": "code",
      "metadata": {
        "id": "qrz5DBpylNsW",
        "colab": {
          "base_uri": "https://localhost:8080/"
        },
        "outputId": "f84b565a-b953-47c5-cb23-34999f92da7a"
      },
      "source": [
        "print(train_labels[1])"
      ],
      "execution_count": null,
      "outputs": [
        {
          "output_type": "stream",
          "name": "stdout",
          "text": [
            "[0. 0. 0. 0. 0. 1. 0. 0. 0. 0. 0. 0. 0. 0. 0. 0. 0. 0. 0. 0. 0. 0. 0. 0.\n",
            " 0. 0. 1. 0. 0. 0. 0. 0. 0. 0. 0. 0.]\n"
          ]
        }
      ]
    },
    {
      "cell_type": "code",
      "metadata": {
        "colab": {
          "base_uri": "https://localhost:8080/"
        },
        "id": "KRmXhhEyf-71",
        "outputId": "ca0e9d5b-fdf1-4070-ebea-effeddb83fad"
      },
      "source": [
        "for data in [train_features, train_labels, train_unlabelled, test]:  \n",
        "  print(type(data) is np.ndarray)"
      ],
      "execution_count": null,
      "outputs": [
        {
          "output_type": "stream",
          "name": "stdout",
          "text": [
            "True\n",
            "True\n",
            "True\n",
            "True\n"
          ]
        }
      ]
    },
    {
      "cell_type": "markdown",
      "metadata": {
        "id": "R33l2H6jI6jx"
      },
      "source": [
        "## Training & Validation Split"
      ]
    },
    {
      "cell_type": "code",
      "metadata": {
        "colab": {
          "base_uri": "https://localhost:8080/"
        },
        "id": "bsIDoeOyaRCf",
        "outputId": "768a44ca-1886-49eb-f320-62c3ea08682d"
      },
      "source": [
        "split_index = math.floor(len(train_labels)*train_valid_split)\n",
        "\n",
        "full_train_l = train_features\n",
        "val_l = train_features[:split_index]\n",
        "train_l = train_features[split_index:]\n",
        "\n",
        "full_train_labels_l = train_labels\n",
        "val_labels_l = train_labels[:split_index]\n",
        "train_labels_l = train_labels[split_index:]\n",
        "\n",
        "print(full_train_l.shape, full_train_labels_l.shape)\n",
        "print(train_l.shape, train_labels_l.shape)\n",
        "print(val_l.shape, val_labels_l.shape)"
      ],
      "execution_count": null,
      "outputs": [
        {
          "output_type": "stream",
          "name": "stdout",
          "text": [
            "(30000, 1, 56, 56) (30000, 36)\n",
            "(27000, 1, 56, 56) (27000, 36)\n",
            "(3000, 1, 56, 56) (3000, 36)\n"
          ]
        }
      ]
    },
    {
      "cell_type": "markdown",
      "metadata": {
        "id": "Hsjy3KfFbN-0"
      },
      "source": [
        "## Image Data Augmentation (Preprocessing Part I)"
      ]
    },
    {
      "cell_type": "code",
      "metadata": {
        "colab": {
          "base_uri": "https://localhost:8080/"
        },
        "id": "4Z0HbmZF1b2F",
        "outputId": "62170ddc-4a9b-40c1-c017-5aee21a7bbeb"
      },
      "source": [
        "img_pil = train_l[1189]\n",
        "plt.hist(np.array(img_pil).ravel(), bins=20,density=True)\n",
        "plt.xlabel(\"pixel values\")\n",
        "plt.ylabel(\"relative frequency\")\n",
        "plt.title(\"distribution of pixels\")"
      ],
      "execution_count": null,
      "outputs": [
        {
          "output_type": "execute_result",
          "data": {
            "text/plain": [
              "Text(0.5, 1.0, 'distribution of pixels')"
            ]
          },
          "metadata": {},
          "execution_count": 56
        },
        {
          "output_type": "display_data",
          "data": {
            "image/png": "[encoded data removed]",
            "text/plain": [
              "<Figure size 432x288 with 1 Axes>"
            ]
          },
          "metadata": {
            "needs_background": "light"
          }
        }
      ]
    },
    {
      "cell_type": "code",
      "metadata": {
        "id": "K2FKpe5IbScU"
      },
      "source": [
        "def ImageTransformer(transforms: list)->None:\n",
        "\n",
        "  Transform = tv.transforms.Compose(transforms)\n",
        "\n",
        "  dl = DataLoader(MyDataset(train_l, train_labels_l, \n",
        "                  transform=Transform), shuffle=True, batch_size=batch_size)\n",
        "  \n",
        "  figure = plt.figure(figsize=(5,5))\n",
        "  sample_idx = torch.randint(len(dl), size=(1,)).item()\n",
        "  img = train_l[sample_idx]\n",
        "  label = get_label_value(train_labels_l[sample_idx])\n",
        "  plt.title(label)\n",
        "  plt.axis(\"off\")\n",
        "  plt.imshow(img.squeeze())"
      ],
      "execution_count": null,
      "outputs": []
    },
    {
      "cell_type": "code",
      "metadata": {
        "colab": {
          "base_uri": "https://localhost:8080/"
        },
        "id": "8sr5O39zcmNj",
        "outputId": "6be3119b-851b-498a-f847-5c398b3d5684"
      },
      "source": [
        "input = [tv.transforms.RandomHorizontalFlip(p=0.5)]\n",
        "ex = ImageTransformer(input)"
      ],
      "execution_count": null,
      "outputs": [
        {
          "output_type": "display_data",
          "data": {
            "image/png": "[encoded data removed]",
            "text/plain": [
              "<Figure size 360x360 with 1 Axes>"
            ]
          },
          "metadata": {
            "needs_background": "light"
          }
        }
      ]
    },
    {
      "cell_type": "code",
      "metadata": {
        "colab": {
          "base_uri": "https://localhost:8080/"
        },
        "id": "w_uaS_mVdDc-",
        "outputId": "d8007518-69de-4928-84ad-f68c66a0c98e"
      },
      "source": [
        "i = [         transforms.Normalize(mean=(0.5,), std=(0.5,)),\n",
        "              tv.transforms.RandomResizedCrop([56,56]),\n",
        "              tv.transforms.RandomRotation(60),\n",
        "              tv.transforms.ColorJitter(brightness=0.5, contrast=0.5, saturation=0.5, hue=0.3)]\n",
        "\n",
        "for _ in range(3): ImageTransformer(i)"
      ],
      "execution_count": null,
      "outputs": [
        {
          "output_type": "display_data",
          "data": {
            "image/png": "[encoded data removed]",
            "text/plain": [
              "<Figure size 360x360 with 1 Axes>"
            ]
          },
          "metadata": {
            "needs_background": "light"
          }
        },
        {
          "output_type": "display_data",
          "data": {
            "image/png": "[encoded data removed]",
            "text/plain": [
              "<Figure size 360x360 with 1 Axes>"
            ]
          },
          "metadata": {
            "needs_background": "light"
          }
        },
        {
          "output_type": "display_data",
          "data": {
            "image/png": "[encoded data removed]",
            "text/plain": [
              "<Figure size 360x360 with 1 Axes>"
            ]
          },
          "metadata": {
            "needs_background": "light"
          }
        }
      ]
    },
    {
      "cell_type": "code",
      "metadata": {
        "id": "myWtWG0zAdeK"
      },
      "source": [
        "# Color, brightness shift\n",
        "T1 = transforms.Compose([         transforms.Normalize(mean=(0.5,), std=(0.5,)),\n",
        "                                  tv.transforms.ColorJitter(brightness=0.5, contrast=0.5, saturation=0.5, hue=0.3)\n",
        "                                  ])\n",
        "# Random rotation, padding\n",
        "T2 = transforms.Compose([         transforms.Normalize(mean=(0.5,), std=(0.5,)),\n",
        "                                  tv.transforms.RandomRotation(45),\n",
        "                                  #transforms.Pad(25, padding_mode='symmetric')\n",
        "                                  ])\n",
        "# Random horizontal flipping\n",
        "T3 = transforms.Compose([         transforms.Normalize(mean=(0.5,), std=(0.5,)),\n",
        "                                  transforms.RandomHorizontalFlip(p=0.01),\n",
        "                                  ])\n",
        "# Randome verticle flipping\n",
        "T4 = transforms.Compose([         transforms.Normalize(mean=(0.5,), std=(0.5,)),\n",
        "                                  transforms.RandomVerticalFlip(p=0.01),\n",
        "                                  ])\n",
        "noT = transforms.Compose([         transforms.Normalize(mean=(0.5,), std=(0.5,))])"
      ],
      "execution_count": null,
      "outputs": []
    },
    {
      "cell_type": "markdown",
      "metadata": {
        "id": "FQUwa6owksmq"
      },
      "source": [
        "## Tensor DataLoader & Feature Labels (Preprocessing Part II)"
      ]
    },
    {
      "cell_type": "markdown",
      "metadata": {
        "id": "28KMoU-dCJo6"
      },
      "source": [
        "* Transforms will be applied to the dataset in the following scheme: \n",
        "   * X% of the data will be untouched\n",
        "   * The other (100-X)% will be split between 4 different image augmentations"
      ]
    },
    {
      "cell_type": "code",
      "metadata": {
        "id": "5mXAiZEgBrZO"
      },
      "source": [
        "\n",
        "# 15000: 0:3751-> 3751:7501-> 7501:11251-> 11251:15001\n",
        "\n",
        "'''d_T1 = MyDataset(train_l[0:3751], train_labels_l[0:3751], transform=T1)\n",
        "d_T2 = MyDataset(train_l[3751:7501], train_labels_l[3751:7501], transform=T2)\n",
        "d_T3 = MyDataset(train_l[7501:11251], train_labels_l[7501:11251], transform=T3)\n",
        "d_T4 = MyDataset(train_l[11251:15001], train_labels_l[11251:15001], transform=T4)\n",
        "d_noT = MyDataset(train_l[15001:30001], train_labels_l[15001:30001], transform=noT)'''\n",
        "\n",
        "# 7500: 0:1876->  1876:3751-> 3751:5626 -> 5626:7501 \n",
        "\n",
        "d_T1 = MyDataset(train_l[0:6], train_labels_l[0:6], transform=T1)\n",
        "d_T2 = MyDataset(train_l[6:11], train_labels_l[6:11], transform=T2)\n",
        "d_T3 = MyDataset(train_l[11:16], train_labels_l[11:16], transform=T3)\n",
        "d_T4 = MyDataset(train_l[16:21], train_labels_l[16:211], transform=T4)\n",
        "d_noT = MyDataset(train_l[21:30001], train_labels_l[21:30001], transform=noT)\n",
        "d_extra = MyDataset(unlabelled_f, unlabelled_i, transform=noT)\n",
        "\n",
        "# concatenate all the datasets\n",
        "training_full = torch.utils.data.ConcatDataset([d_T1, d_T2, d_T3, d_T4, d_noT, d_extra])"
      ],
      "execution_count": null,
      "outputs": []
    },
    {
      "cell_type": "code",
      "metadata": {
        "id": "QkylO2dBofPg",
        "colab": {
          "base_uri": "https://localhost:8080/"
        },
        "outputId": "87d9c7c5-ce21-46d5-f296-229393ee8d07"
      },
      "source": [
        "# DataLoaders\n",
        "all_training = DataLoader(MyDataset(full_train_l, full_train_labels_l, \n",
        "                                                   transform=None), shuffle=True, batch_size=batch_size)\n",
        "training = DataLoader(training_full, shuffle=False, batch_size=batch_size)\n",
        "validation = DataLoader(MyDataset(val_l, val_labels_l, \n",
        "                                                   transform=None), shuffle=True)\n",
        "\n",
        "# TODO: add unlabelled training data\n",
        "\n",
        "# Test set for Kaggle\n",
        "test_labels_ul = np.zeros(len(test))\n",
        "testing = DataLoader(MyDataset(test, test_labels_ul, \n",
        "                                                    transform=None), batch_size=batch_size, shuffle=False)\n",
        "\n",
        "print(len(all_training)*batch_size,len(training)*batch_size, len(testing)*batch_size)"
      ],
      "execution_count": null,
      "outputs": [
        {
          "output_type": "stream",
          "name": "stdout",
          "text": [
            "30016 43712 15040\n"
          ]
        }
      ]
    },
    {
      "cell_type": "code",
      "metadata": {
        "id": "JpCWBkYbEThr",
        "colab": {
          "base_uri": "https://localhost:8080/"
        },
        "outputId": "ba31d329-eeae-46d8-f392-ca96b2052558"
      },
      "source": [
        "imgs, labels = next(iter(training))\n",
        "\n",
        "imshow(tv.utils.make_grid(imgs.cpu()))"
      ],
      "execution_count": null,
      "outputs": [
        {
          "output_type": "stream",
          "name": "stderr",
          "text": [
            "Clipping input data to the valid range for imshow with RGB data ([0..1] for floats or [0..255] for integers).\n"
          ]
        },
        {
          "output_type": "display_data",
          "data": {
            "image/png": "[encoded data removed]",
            "text/plain": [
              "<Figure size 432x288 with 1 Axes>"
            ]
          },
          "metadata": {
            "needs_background": "light"
          }
        }
      ]
    },
    {
      "cell_type": "markdown",
      "metadata": {
        "id": "p_tWprcE6ctj"
      },
      "source": [
        "## CNN (AlexNet)"
      ]
    },
    {
      "cell_type": "code",
      "metadata": {
        "id": "KZZK-d-jnhE3"
      },
      "source": [
        "class CNN(nn.Module):\n",
        "    def __init__(self, in_channels=channels, num_classes=classes):\n",
        "        super().__init__() # invoke the parent constructor\n",
        "        self.in_channels = in_channels\n",
        "        self.num_classes = num_classes\n",
        "        self.conv_block1 = nn.Sequential(\n",
        "            nn.Conv2d(self.in_channels, 32, kernel_size=5, padding=2), # (b_sz, 1, 56, 56) --> (b_sz, 16, 56, 56)\n",
        "            nn.MaxPool2d(2), # (b_sz, 32, 56, 56) --> (b_sz, 32, 28, 28)\n",
        "            nn.BatchNorm2d(32),\n",
        "            nn.ReLU()\n",
        "        )\n",
        "        self.conv_block2 = nn.Sequential(\n",
        "            nn.Conv2d(32, 64, kernel_size=3, padding=1), # (b_sz, 32, 28, 28) --> (b_sz, 64, 28, 28)\n",
        "            nn.MaxPool2d(2), # (b_sz, 64, 28, 28) --> (b_sz, 64, 14, 14)\n",
        "            nn.BatchNorm2d(64),\n",
        "            nn.ReLU()\n",
        "        )\n",
        "        self.conv_block3 = nn.Sequential(\n",
        "            nn.Conv2d(64, 128, kernel_size=3, padding=1), # (b_sz, 64, 14, 14) --> (b_sz, 128, 14, 14)\n",
        "            #nn.MaxPool2d(2), # (b_sz, 128, 14, 14) --> (b_sz, 128, 7, 7)\n",
        "            nn.BatchNorm2d(128),\n",
        "            nn.ReLU()\n",
        "        )\n",
        "        self.conv_block4 = nn.Sequential(\n",
        "            nn.Conv2d(128, 84, kernel_size=3, padding=1), # (b_sz, 128, 14, 14) --> (b_sz, 84, 14, 14)\n",
        "            nn.BatchNorm2d(84),\n",
        "            nn.ReLU(),\n",
        "            nn.Conv2d(84, 84, kernel_size=3, padding=1), # (b_sz, 84, 14, 14) --> (b_sz, 84, 14, 14),\n",
        "            nn.BatchNorm2d(84),\n",
        "            nn.ReLU()\n",
        "        )\n",
        "        self.maxpool = nn.AdaptiveMaxPool2d(output_size=(6, 6))\n",
        "        self.dense_block = nn.Sequential(\n",
        "            nn.Dropout(p=0.5),\n",
        "            nn.Linear(84*6*6, 1512),\n",
        "            nn.BatchNorm1d(1512),\n",
        "            nn.ReLU(),\n",
        "            nn.Dropout(p=0.5),\n",
        "            nn.Linear(1512, 1512),\n",
        "            nn.BatchNorm1d(1512),\n",
        "            nn.ReLU(),\n",
        "            nn.Linear(1512, self.num_classes)\n",
        "        )\n",
        "    \n",
        "    def forward(self, x):\n",
        "        x = self.conv_block1(x)\n",
        "        x = self.conv_block2(x)\n",
        "        x = self.conv_block3(x)\n",
        "        x = self.conv_block4(x)\n",
        "        x = self.maxpool(x)\n",
        "        x = x.view(x.size()[0], -1)\n",
        "        x = self.dense_block(x)\n",
        "        return x"
      ],
      "execution_count": null,
      "outputs": []
    },
    {
      "cell_type": "markdown",
      "metadata": {
        "id": "MQlw2uIH62gf"
      },
      "source": [
        "## Training & Evaluation Method"
      ]
    },
    {
      "cell_type": "code",
      "metadata": {
        "id": "1I-kZSmTdPpo"
      },
      "source": [
        "# Train function\n",
        "def train(model, dataloader=training):\n",
        "\n",
        "    criterion = nn.BCEWithLogitsLoss()\n",
        "    optimizer = torch.optim.Adam(model.parameters(), lr=alpha)\n",
        "\n",
        "    for epoch in range(epochs):\n",
        "      running_loss = 0.0\n",
        "      model.train()\n",
        "      for i, (inputs, targets) in enumerate(dataloader):\n",
        "        inputs, targets = inputs.to(device), targets.to(device)\n",
        "        optimizer.zero_grad()\n",
        "        outputs = model(inputs)\n",
        "        loss = criterion(outputs,targets)\n",
        "\n",
        "        loss.backward()\n",
        "        optimizer.step()\n",
        "        running_loss += loss.item()\n",
        "        acc, acc_d, acc_l = eval_model(model, dataloader)\n",
        "        if i % 500 == 499:\n",
        "          print('[epoch %d] loss: %.3f, acc: %.3f, digit_acc: %.3f, letter_acc: %.3f'%(epoch+1, running_loss/500, acc, acc_d, acc_l))\n",
        "          running_loss = 0.0\n",
        "    \n",
        "    # DONE TRAINING\n",
        "    print('Finished Training')\n",
        "    torch.save(model.state_dict(), PATH)"
      ],
      "execution_count": null,
      "outputs": []
    },
    {
      "cell_type": "code",
      "metadata": {
        "id": "Ma7Tlc5BerLe"
      },
      "source": [
        "# Evaluation function\n",
        "def eval_model(model, dl):\n",
        "    accs, accs_d, accs_l = [], [], []\n",
        "    with torch.no_grad():\n",
        "        model.eval()\n",
        "        for i, data in enumerate(dl):\n",
        "            inputs, labels = data\n",
        "            inputs = inputs.to(device)\n",
        "            labels = labels.to(device)\n",
        "            outputs = model(inputs)\n",
        "            preds = convert_outputs_to_preds(outputs.cpu().detach().numpy())\n",
        "            preds_d = preds[:, :11]\n",
        "            preds_l = preds[:, 11:]\n",
        "            labels_d = labels[:, :11]\n",
        "            labels_l = labels[:, 11:]\n",
        "            accs.append(get_accuracy(preds, labels.cpu()))\n",
        "            accs_d.append(get_accuracy(preds_d, labels_d.cpu()))\n",
        "            accs_l.append(get_accuracy(preds_l, labels_l.cpu()))\n",
        "            break\n",
        "    return sum(accs)/len(accs), sum(accs_d)/len(accs_d), sum(accs_l)/len(accs_l)"
      ],
      "execution_count": null,
      "outputs": []
    },
    {
      "cell_type": "markdown",
      "metadata": {
        "id": "sLxhL-737xbZ"
      },
      "source": [
        "## Testing"
      ]
    },
    {
      "cell_type": "code",
      "metadata": {
        "id": "IyZ_vYDKKFnf"
      },
      "source": [
        "def transform_output(scores):\n",
        "    \"\"\"\n",
        "    Input a Tensor and output will be another Tensor with same dimension but with all elements 0 except two.\n",
        "    Those 2 elements will have value of 1 and will correspond to the models prediction about which letter and number\n",
        "    is in the image.\n",
        "    :param scores:\n",
        "    :return:\n",
        "    \"\"\"\n",
        "    return_array = []\n",
        "    score_list = scores.tolist()\n",
        "\n",
        "    for score in score_list:\n",
        "        numbers = score[:10]\n",
        "        letters = score[10:]\n",
        "        test = lambda x, max_value : 1 if x >= max_value else 0\n",
        "\n",
        "        new_numbers = [test(x, max(numbers)) for x in numbers]\n",
        "        new_letters = [test(x, max(letters)) for x in letters]\n",
        "\n",
        "        return_array.append(new_numbers + new_letters)\n",
        "\n",
        "    return return_array"
      ],
      "execution_count": null,
      "outputs": []
    },
    {
      "cell_type": "markdown",
      "metadata": {
        "id": "CRB8M3cn8QB5"
      },
      "source": [
        "## Main()"
      ]
    },
    {
      "cell_type": "code",
      "metadata": {
        "id": "VyksURiHgypn"
      },
      "source": [
        "cnn = CNN().to(device)\n",
        "train(cnn)"
      ],
      "execution_count": null,
      "outputs": []
    },
    {
      "cell_type": "code",
      "metadata": {
        "id": "eSW4xjSqKAGG"
      },
      "source": [
        "eval_model(cnn, validation)"
      ],
      "execution_count": null,
      "outputs": []
    },
    {
      "cell_type": "code",
      "metadata": {
        "id": "c2h5Dzgct_vp",
        "colab": {
          "base_uri": "https://localhost:8080/",
          "height": 419
        },
        "outputId": "b4736ec1-8d7f-4532-9e06-d04e0dad02e6"
      },
      "source": [
        "df = pd.DataFrame(columns=['# Id', 'Category'])\n",
        "#device = torch.device('cpu')\n",
        "with torch.no_grad():\n",
        "    i = 0\n",
        "    for inputs, targets in testing:\n",
        "        inputs = inputs.to(device) \n",
        "        targets = targets.to(device)\n",
        "        outputs = cnn(inputs)\n",
        "        predictions = transform_output(outputs)\n",
        "        for pred in predictions:\n",
        "            label = ''.join(str(x) for x in pred)\n",
        "            df.loc[i] = [i, label]\n",
        "            i += 1\n",
        "\n",
        "df = df.iloc[:15001]\n",
        "\n",
        "df"
      ],
      "execution_count": null,
      "outputs": [
        {
          "output_type": "execute_result",
          "data": {
            "text/html": [
              "<div>\n",
              "<style scoped>\n",
              "    .dataframe tbody tr th:only-of-type {\n",
              "        vertical-align: middle;\n",
              "    }\n",
              "\n",
              "    .dataframe tbody tr th {\n",
              "        vertical-align: top;\n",
              "    }\n",
              "\n",
              "    .dataframe thead th {\n",
              "        text-align: right;\n",
              "    }\n",
              "</style>\n",
              "<table border=\"1\" class=\"dataframe\">\n",
              "  <thead>\n",
              "    <tr style=\"text-align: right;\">\n",
              "      <th></th>\n",
              "      <th># Id</th>\n",
              "      <th>Category</th>\n",
              "    </tr>\n",
              "  </thead>\n",
              "  <tbody>\n",
              "    <tr>\n",
              "      <th>0</th>\n",
              "      <td>0</td>\n",
              "      <td>000010000000100000000000000000000000</td>\n",
              "    </tr>\n",
              "    <tr>\n",
              "      <th>1</th>\n",
              "      <td>1</td>\n",
              "      <td>000010000000000000000000000001000000</td>\n",
              "    </tr>\n",
              "    <tr>\n",
              "      <th>2</th>\n",
              "      <td>2</td>\n",
              "      <td>000001000000000010000000000000000000</td>\n",
              "    </tr>\n",
              "    <tr>\n",
              "      <th>3</th>\n",
              "      <td>3</td>\n",
              "      <td>100000000000000000000100000000000000</td>\n",
              "    </tr>\n",
              "    <tr>\n",
              "      <th>4</th>\n",
              "      <td>4</td>\n",
              "      <td>000001000000000000000000100000000000</td>\n",
              "    </tr>\n",
              "    <tr>\n",
              "      <th>...</th>\n",
              "      <td>...</td>\n",
              "      <td>...</td>\n",
              "    </tr>\n",
              "    <tr>\n",
              "      <th>14995</th>\n",
              "      <td>14995</td>\n",
              "      <td>000100000000001000000000000000000000</td>\n",
              "    </tr>\n",
              "    <tr>\n",
              "      <th>14996</th>\n",
              "      <td>14996</td>\n",
              "      <td>000100000000000000000000100000000000</td>\n",
              "    </tr>\n",
              "    <tr>\n",
              "      <th>14997</th>\n",
              "      <td>14997</td>\n",
              "      <td>000000100000000000000000001000000000</td>\n",
              "    </tr>\n",
              "    <tr>\n",
              "      <th>14998</th>\n",
              "      <td>14998</td>\n",
              "      <td>100000000000000000000100000000000000</td>\n",
              "    </tr>\n",
              "    <tr>\n",
              "      <th>14999</th>\n",
              "      <td>14999</td>\n",
              "      <td>001000000000000000001000000000000000</td>\n",
              "    </tr>\n",
              "  </tbody>\n",
              "</table>\n",
              "<p>15000 rows × 2 columns</p>\n",
              "</div>"
            ],
            "text/plain": [
              "        # Id                              Category\n",
              "0          0  000010000000100000000000000000000000\n",
              "1          1  000010000000000000000000000001000000\n",
              "2          2  000001000000000010000000000000000000\n",
              "3          3  100000000000000000000100000000000000\n",
              "4          4  000001000000000000000000100000000000\n",
              "...      ...                                   ...\n",
              "14995  14995  000100000000001000000000000000000000\n",
              "14996  14996  000100000000000000000000100000000000\n",
              "14997  14997  000000100000000000000000001000000000\n",
              "14998  14998  100000000000000000000100000000000000\n",
              "14999  14999  001000000000000000001000000000000000\n",
              "\n",
              "[15000 rows x 2 columns]"
            ]
          },
          "metadata": {},
          "execution_count": 33
        }
      ]
    },
    {
      "cell_type": "code",
      "metadata": {
        "id": "NUUV0rFNrEWj"
      },
      "source": [
        "def makeMyCSV(dataf: pd.DataFrame)->None:\n",
        "  filename = 'kaggle_g19_{}.csv'.format(datetime.now())\n",
        "  dataf.to_csv(filename, sep=',', float_format='{:36}', index=False)\n",
        "\n",
        "makeMyCSV(df)"
      ],
      "execution_count": null,
      "outputs": []
    }
  ]
}